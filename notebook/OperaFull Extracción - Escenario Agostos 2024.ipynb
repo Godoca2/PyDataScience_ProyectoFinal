{
 "cells": [
  {
   "cell_type": "markdown",
   "metadata": {},
   "source": [
    "## Propuesta del Proyecto: \n",
    "\n",
    "### Objetivos:\n",
    "\n",
    "* Desarrollar un método robusto para la detección y filtrado de outliers que mejore la calidad de los datos.\n",
    "\n",
    "* Implementar un flujo de trabajo reproducible y transparente que permita una validación y revisión cruzada.\n",
    "\n",
    "Desafío: La extracción de salmueras requiere un balance cuidadoso entre la maximización de la producción y la preservación del ecosistema del salar. Las operaciones en el Salar de Atacama enfrentan el reto constante de pronosticar con precisión el flujo y la concentración de iones en los pozos de extracción. Estos pronósticos son cruciales para la planificación operativa y la toma de decisiones estratégicas a corto y largo plazo.\n",
    "\n",
    "Necesidad de Mejora: Recientemente se ha identificado una necesidad crítica de mejorar la trazabilidad y reproducibilidad de los Escenarios de Oferta, que son pronósticos semestrales utilizados para la planificación operativa y estratégica. Las deficiencias en la metodología actual han llevado a decisiones basadas en datos que a veces carecen de la rigurosidad necesaria, poniendo en riesgo la eficacia de la gestión de recursos hídricos.\n",
    "\n",
    "Proyecto Actual: En respuesta a esta necesidad, se propone fortalecer el análisis de datos y la modelación hidrológica. El enfoque está en la aplicación de técnicas avanzadas de detección de outliers y análisis de datos para asegurar que la información utilizada en los modelos predictivos sea de la más alta calidad, mejorando así la precisión y fiabilidad de los Escenarios de Oferta.\n",
    "\n",
    "Meta del Proyecto: El objetivo es desarrollar y validar un proceso mejorado para la detección de outliers, lo que resultará en un conjunto de datos optimizado para el modelado predictivo. Este proceso deberá ser transparente, reproducible y fácilmente revisable, garantizando así la integridad y la confianza en las decisiones estratégicas tomadas sobre la base de estos datos.\n",
    "\n",
    "\n",
    "\n"
   ]
  },
  {
   "cell_type": "markdown",
   "metadata": {},
   "source": [
    "Preparación de los datos\n",
    "\n",
    "La información en la cual se basa el pronóstico de caudales, para el periodo septiembre 2023 a septiembre 2025, corresponde a los caudales históricos observados en pozos de producción. Estos datos reales, proporcionados por TEST01, cubren entre enero 2014 a agosto 2023. Pozos adicionales utilizados se proyectan según resultados de escenario E110. En total se utilizaron datos de 444 pozos, pertenecientes a 4 sistemas (Litio Directo, MOP AS, MOP BS y Porteo).\n",
    "\n",
    "Si bien es parte del procedimiento que las series temporales sean procesadas, aplicando filtros que eliminen datos anómalos (outliers) y exceso de ruido (esto con la finalidad de obtener tendencias principales que puedan proyectarse); en esta oportunidad los datos de entrada filtrados y procesados, fueron entregados por TEST01.\n",
    "\n",
    "No obstante, en un proceso completo que considera la BBDD global de caudales reales, en cual se realice el proceso de limpieza, se debe considerar una serie de análisis estadísticos y distribución de datos, tanto de la serie completa como por tramos que identifique anomalías, ruido en las series y otros comportamientos relevantes a discriminar. La secuencia general de este procedimiento debe considerar:\n",
    "\n",
    "1.- Recopilación de datos: Utilizando la BBDD de caudales reales, proveniente de TEST01 (Caudales “Opera”), se deben recopilar todos los datos de la serie temporal de forma completa y precisa. asegurándose de que los datos, fuentes y unidades sean consistentes entre si (por ej. caudales efectivos por día bombeados)\n",
    "\n",
    "2.- Identificación de valores atípicos: Análisis de los datos a través de técnicas estadísticas, como gráficos de caja y diagramas de dispersión, para identificar valores atípicos. Estos valores pueden distorsionar los análisis posteriores y generar sobreestimación de errores en ajustes, por lo que es importante tratarlos adecuadamente y filtrarlos cuando corresponda (en esta etapa pueden incluirse tanto valores atípicos, caudales nulos, como caudales negativos que se aprecian en la BBDD bruta de caudales)\n",
    "\n",
    "3.- Suavizado de la serie temporal: El ruido en las series temporales es un problema para los ajustes de los datos por medios de modelos o enfoques analíticos, pues las variaciones aleatorias en los datos difícilmente pueden ser replicadas y representadas en tendencias proyectadas, y a su vez aumentan innecesariamente el error en ajustes posteriores. Aplicar técnicas de suavizado, como promedios móviles o suavizado exponencial, para eliminar el ruido y las variaciones aleatorias en los datos, facilitará la identificación de patrones de comportamiento que tengan coherencia con la tendencia esperada de los datos.\n",
    "\n",
    "4.- Detección de patrones anómalos: Estos patrones pueden incluir ascensos de caudal por periodos cortos, peaks que escapan de la tendencia histórica, u otras anomalías. Es importante buscar y filtrar patrones anómalos o comportamientos inusuales en la serie temporal. Esto puede implicar el uso de técnicas de anomalías o análisis de tendencias, que posteriormente puedan no ser consideradas para la proyección de caudales\n",
    "\n",
    "5.- Verificación de consistencia y cambios de tendencias temporales recientes: Por último, dado que hay antecedentes de que ciertos pozos pueden tener cambios de bombeos asociados a una nueva regla operacional, que en ciertos casos pueden implicar un aumento o disminución de tasas de bombeo; que, a su vez, marquen una nueva tendencia o comportamiento a considerar. En estos casos, es importante asegurarse de que los datos del último periodo representen esta nueva tendencia por un periodo dado de tiempo (por ej. dos meses al menos) y no sea parte de mediciones o valores atípicos. Esto es esencial para que futuras proyecciones se ajusten a comportamientos reales de pozos y no tendencias desactualizadas\n",
    "\n",
    "\n",
    "\n",
    "\n"
   ]
  },
  {
   "cell_type": "markdown",
   "metadata": {},
   "source": [
    "### Mapa de Proceso\n",
    "\n",
    "### Para este ejercicio solo llegaremos hasta la etapa II\n",
    "\n",
    "\n",
    "<div>\n",
    "<img src=\"https://github.com/Godoca2/PyDataScience_ProyectoFinal/blob/main/Image/Mapa_de_Proceso.jpg?raw=true\" width=\"1000\"/>\n",
    "</div>\n",
    "\n"
   ]
  },
  {
   "cell_type": "markdown",
   "metadata": {},
   "source": [
    "### Script de Limpieza para información de caudales brutos operacionales"
   ]
  },
  {
   "cell_type": "markdown",
   "metadata": {},
   "source": [
    "### 1.- Importación de archivo 'OperaFull extracción_hyper.csv'\n",
    "\n",
    "\n",
    "Información de Campos:\n",
    "\n",
    "* CaudalInstantaneo    \n",
    "* CaudalMedio\n",
    "* Densidad             \n",
    "* Destino              \n",
    "* FechaMedicionUTS     \n",
    "* FechaMedicion\n",
    "* HorasEstimadas       \n",
    "* Horas                \n",
    "* HorometroFinal       \n",
    "* HorometroIncial\n",
    "* H3BO3\n",
    "* Cl_pct \n",
    "* Ca_pct     \n",
    "* Li_pct               \n",
    "* Mg_pct               \n",
    "* Na_pct\n",
    "* k_pct \n",
    "* S04_pct\n",
    "* SatK                \n",
    "* Número de registros  \n",
    "* Observacion          \n",
    "* Origen          \n",
    "* Validez              \n",
    "* VolumenEstimado      \n",
    "* VolumenFinal         \n",
    "* VolumenInicial       \n",
    "* Volumen              \n",
    "      "
   ]
  },
  {
   "cell_type": "code",
   "execution_count": 20,
   "metadata": {},
   "outputs": [],
   "source": [
    "import pandas as pd\n",
    "import numpy as np\n",
    "import matplotlib.pyplot as plt\n",
    "import seaborn as sns\n",
    "import matplotlib.dates as mdates\n",
    "from IPython.display import display\n",
    "import gdown"
   ]
  },
  {
   "cell_type": "markdown",
   "metadata": {},
   "source": [
    "#### Modularizacion Script para refactorizar el código"
   ]
  },
  {
   "cell_type": "code",
   "execution_count": 21,
   "metadata": {},
   "outputs": [
    {
     "name": "stderr",
     "output_type": "stream",
     "text": [
      "Downloading...\n",
      "From (original): https://drive.google.com/uc?export=download&id=1v00pR_Ww7_qZx8mtZjb-5NW-m9lT6uuV\n",
      "From (redirected): https://drive.google.com/uc?export=download&id=1v00pR_Ww7_qZx8mtZjb-5NW-m9lT6uuV&confirm=t&uuid=e9f19bd2-944b-46c7-b337-7749aa78a63b\n",
      "To: c:\\Entorno_Desarrollo_UDD\\PyDataScience_ProyectoFinal\\notebook\\GV_OperaFull_Escenario_2024.csv\n",
      "100%|██████████| 129M/129M [00:11<00:00, 11.1MB/s] \n"
     ]
    },
    {
     "name": "stdout",
     "output_type": "stream",
     "text": [
      "          Origen         Destino    FechaMedicion  VolumenInicial  \\\n",
      "0       ARPES-01  Canaleta Arpes  01-01-2014 9:01         75447.0   \n",
      "1       ARPES-01  Canaleta Arpes  02-01-2014 9:06         76219.0   \n",
      "2       ARPES-01  Canaleta Arpes  03-01-2014 9:11         76860.0   \n",
      "3       ARPES-01  Canaleta Arpes  04-01-2014 9:15         77502.0   \n",
      "4       ARPES-01  Canaleta Arpes  05-01-2014 9:20         78144.0   \n",
      "...          ...             ...              ...             ...   \n",
      "814969   XP17-05           PDA-4  28-02-2024 9:14         55342.0   \n",
      "814970   XP17-05           PDA-4  29-02-2024 9:19         55397.0   \n",
      "814971   XP17-05           PDA-4  01-03-2024 9:24         55444.0   \n",
      "814972   XP17-05           PDA-4  02-03-2024 9:30         55499.0   \n",
      "814973   XP17-05           PDA-4  03-03-2024 9:02         55515.0   \n",
      "\n",
      "        VolumenFinal  Volumen  HorometroIncial  HorometroFinal  Horas  \\\n",
      "0            76219.0    772.0          9185.01         9213.81  28.80   \n",
      "1            76860.0    641.0          9213.81         9237.08  23.27   \n",
      "2            77502.0    642.0          9237.08         9261.08  24.00   \n",
      "3            78144.0    642.0          9261.08         9285.08  24.00   \n",
      "4            78789.0    645.0          9285.08         9309.09  24.01   \n",
      "...              ...      ...              ...             ...    ...   \n",
      "814969       55397.0     55.0         36084.27        36109.91  25.64   \n",
      "814970       55444.0     47.0         36109.91        36132.96  23.05   \n",
      "814971       55499.0     55.0         36132.96        36157.69  24.73   \n",
      "814972       55515.0     16.0         36157.69        36184.16  26.47   \n",
      "814973       55531.0     16.0         36184.16        36207.58  23.42   \n",
      "\n",
      "        CaudalInstantaneo  ...  Ca_pct  S04_pct  Li_pct  Cl_pct  Densidad  \\\n",
      "0                    26.0  ...   0.300    0.090   0.610   19.20      1.23   \n",
      "1                    26.0  ...   0.300    0.090   0.610   19.20      1.23   \n",
      "2                    26.0  ...   0.300    0.090   0.610   19.20      1.23   \n",
      "3                    26.0  ...   0.300    0.090   0.610   19.20      1.23   \n",
      "4                    27.0  ...   0.300    0.090   0.610   19.20      1.23   \n",
      "...                   ...  ...     ...      ...     ...     ...       ...   \n",
      "814969                2.2  ...   0.269    0.156   0.137   17.25      1.22   \n",
      "814970                1.8  ...   0.269    0.156   0.137   17.25      1.22   \n",
      "814971                0.8  ...   0.269    0.156   0.137   17.25      1.22   \n",
      "814972                0.5  ...   0.269    0.156   0.137   17.25      1.22   \n",
      "814973                1.2  ...   0.269    0.156   0.137   17.25      1.22   \n",
      "\n",
      "        H3BO3    SatK  VolumenEstimado  HorasEstimadas  FechaMedicionUTS  \n",
      "0        0.32  83.890            772.0           28.80      1.388567e+09  \n",
      "1        0.32  83.890            641.0           23.27      1.388654e+09  \n",
      "2        0.32  83.890            642.0           24.00      1.388740e+09  \n",
      "3        0.32  83.890            642.0           24.00      1.388827e+09  \n",
      "4        0.32  83.890            645.0           24.01      1.388914e+09  \n",
      "...       ...     ...              ...             ...               ...  \n",
      "814969   0.19  52.701             55.0           25.64      1.709112e+09  \n",
      "814970   0.19  52.701             47.0           23.05      1.709198e+09  \n",
      "814971   0.19  52.701             55.0           24.73      1.709285e+09  \n",
      "814972   0.19  52.701             16.0           26.47      1.709372e+09  \n",
      "814973   0.19  52.701             16.0           23.42      1.709457e+09  \n",
      "\n",
      "[814974 rows x 26 columns]\n"
     ]
    }
   ],
   "source": [
    "# Enlace de Google Drive\n",
    "view_url = 'https://drive.google.com/file/d/1v00pR_Ww7_qZx8mtZjb-5NW-m9lT6uuV/view?usp=sharing'\n",
    "\n",
    "# Obtener el ID del archivo de Google Drive\n",
    "file_id = view_url.split('/')[5]\n",
    "\n",
    "# Crear la URL directa\n",
    "direct_url = f\"https://drive.google.com/uc?export=download&id={file_id}\"\n",
    "\n",
    "# Descargar el archivo usando gdown\n",
    "output = 'GV_OperaFull_Escenario_2024.csv'\n",
    "gdown.download(direct_url, output, quiet=False)\n",
    "\n",
    "# Cargar el archivo CSV con pandas\n",
    "def load_csv_data(file_path: str) -> pd.DataFrame:\n",
    "    \"\"\"\n",
    "    Cargar datos desde un archivo CSV con un delimitador especificado, manejar tipos de datos mixtos,\n",
    "    y convertir valores numéricos con coma como separador decimal a float.\n",
    "    \n",
    "    Args:\n",
    "        file_path (str): La ruta al archivo CSV.\n",
    "        \n",
    "    Returns:\n",
    "        pd.DataFrame: Dataframe que contiene los datos.\n",
    "    \"\"\"\n",
    "    # Leer el archivo CSV con el delimitador ';' y manejar tipos de datos mixtos\n",
    "    df = pd.read_csv(file_path, delimiter=';', on_bad_lines='skip', low_memory=False)\n",
    "    \n",
    "    # Reemplazar comas por puntos en todas las columnas\n",
    "    df = df.apply(lambda x: x.str.replace(',', '.') if x.dtype == 'object' else x)\n",
    "    \n",
    "    # Convertir las columnas a tipos numéricos donde sea posible\n",
    "    df = df.apply(pd.to_numeric, errors='ignore')\n",
    "    \n",
    "    return df\n",
    "\n",
    "# Cargar el archivo CSV descargado\n",
    "df_train = load_csv_data(output)\n",
    "\n",
    "# Mostrar el dataframe\n",
    "print(df_train)\n",
    "\n"
   ]
  },
  {
   "cell_type": "code",
   "execution_count": 22,
   "metadata": {},
   "outputs": [
    {
     "data": {
      "text/html": [
       "<div>\n",
       "<style scoped>\n",
       "    .dataframe tbody tr th:only-of-type {\n",
       "        vertical-align: middle;\n",
       "    }\n",
       "\n",
       "    .dataframe tbody tr th {\n",
       "        vertical-align: top;\n",
       "    }\n",
       "\n",
       "    .dataframe thead th {\n",
       "        text-align: right;\n",
       "    }\n",
       "</style>\n",
       "<table border=\"1\" class=\"dataframe\">\n",
       "  <thead>\n",
       "    <tr style=\"text-align: right;\">\n",
       "      <th></th>\n",
       "      <th>Origen</th>\n",
       "      <th>Destino</th>\n",
       "      <th>FechaMedicion</th>\n",
       "      <th>VolumenInicial</th>\n",
       "      <th>VolumenFinal</th>\n",
       "      <th>Volumen</th>\n",
       "      <th>HorometroIncial</th>\n",
       "      <th>HorometroFinal</th>\n",
       "      <th>Horas</th>\n",
       "      <th>CaudalInstantaneo</th>\n",
       "      <th>...</th>\n",
       "      <th>Ca_pct</th>\n",
       "      <th>S04_pct</th>\n",
       "      <th>Li_pct</th>\n",
       "      <th>Cl_pct</th>\n",
       "      <th>Densidad</th>\n",
       "      <th>H3BO3</th>\n",
       "      <th>SatK</th>\n",
       "      <th>VolumenEstimado</th>\n",
       "      <th>HorasEstimadas</th>\n",
       "      <th>FechaMedicionUTS</th>\n",
       "    </tr>\n",
       "  </thead>\n",
       "  <tbody>\n",
       "    <tr>\n",
       "      <th>0</th>\n",
       "      <td>ARPES-01</td>\n",
       "      <td>Canaleta Arpes</td>\n",
       "      <td>01-01-2014 9:01</td>\n",
       "      <td>75447.0</td>\n",
       "      <td>76219.0</td>\n",
       "      <td>772.0</td>\n",
       "      <td>9185.01</td>\n",
       "      <td>9213.81</td>\n",
       "      <td>28.80</td>\n",
       "      <td>26.0</td>\n",
       "      <td>...</td>\n",
       "      <td>0.3</td>\n",
       "      <td>0.09</td>\n",
       "      <td>0.61</td>\n",
       "      <td>19.2</td>\n",
       "      <td>1.23</td>\n",
       "      <td>0.32</td>\n",
       "      <td>83.89</td>\n",
       "      <td>772.0</td>\n",
       "      <td>28.80</td>\n",
       "      <td>1.388567e+09</td>\n",
       "    </tr>\n",
       "    <tr>\n",
       "      <th>1</th>\n",
       "      <td>ARPES-01</td>\n",
       "      <td>Canaleta Arpes</td>\n",
       "      <td>02-01-2014 9:06</td>\n",
       "      <td>76219.0</td>\n",
       "      <td>76860.0</td>\n",
       "      <td>641.0</td>\n",
       "      <td>9213.81</td>\n",
       "      <td>9237.08</td>\n",
       "      <td>23.27</td>\n",
       "      <td>26.0</td>\n",
       "      <td>...</td>\n",
       "      <td>0.3</td>\n",
       "      <td>0.09</td>\n",
       "      <td>0.61</td>\n",
       "      <td>19.2</td>\n",
       "      <td>1.23</td>\n",
       "      <td>0.32</td>\n",
       "      <td>83.89</td>\n",
       "      <td>641.0</td>\n",
       "      <td>23.27</td>\n",
       "      <td>1.388654e+09</td>\n",
       "    </tr>\n",
       "    <tr>\n",
       "      <th>2</th>\n",
       "      <td>ARPES-01</td>\n",
       "      <td>Canaleta Arpes</td>\n",
       "      <td>03-01-2014 9:11</td>\n",
       "      <td>76860.0</td>\n",
       "      <td>77502.0</td>\n",
       "      <td>642.0</td>\n",
       "      <td>9237.08</td>\n",
       "      <td>9261.08</td>\n",
       "      <td>24.00</td>\n",
       "      <td>26.0</td>\n",
       "      <td>...</td>\n",
       "      <td>0.3</td>\n",
       "      <td>0.09</td>\n",
       "      <td>0.61</td>\n",
       "      <td>19.2</td>\n",
       "      <td>1.23</td>\n",
       "      <td>0.32</td>\n",
       "      <td>83.89</td>\n",
       "      <td>642.0</td>\n",
       "      <td>24.00</td>\n",
       "      <td>1.388740e+09</td>\n",
       "    </tr>\n",
       "    <tr>\n",
       "      <th>3</th>\n",
       "      <td>ARPES-01</td>\n",
       "      <td>Canaleta Arpes</td>\n",
       "      <td>04-01-2014 9:15</td>\n",
       "      <td>77502.0</td>\n",
       "      <td>78144.0</td>\n",
       "      <td>642.0</td>\n",
       "      <td>9261.08</td>\n",
       "      <td>9285.08</td>\n",
       "      <td>24.00</td>\n",
       "      <td>26.0</td>\n",
       "      <td>...</td>\n",
       "      <td>0.3</td>\n",
       "      <td>0.09</td>\n",
       "      <td>0.61</td>\n",
       "      <td>19.2</td>\n",
       "      <td>1.23</td>\n",
       "      <td>0.32</td>\n",
       "      <td>83.89</td>\n",
       "      <td>642.0</td>\n",
       "      <td>24.00</td>\n",
       "      <td>1.388827e+09</td>\n",
       "    </tr>\n",
       "    <tr>\n",
       "      <th>4</th>\n",
       "      <td>ARPES-01</td>\n",
       "      <td>Canaleta Arpes</td>\n",
       "      <td>05-01-2014 9:20</td>\n",
       "      <td>78144.0</td>\n",
       "      <td>78789.0</td>\n",
       "      <td>645.0</td>\n",
       "      <td>9285.08</td>\n",
       "      <td>9309.09</td>\n",
       "      <td>24.01</td>\n",
       "      <td>27.0</td>\n",
       "      <td>...</td>\n",
       "      <td>0.3</td>\n",
       "      <td>0.09</td>\n",
       "      <td>0.61</td>\n",
       "      <td>19.2</td>\n",
       "      <td>1.23</td>\n",
       "      <td>0.32</td>\n",
       "      <td>83.89</td>\n",
       "      <td>645.0</td>\n",
       "      <td>24.01</td>\n",
       "      <td>1.388914e+09</td>\n",
       "    </tr>\n",
       "  </tbody>\n",
       "</table>\n",
       "<p>5 rows × 26 columns</p>\n",
       "</div>"
      ],
      "text/plain": [
       "     Origen         Destino    FechaMedicion  VolumenInicial  VolumenFinal  \\\n",
       "0  ARPES-01  Canaleta Arpes  01-01-2014 9:01         75447.0       76219.0   \n",
       "1  ARPES-01  Canaleta Arpes  02-01-2014 9:06         76219.0       76860.0   \n",
       "2  ARPES-01  Canaleta Arpes  03-01-2014 9:11         76860.0       77502.0   \n",
       "3  ARPES-01  Canaleta Arpes  04-01-2014 9:15         77502.0       78144.0   \n",
       "4  ARPES-01  Canaleta Arpes  05-01-2014 9:20         78144.0       78789.0   \n",
       "\n",
       "   Volumen  HorometroIncial  HorometroFinal  Horas  CaudalInstantaneo  ...  \\\n",
       "0    772.0          9185.01         9213.81  28.80               26.0  ...   \n",
       "1    641.0          9213.81         9237.08  23.27               26.0  ...   \n",
       "2    642.0          9237.08         9261.08  24.00               26.0  ...   \n",
       "3    642.0          9261.08         9285.08  24.00               26.0  ...   \n",
       "4    645.0          9285.08         9309.09  24.01               27.0  ...   \n",
       "\n",
       "   Ca_pct  S04_pct  Li_pct  Cl_pct  Densidad  H3BO3   SatK  VolumenEstimado  \\\n",
       "0     0.3     0.09    0.61    19.2      1.23   0.32  83.89            772.0   \n",
       "1     0.3     0.09    0.61    19.2      1.23   0.32  83.89            641.0   \n",
       "2     0.3     0.09    0.61    19.2      1.23   0.32  83.89            642.0   \n",
       "3     0.3     0.09    0.61    19.2      1.23   0.32  83.89            642.0   \n",
       "4     0.3     0.09    0.61    19.2      1.23   0.32  83.89            645.0   \n",
       "\n",
       "   HorasEstimadas  FechaMedicionUTS  \n",
       "0           28.80      1.388567e+09  \n",
       "1           23.27      1.388654e+09  \n",
       "2           24.00      1.388740e+09  \n",
       "3           24.00      1.388827e+09  \n",
       "4           24.01      1.388914e+09  \n",
       "\n",
       "[5 rows x 26 columns]"
      ]
     },
     "execution_count": 22,
     "metadata": {},
     "output_type": "execute_result"
    }
   ],
   "source": [
    "df_train.head()"
   ]
  },
  {
   "cell_type": "markdown",
   "metadata": {},
   "source": [
    "### Limpieza y Calculo de la nueva variable Caudal Medio Mensual l/s"
   ]
  },
  {
   "cell_type": "code",
   "execution_count": 23,
   "metadata": {},
   "outputs": [
    {
     "name": "stdout",
     "output_type": "stream",
     "text": [
      "<class 'pandas.core.frame.DataFrame'>\n",
      "RangeIndex: 814974 entries, 0 to 814973\n",
      "Data columns (total 26 columns):\n",
      " #   Column             Non-Null Count   Dtype  \n",
      "---  ------             --------------   -----  \n",
      " 0   Origen             814945 non-null  object \n",
      " 1   Destino            814945 non-null  object \n",
      " 2   FechaMedicion      814945 non-null  object \n",
      " 3   VolumenInicial     814945 non-null  float64\n",
      " 4   VolumenFinal       814945 non-null  float64\n",
      " 5   Volumen            814945 non-null  float64\n",
      " 6   HorometroIncial    814943 non-null  float64\n",
      " 7   HorometroFinal     814943 non-null  float64\n",
      " 8   Horas              814943 non-null  float64\n",
      " 9   CaudalInstantaneo  814936 non-null  float64\n",
      " 10  CaudalMedio        783733 non-null  float64\n",
      " 11  Validez            814945 non-null  float64\n",
      " 12  Observacion        0 non-null       float64\n",
      " 13  k_pct              814945 non-null  float64\n",
      " 14  Na_pct             814945 non-null  float64\n",
      " 15  Mg_pct             814945 non-null  float64\n",
      " 16  Ca_pct             814945 non-null  float64\n",
      " 17  S04_pct            814945 non-null  float64\n",
      " 18  Li_pct             814945 non-null  float64\n",
      " 19  Cl_pct             814945 non-null  float64\n",
      " 20  Densidad           814945 non-null  float64\n",
      " 21  H3BO3              814945 non-null  float64\n",
      " 22  SatK               814945 non-null  float64\n",
      " 23  VolumenEstimado    814945 non-null  float64\n",
      " 24  HorasEstimadas     814945 non-null  float64\n",
      " 25  FechaMedicionUTS   814945 non-null  float64\n",
      "dtypes: float64(23), object(3)\n",
      "memory usage: 161.7+ MB\n"
     ]
    }
   ],
   "source": [
    "df_train.info()"
   ]
  },
  {
   "cell_type": "markdown",
   "metadata": {},
   "source": [
    "Identificación de las Columnas "
   ]
  },
  {
   "cell_type": "code",
   "execution_count": 24,
   "metadata": {},
   "outputs": [
    {
     "data": {
      "text/plain": [
       "['Origen',\n",
       " 'Destino',\n",
       " 'FechaMedicion',\n",
       " 'VolumenInicial',\n",
       " 'VolumenFinal',\n",
       " 'Volumen',\n",
       " 'HorometroIncial',\n",
       " 'HorometroFinal',\n",
       " 'Horas',\n",
       " 'CaudalInstantaneo',\n",
       " 'CaudalMedio',\n",
       " 'Validez',\n",
       " 'Observacion',\n",
       " 'k_pct',\n",
       " 'Na_pct',\n",
       " 'Mg_pct',\n",
       " 'Ca_pct',\n",
       " 'S04_pct',\n",
       " 'Li_pct',\n",
       " 'Cl_pct',\n",
       " 'Densidad',\n",
       " 'H3BO3',\n",
       " 'SatK',\n",
       " 'VolumenEstimado',\n",
       " 'HorasEstimadas',\n",
       " 'FechaMedicionUTS']"
      ]
     },
     "execution_count": 24,
     "metadata": {},
     "output_type": "execute_result"
    }
   ],
   "source": [
    "list(df_train.columns)"
   ]
  },
  {
   "cell_type": "markdown",
   "metadata": {},
   "source": [
    "Número de datos Disponibles en el DataSet"
   ]
  },
  {
   "cell_type": "code",
   "execution_count": 25,
   "metadata": {},
   "outputs": [
    {
     "data": {
      "text/plain": [
       "(814974, 26)"
      ]
     },
     "execution_count": 25,
     "metadata": {},
     "output_type": "execute_result"
    }
   ],
   "source": [
    "df_train.shape"
   ]
  },
  {
   "cell_type": "code",
   "execution_count": 26,
   "metadata": {},
   "outputs": [
    {
     "name": "stdout",
     "output_type": "stream",
     "text": [
      "       Origen Destino FechaMedicion  VolumenInicial  VolumenFinal  Volumen  \\\n",
      "564694    NaN     NaN           NaN             NaN           NaN      NaN   \n",
      "564695    NaN     NaN           NaN             NaN           NaN      NaN   \n",
      "564696    NaN     NaN           NaN             NaN           NaN      NaN   \n",
      "564697    NaN     NaN           NaN             NaN           NaN      NaN   \n",
      "564698    NaN     NaN           NaN             NaN           NaN      NaN   \n",
      "564699    NaN     NaN           NaN             NaN           NaN      NaN   \n",
      "564700    NaN     NaN           NaN             NaN           NaN      NaN   \n",
      "564701    NaN     NaN           NaN             NaN           NaN      NaN   \n",
      "564702    NaN     NaN           NaN             NaN           NaN      NaN   \n",
      "564703    NaN     NaN           NaN             NaN           NaN      NaN   \n",
      "564704    NaN     NaN           NaN             NaN           NaN      NaN   \n",
      "564705    NaN     NaN           NaN             NaN           NaN      NaN   \n",
      "564706    NaN     NaN           NaN             NaN           NaN      NaN   \n",
      "564707    NaN     NaN           NaN             NaN           NaN      NaN   \n",
      "564708    NaN     NaN           NaN             NaN           NaN      NaN   \n",
      "564709    NaN     NaN           NaN             NaN           NaN      NaN   \n",
      "564710    NaN     NaN           NaN             NaN           NaN      NaN   \n",
      "564711    NaN     NaN           NaN             NaN           NaN      NaN   \n",
      "564712    NaN     NaN           NaN             NaN           NaN      NaN   \n",
      "564713    NaN     NaN           NaN             NaN           NaN      NaN   \n",
      "564714    NaN     NaN           NaN             NaN           NaN      NaN   \n",
      "564715    NaN     NaN           NaN             NaN           NaN      NaN   \n",
      "564716    NaN     NaN           NaN             NaN           NaN      NaN   \n",
      "564717    NaN     NaN           NaN             NaN           NaN      NaN   \n",
      "564718    NaN     NaN           NaN             NaN           NaN      NaN   \n",
      "564719    NaN     NaN           NaN             NaN           NaN      NaN   \n",
      "564720    NaN     NaN           NaN             NaN           NaN      NaN   \n",
      "564721    NaN     NaN           NaN             NaN           NaN      NaN   \n",
      "\n",
      "        HorometroIncial  HorometroFinal  Horas  CaudalInstantaneo  ...  \\\n",
      "564694              NaN             NaN    NaN                NaN  ...   \n",
      "564695              NaN             NaN    NaN                NaN  ...   \n",
      "564696              NaN             NaN    NaN                NaN  ...   \n",
      "564697              NaN             NaN    NaN                NaN  ...   \n",
      "564698              NaN             NaN    NaN                NaN  ...   \n",
      "564699              NaN             NaN    NaN                NaN  ...   \n",
      "564700              NaN             NaN    NaN                NaN  ...   \n",
      "564701              NaN             NaN    NaN                NaN  ...   \n",
      "564702              NaN             NaN    NaN                NaN  ...   \n",
      "564703              NaN             NaN    NaN                NaN  ...   \n",
      "564704              NaN             NaN    NaN                NaN  ...   \n",
      "564705              NaN             NaN    NaN                NaN  ...   \n",
      "564706              NaN             NaN    NaN                NaN  ...   \n",
      "564707              NaN             NaN    NaN                NaN  ...   \n",
      "564708              NaN             NaN    NaN                NaN  ...   \n",
      "564709              NaN             NaN    NaN                NaN  ...   \n",
      "564710              NaN             NaN    NaN                NaN  ...   \n",
      "564711              NaN             NaN    NaN                NaN  ...   \n",
      "564712              NaN             NaN    NaN                NaN  ...   \n",
      "564713              NaN             NaN    NaN                NaN  ...   \n",
      "564714              NaN             NaN    NaN                NaN  ...   \n",
      "564715              NaN             NaN    NaN                NaN  ...   \n",
      "564716              NaN             NaN    NaN                NaN  ...   \n",
      "564717              NaN             NaN    NaN                NaN  ...   \n",
      "564718              NaN             NaN    NaN                NaN  ...   \n",
      "564719              NaN             NaN    NaN                NaN  ...   \n",
      "564720              NaN             NaN    NaN                NaN  ...   \n",
      "564721              NaN             NaN    NaN                NaN  ...   \n",
      "\n",
      "        Ca_pct  S04_pct  Li_pct  Cl_pct  Densidad  H3BO3  SatK  \\\n",
      "564694     NaN      NaN     NaN     NaN       NaN    NaN   NaN   \n",
      "564695     NaN      NaN     NaN     NaN       NaN    NaN   NaN   \n",
      "564696     NaN      NaN     NaN     NaN       NaN    NaN   NaN   \n",
      "564697     NaN      NaN     NaN     NaN       NaN    NaN   NaN   \n",
      "564698     NaN      NaN     NaN     NaN       NaN    NaN   NaN   \n",
      "564699     NaN      NaN     NaN     NaN       NaN    NaN   NaN   \n",
      "564700     NaN      NaN     NaN     NaN       NaN    NaN   NaN   \n",
      "564701     NaN      NaN     NaN     NaN       NaN    NaN   NaN   \n",
      "564702     NaN      NaN     NaN     NaN       NaN    NaN   NaN   \n",
      "564703     NaN      NaN     NaN     NaN       NaN    NaN   NaN   \n",
      "564704     NaN      NaN     NaN     NaN       NaN    NaN   NaN   \n",
      "564705     NaN      NaN     NaN     NaN       NaN    NaN   NaN   \n",
      "564706     NaN      NaN     NaN     NaN       NaN    NaN   NaN   \n",
      "564707     NaN      NaN     NaN     NaN       NaN    NaN   NaN   \n",
      "564708     NaN      NaN     NaN     NaN       NaN    NaN   NaN   \n",
      "564709     NaN      NaN     NaN     NaN       NaN    NaN   NaN   \n",
      "564710     NaN      NaN     NaN     NaN       NaN    NaN   NaN   \n",
      "564711     NaN      NaN     NaN     NaN       NaN    NaN   NaN   \n",
      "564712     NaN      NaN     NaN     NaN       NaN    NaN   NaN   \n",
      "564713     NaN      NaN     NaN     NaN       NaN    NaN   NaN   \n",
      "564714     NaN      NaN     NaN     NaN       NaN    NaN   NaN   \n",
      "564715     NaN      NaN     NaN     NaN       NaN    NaN   NaN   \n",
      "564716     NaN      NaN     NaN     NaN       NaN    NaN   NaN   \n",
      "564717     NaN      NaN     NaN     NaN       NaN    NaN   NaN   \n",
      "564718     NaN      NaN     NaN     NaN       NaN    NaN   NaN   \n",
      "564719     NaN      NaN     NaN     NaN       NaN    NaN   NaN   \n",
      "564720     NaN      NaN     NaN     NaN       NaN    NaN   NaN   \n",
      "564721     NaN      NaN     NaN     NaN       NaN    NaN   NaN   \n",
      "\n",
      "        VolumenEstimado  HorasEstimadas  FechaMedicionUTS  \n",
      "564694              NaN             NaN               NaN  \n",
      "564695              NaN             NaN               NaN  \n",
      "564696              NaN             NaN               NaN  \n",
      "564697              NaN             NaN               NaN  \n",
      "564698              NaN             NaN               NaN  \n",
      "564699              NaN             NaN               NaN  \n",
      "564700              NaN             NaN               NaN  \n",
      "564701              NaN             NaN               NaN  \n",
      "564702              NaN             NaN               NaN  \n",
      "564703              NaN             NaN               NaN  \n",
      "564704              NaN             NaN               NaN  \n",
      "564705              NaN             NaN               NaN  \n",
      "564706              NaN             NaN               NaN  \n",
      "564707              NaN             NaN               NaN  \n",
      "564708              NaN             NaN               NaN  \n",
      "564709              NaN             NaN               NaN  \n",
      "564710              NaN             NaN               NaN  \n",
      "564711              NaN             NaN               NaN  \n",
      "564712              NaN             NaN               NaN  \n",
      "564713              NaN             NaN               NaN  \n",
      "564714              NaN             NaN               NaN  \n",
      "564715              NaN             NaN               NaN  \n",
      "564716              NaN             NaN               NaN  \n",
      "564717              NaN             NaN               NaN  \n",
      "564718              NaN             NaN               NaN  \n",
      "564719              NaN             NaN               NaN  \n",
      "564720              NaN             NaN               NaN  \n",
      "564721              NaN             NaN               NaN  \n",
      "\n",
      "[28 rows x 26 columns]\n"
     ]
    }
   ],
   "source": [
    "duplicates = df_train[df_train.duplicated()]\n",
    "print(duplicates)"
   ]
  },
  {
   "cell_type": "code",
   "execution_count": 27,
   "metadata": {},
   "outputs": [
    {
     "data": {
      "text/plain": [
       "Origen                   29\n",
       "Destino                  29\n",
       "FechaMedicion            29\n",
       "VolumenInicial           29\n",
       "VolumenFinal             29\n",
       "Volumen                  29\n",
       "HorometroIncial          31\n",
       "HorometroFinal           31\n",
       "Horas                    31\n",
       "CaudalInstantaneo        38\n",
       "CaudalMedio           31241\n",
       "Validez                  29\n",
       "Observacion          814974\n",
       "k_pct                    29\n",
       "Na_pct                   29\n",
       "Mg_pct                   29\n",
       "Ca_pct                   29\n",
       "S04_pct                  29\n",
       "Li_pct                   29\n",
       "Cl_pct                   29\n",
       "Densidad                 29\n",
       "H3BO3                    29\n",
       "SatK                     29\n",
       "VolumenEstimado          29\n",
       "HorasEstimadas           29\n",
       "FechaMedicionUTS         29\n",
       "dtype: int64"
      ]
     },
     "execution_count": 27,
     "metadata": {},
     "output_type": "execute_result"
    }
   ],
   "source": [
    "# Check for NaN values in the DataFrame\n",
    "df_train.isnull().sum()"
   ]
  },
  {
   "cell_type": "markdown",
   "metadata": {},
   "source": [
    "### Detectar y tratar los duplicados"
   ]
  },
  {
   "cell_type": "code",
   "execution_count": 28,
   "metadata": {},
   "outputs": [],
   "source": [
    "def remove_duplicates(df: pd.DataFrame, columns_to_check: list) -> pd.DataFrame:\n",
    "    \"\"\"\n",
    "    Remove duplicates based on specific columns.\n",
    "\n",
    "    Args:\n",
    "        df: DataFrame to remove duplicates from.\n",
    "        columns_to_check: List of columns to check for duplicates.\n",
    "\n",
    "    Returns:\n",
    "        DataFrame with duplicates removed.\n",
    "    \"\"\"\n",
    "    df = df.drop_duplicates(subset=columns_to_check, keep='first')\n",
    "    return df"
   ]
  },
  {
   "cell_type": "code",
   "execution_count": 29,
   "metadata": {},
   "outputs": [
    {
     "name": "stdout",
     "output_type": "stream",
     "text": [
      "Total de filas duplicadas: 565\n",
      "filas duplicadas:\n",
      "        Origen         Destino     FechaMedicion  VolumenInicial  \\\n",
      "876   ARPES-01  Canaleta Arpes  25-12-2016 14:35        892180.0   \n",
      "877   ARPES-01  Canaleta Arpes  25-12-2016 14:35        892180.0   \n",
      "886   ARPES-01  Canaleta Arpes  31-12-2016 15:12        896144.0   \n",
      "887   ARPES-01  Canaleta Arpes  31-12-2016 15:12        896144.0   \n",
      "4269  ARPES-03  Canaleta Arpes  31-12-2016 15:12          4940.0   \n",
      "\n",
      "      VolumenFinal  Volumen  HorometroIncial  HorometroFinal  Horas  \\\n",
      "876       892835.0    655.0          28812.1         28836.1   24.0   \n",
      "877       892835.0    655.0          28812.1         28836.1   24.0   \n",
      "886       896646.0    502.0          28963.8         28987.7   23.9   \n",
      "887       896646.0    502.0          28963.8         28987.7   23.9   \n",
      "4269        5053.0    113.0          27542.4         27567.4   25.0   \n",
      "\n",
      "      CaudalInstantaneo  ...  Ca_pct  S04_pct  Li_pct  Cl_pct  Densidad  \\\n",
      "876                27.0  ...    0.27     0.09    0.64   18.35      1.23   \n",
      "877                27.0  ...    0.27     0.09    0.64   18.35      1.23   \n",
      "886                22.0  ...    0.27     0.10    0.61   19.02      1.24   \n",
      "887                22.0  ...    0.27     0.10    0.61   19.02      1.24   \n",
      "4269                3.0  ...    0.22     0.14    0.72   20.20      1.24   \n",
      "\n",
      "      H3BO3   SatK  VolumenEstimado  HorasEstimadas  FechaMedicionUTS  \n",
      "876    0.26  78.40            655.0            24.0      1.482677e+09  \n",
      "877    0.26  78.40            655.0            24.0      1.482677e+09  \n",
      "886    0.33  81.76            502.0            23.9      1.483197e+09  \n",
      "887    0.33  81.76            502.0            23.9      1.483197e+09  \n",
      "4269   0.30  81.29            113.0            25.0      1.483197e+09  \n",
      "\n",
      "[5 rows x 26 columns]\n"
     ]
    }
   ],
   "source": [
    "# Columnas de interés para revisar duplicados\n",
    "columnas_para_revisar = ['Origen', 'FechaMedicion', 'HorometroFinal', 'HorometroIncial', \n",
    "                        'VolumenFinal', 'VolumenInicial', 'HorasEstimadas', 'CaudalMedio']\n",
    "# Identificar duplicados\n",
    "duplicados = df_train.duplicated(subset=columnas_para_revisar, keep=False)\n",
    "\n",
    "# Contar duplicados\n",
    "print(f\"Total de filas duplicadas: {duplicados.sum()}\")\n",
    "\n",
    "# Revisar duplicados\n",
    "print(\"filas duplicadas:\")\n",
    "print(df_train[duplicados].head())\n",
    "\n",
    "df_train = remove_duplicates(df_train, columnas_para_revisar)"
   ]
  },
  {
   "cell_type": "code",
   "execution_count": 30,
   "metadata": {},
   "outputs": [
    {
     "data": {
      "text/plain": [
       "(814678, 26)"
      ]
     },
     "execution_count": 30,
     "metadata": {},
     "output_type": "execute_result"
    }
   ],
   "source": [
    "df_train.shape"
   ]
  },
  {
   "cell_type": "markdown",
   "metadata": {},
   "source": [
    "### Cálculo Caudal Medio Mensual l/s (Nueva variable que permite realizar las predcciones en las siguientes etapas)"
   ]
  },
  {
   "cell_type": "markdown",
   "metadata": {},
   "source": [
    "1. Función para convertir columnas a tipo numérico y tratar errores"
   ]
  },
  {
   "cell_type": "code",
   "execution_count": 31,
   "metadata": {},
   "outputs": [],
   "source": [
    "def convert_columns_to_numeric(df: pd.DataFrame, columns: list) -> pd.DataFrame:\n",
    "    \"\"\"\n",
    "    Convert specified columns to numeric type, coercing errors.\n",
    "\n",
    "    Args:\n",
    "        df: DataFrame with columns to convert.\n",
    "        columns: List of columns to convert to numeric.\n",
    "\n",
    "    Returns:\n",
    "        DataFrame with specified columns converted to numeric.\n",
    "    \"\"\"\n",
    "    for column in columns:\n",
    "        df[column] = pd.to_numeric(df[column], errors='coerce')\n",
    "    return df\n"
   ]
  },
  {
   "cell_type": "markdown",
   "metadata": {},
   "source": [
    "2. Función para filtrar registros según condiciones específicas"
   ]
  },
  {
   "cell_type": "code",
   "execution_count": 32,
   "metadata": {},
   "outputs": [],
   "source": [
    "def filter_valid_records(df: pd.DataFrame) -> pd.DataFrame:\n",
    "    \"\"\"\n",
    "    Filter records where relevant columns have positive increments.\n",
    "\n",
    "    Args:\n",
    "        df: DataFrame to filter.\n",
    "\n",
    "    Returns:\n",
    "        Filtered DataFrame.\n",
    "    \"\"\"\n",
    "    conditions = (\n",
    "        (df['HorometroFinal'] > df['HorometroIncial']) &\n",
    "        (df['VolumenFinal'] > df['VolumenInicial']) &\n",
    "        (df['HorasEstimadas'] > 0)\n",
    "    )\n",
    "    return df[conditions].copy()\n"
   ]
  },
  {
   "cell_type": "markdown",
   "metadata": {},
   "source": [
    "3. Función para convertir fechas y crear columnas 'Mes' y 'Año'"
   ]
  },
  {
   "cell_type": "code",
   "execution_count": 33,
   "metadata": {},
   "outputs": [],
   "source": [
    "def create_date_columns(df: pd.DataFrame, date_column: str) -> pd.DataFrame:\n",
    "    \"\"\"\n",
    "    Convert date column to datetime and create 'Mes' and 'Año' columns.\n",
    "\n",
    "    Args:\n",
    "        df: DataFrame with date column.\n",
    "        date_column: Name of the date column to convert.\n",
    "\n",
    "    Returns:\n",
    "        DataFrame with new 'Mes' and 'Año' columns.\n",
    "    \"\"\"\n",
    "    df['Fecha'] = pd.to_datetime(df[date_column], errors='coerce')\n",
    "    df.dropna(subset=['Fecha'], inplace=True)\n",
    "    df['Mes'] = df['Fecha'].dt.month\n",
    "    df['Año'] = df['Fecha'].dt.year\n",
    "    return df\n"
   ]
  },
  {
   "cell_type": "markdown",
   "metadata": {},
   "source": [
    "4. Función para calcular la diferencia de volumen y las horas de bombeo"
   ]
  },
  {
   "cell_type": "code",
   "execution_count": 34,
   "metadata": {},
   "outputs": [],
   "source": [
    "def calculate_differences(df: pd.DataFrame) -> pd.DataFrame:\n",
    "    \"\"\"\n",
    "    Calculate volume difference and pumping hours.\n",
    "\n",
    "    Args:\n",
    "        df: DataFrame with relevant columns.\n",
    "\n",
    "    Returns:\n",
    "        DataFrame with new 'Diferencia_Volumen' and 'Horas_Bombeo' columns.\n",
    "    \"\"\"\n",
    "    df['Diferencia_Volumen'] = df['VolumenFinal'] - df['VolumenInicial']\n",
    "    df['Horas_Bombeo'] = df['HorometroFinal'] - df['HorometroIncial']\n",
    "    return df\n"
   ]
  },
  {
   "cell_type": "markdown",
   "metadata": {},
   "source": [
    "5. Función para eliminar valores negativos y NaNs"
   ]
  },
  {
   "cell_type": "code",
   "execution_count": 35,
   "metadata": {},
   "outputs": [],
   "source": [
    "def remove_negative_and_nan(df: pd.DataFrame) -> pd.DataFrame:\n",
    "    \"\"\"\n",
    "    Remove negative values and NaNs from specific columns.\n",
    "\n",
    "    Args:\n",
    "        df: DataFrame to process.\n",
    "\n",
    "    Returns:\n",
    "        Processed DataFrame.\n",
    "    \"\"\"\n",
    "    return df[(df['Diferencia_Volumen'] > 0) & (df['Horas_Bombeo'] > 0)]\n"
   ]
  },
  {
   "cell_type": "markdown",
   "metadata": {},
   "source": [
    "6. Función para calcular caudal por registro en m3/h"
   ]
  },
  {
   "cell_type": "code",
   "execution_count": 36,
   "metadata": {},
   "outputs": [],
   "source": [
    "def calculate_flow(df: pd.DataFrame) -> pd.DataFrame:\n",
    "    \"\"\"\n",
    "    Calculate flow rate per record in m3/h.\n",
    "\n",
    "    Args:\n",
    "        df: DataFrame with relevant columns.\n",
    "\n",
    "    Returns:\n",
    "        DataFrame with new 'Caudal_m3/h' column.\n",
    "    \"\"\"\n",
    "    df['Caudal_m3/h'] = df['Diferencia_Volumen'] / df['Horas_Bombeo']\n",
    "    return df\n"
   ]
  },
  {
   "cell_type": "markdown",
   "metadata": {},
   "source": [
    "7. Función para filtrar caudales"
   ]
  },
  {
   "cell_type": "code",
   "execution_count": 37,
   "metadata": {},
   "outputs": [],
   "source": [
    "def filter_flows(df: pd.DataFrame, max_flow: float = 360) -> pd.DataFrame:\n",
    "    \"\"\"\n",
    "    Filter flows to eliminate values above a maximum threshold.\n",
    "\n",
    "    Args:\n",
    "        df: DataFrame with flow column.\n",
    "        max_flow: Maximum flow threshold (default is 360).\n",
    "\n",
    "    Returns:\n",
    "        DataFrame with filtered flow values.\n",
    "    \"\"\"\n",
    "    df['Caudal_m3/h'] = np.where(df['Caudal_m3/h'] <= max_flow, df['Caudal_m3/h'], np.nan)\n",
    "    return df\n"
   ]
  },
  {
   "cell_type": "markdown",
   "metadata": {},
   "source": [
    "## Flujo 1 Preprocesamiento 1: \n",
    "###  - Convertir columnas a tipo numérico\n",
    "###  - Filtrar registros válidos\n",
    "###  - Crear columnas de fecha\n",
    "###  - Calcular diferencias de volumen y horas de bombeo\n",
    "###  - Eliminar valores negativos y NaNs\n",
    "###  - Calcular caudal por registro\n",
    "###  - Filtrar caudales"
   ]
  },
  {
   "cell_type": "code",
   "execution_count": 38,
   "metadata": {},
   "outputs": [
    {
     "name": "stdout",
     "output_type": "stream",
     "text": [
      "          Origen         Destino    FechaMedicion  VolumenInicial  \\\n",
      "0       ARPES-01  Canaleta Arpes  01-01-2014 9:01         75447.0   \n",
      "1       ARPES-01  Canaleta Arpes  02-01-2014 9:06         76219.0   \n",
      "2       ARPES-01  Canaleta Arpes  03-01-2014 9:11         76860.0   \n",
      "3       ARPES-01  Canaleta Arpes  04-01-2014 9:15         77502.0   \n",
      "4       ARPES-01  Canaleta Arpes  05-01-2014 9:20         78144.0   \n",
      "...          ...             ...              ...             ...   \n",
      "814951   XP17-05           PDA-4  06-02-2024 9:07         55006.0   \n",
      "814953   XP17-05           PDA-4  12-02-2024 9:02         55034.0   \n",
      "814971   XP17-05           PDA-4  01-03-2024 9:24         55444.0   \n",
      "814972   XP17-05           PDA-4  02-03-2024 9:30         55499.0   \n",
      "814973   XP17-05           PDA-4  03-03-2024 9:02         55515.0   \n",
      "\n",
      "        VolumenFinal  Volumen  HorometroIncial  HorometroFinal  Horas  \\\n",
      "0            76219.0    772.0          9185.01         9213.81  28.80   \n",
      "1            76860.0    641.0          9213.81         9237.08  23.27   \n",
      "2            77502.0    642.0          9237.08         9261.08  24.00   \n",
      "3            78144.0    642.0          9261.08         9285.08  24.00   \n",
      "4            78789.0    645.0          9285.08         9309.09  24.01   \n",
      "...              ...      ...              ...             ...    ...   \n",
      "814951       55034.0     28.0         35711.54        35728.31  16.77   \n",
      "814953       55052.0     18.0         35728.34        35752.01  23.67   \n",
      "814971       55499.0     55.0         36132.96        36157.69  24.73   \n",
      "814972       55515.0     16.0         36157.69        36184.16  26.47   \n",
      "814973       55531.0     16.0         36184.16        36207.58  23.42   \n",
      "\n",
      "        CaudalInstantaneo  ...    SatK  VolumenEstimado  HorasEstimadas  \\\n",
      "0                    26.0  ...  83.890            772.0           28.80   \n",
      "1                    26.0  ...  83.890            641.0           23.27   \n",
      "2                    26.0  ...  83.890            642.0           24.00   \n",
      "3                    26.0  ...  83.890            642.0           24.00   \n",
      "4                    27.0  ...  83.890            645.0           24.01   \n",
      "...                   ...  ...     ...              ...             ...   \n",
      "814951                0.0  ...  52.701             28.0           16.77   \n",
      "814953                0.9  ...  52.701             18.0           23.67   \n",
      "814971                0.8  ...  52.701             55.0           24.73   \n",
      "814972                0.5  ...  52.701             16.0           26.47   \n",
      "814973                1.2  ...  52.701             16.0           23.42   \n",
      "\n",
      "        FechaMedicionUTS               Fecha  Mes   Año  Diferencia_Volumen  \\\n",
      "0           1.388567e+09 2014-01-01 09:01:00    1  2014               772.0   \n",
      "1           1.388654e+09 2014-02-01 09:06:00    2  2014               641.0   \n",
      "2           1.388740e+09 2014-03-01 09:11:00    3  2014               642.0   \n",
      "3           1.388827e+09 2014-04-01 09:15:00    4  2014               642.0   \n",
      "4           1.388914e+09 2014-05-01 09:20:00    5  2014               645.0   \n",
      "...                  ...                 ...  ...   ...                 ...   \n",
      "814951      1.707210e+09 2024-06-02 09:07:00    6  2024                28.0   \n",
      "814953      1.707729e+09 2024-12-02 09:02:00   12  2024                18.0   \n",
      "814971      1.709285e+09 2024-01-03 09:24:00    1  2024                55.0   \n",
      "814972      1.709372e+09 2024-02-03 09:30:00    2  2024                16.0   \n",
      "814973      1.709457e+09 2024-03-03 09:02:00    3  2024                16.0   \n",
      "\n",
      "        Horas_Bombeo  Caudal_m3/h  \n",
      "0              28.80    26.805556  \n",
      "1              23.27    27.546197  \n",
      "2              24.00    26.750000  \n",
      "3              24.00    26.750000  \n",
      "4              24.01    26.863807  \n",
      "...              ...          ...  \n",
      "814951         16.77     1.669648  \n",
      "814953         23.67     0.760456  \n",
      "814971         24.73     2.224019  \n",
      "814972         26.47     0.604458  \n",
      "814973         23.42     0.683177  \n",
      "\n",
      "[306030 rows x 32 columns]\n"
     ]
    }
   ],
   "source": [
    "# Convertir columnas a tipo numérico\n",
    "columns_to_convert = ['HorometroFinal', 'HorometroIncial', 'VolumenFinal', 'VolumenInicial', 'HorasEstimadas']\n",
    "df_train = convert_columns_to_numeric(df_train, columns_to_convert)\n",
    "\n",
    "# Filtrar registros válidos\n",
    "df_filtered = filter_valid_records(df_train)\n",
    "\n",
    "# Crear columnas de fecha\n",
    "df_filtered = create_date_columns(df_filtered, 'FechaMedicion')\n",
    "\n",
    "# Calcular diferencias de volumen y horas de bombeo\n",
    "df_filtered = calculate_differences(df_filtered)\n",
    "\n",
    "# Eliminar valores negativos y NaNs\n",
    "df_filtered = remove_negative_and_nan(df_filtered)\n",
    "\n",
    "# Calcular caudal por registro\n",
    "df_filtered = calculate_flow(df_filtered)\n",
    "\n",
    "# Filtrar caudales\n",
    "df_filtered = filter_flows(df_filtered)\n",
    "\n",
    "# Mostrar el DataFrame final\n",
    "print(df_filtered)\n"
   ]
  },
  {
   "cell_type": "markdown",
   "metadata": {},
   "source": [
    "1. Función para agrupar y sumar caudales"
   ]
  },
  {
   "cell_type": "code",
   "execution_count": 39,
   "metadata": {},
   "outputs": [],
   "source": [
    "def group_and_sum_flows(df: pd.DataFrame) -> pd.DataFrame:\n",
    "    \"\"\"\n",
    "    Group by 'Origen', 'Año', 'Mes' and sum the flows and count unique days.\n",
    "\n",
    "    Args:\n",
    "        df: DataFrame to group and sum.\n",
    "\n",
    "    Returns:\n",
    "        DataFrame with summed flows and counted unique days per month.\n",
    "    \"\"\"\n",
    "    df_sum = df.groupby(['Origen', 'Año', 'Mes']).agg({'Caudal_m3/h': 'sum', 'Fecha': 'nunique'}).rename(columns={'Fecha': 'Total_dias_mes'})\n",
    "    return df_sum\n"
   ]
  },
  {
   "cell_type": "markdown",
   "metadata": {},
   "source": [
    "2. Función para calcular caudal medio mensual en m³/h"
   ]
  },
  {
   "cell_type": "code",
   "execution_count": 40,
   "metadata": {},
   "outputs": [],
   "source": [
    "def calculate_monthly_average_flow(df: pd.DataFrame) -> pd.DataFrame:\n",
    "    \"\"\"\n",
    "    Calculate monthly average flow in m³/h.\n",
    "\n",
    "    Args:\n",
    "        df: DataFrame with summed flows.\n",
    "\n",
    "    Returns:\n",
    "        DataFrame with calculated monthly average flow in m³/h.\n",
    "    \"\"\"\n",
    "    df['Qmedio_mensual_m3/h'] = df['Caudal_m3/h'] / df['Total_dias_mes']\n",
    "    return df"
   ]
  },
  {
   "cell_type": "markdown",
   "metadata": {},
   "source": [
    "3. Función para convertir caudal medio mensual a l/s"
   ]
  },
  {
   "cell_type": "code",
   "execution_count": 41,
   "metadata": {},
   "outputs": [],
   "source": [
    "def convert_flow_to_ls(df: pd.DataFrame) -> pd.DataFrame:\n",
    "    \"\"\"\n",
    "    Convert monthly average flow from m³/h to l/s.\n",
    "\n",
    "    Args:\n",
    "        df: DataFrame with monthly average flow in m³/h.\n",
    "\n",
    "    Returns:\n",
    "        DataFrame with monthly average flow in l/s.\n",
    "    \"\"\"\n",
    "    df['Qmedio_mensual_l/s'] = df['Qmedio_mensual_m3/h'] / 3.6\n",
    "    return df\n"
   ]
  },
  {
   "cell_type": "markdown",
   "metadata": {},
   "source": [
    "4. Función para visualizar resultados y crear columna 'Mes-Año'"
   ]
  },
  {
   "cell_type": "code",
   "execution_count": 42,
   "metadata": {},
   "outputs": [],
   "source": [
    "def visualize_results(df: pd.DataFrame) -> pd.DataFrame:\n",
    "    \"\"\"\n",
    "    Reset index, create 'Mes-Año' column and convert types for visualization.\n",
    "\n",
    "    Args:\n",
    "        df: DataFrame to process.\n",
    "\n",
    "    Returns:\n",
    "        DataFrame ready for visualization.\n",
    "    \"\"\"\n",
    "    df.reset_index(inplace=True)\n",
    "    df['Mes-Año'] = df['Mes'].astype(str).str.pad(width=2, fillchar='0') + '-' + df['Año'].astype(str)\n",
    "    return df\n"
   ]
  },
  {
   "cell_type": "markdown",
   "metadata": {},
   "source": [
    "5. Función para almacenar el resultado en un nuevo DataFrame"
   ]
  },
  {
   "cell_type": "code",
   "execution_count": 43,
   "metadata": {},
   "outputs": [],
   "source": [
    "def store_results(df: pd.DataFrame) -> pd.DataFrame:\n",
    "    \"\"\"\n",
    "    Store the results in a new DataFrame.\n",
    "\n",
    "    Args:\n",
    "        df: DataFrame with processed data.\n",
    "\n",
    "    Returns:\n",
    "        DataFrame with selected columns for final output.\n",
    "    \"\"\"\n",
    "    Q_Medio_Mensual = df[['Origen', 'Mes-Año', 'Qmedio_mensual_l/s']].copy()\n",
    "    return Q_Medio_Mensual\n"
   ]
  },
  {
   "cell_type": "markdown",
   "metadata": {},
   "source": [
    "## Flujo 2 Preprocesamiento 2:\n",
    "### - Agrupar y sumar caudales\n",
    "### - Calcular caudal medio mensual en m³/h\n",
    "### - Convertir caudal medio mensual a l/s\n",
    "### - Visualizar resultados\n",
    "### - Almacenar resultados"
   ]
  },
  {
   "cell_type": "code",
   "execution_count": 44,
   "metadata": {},
   "outputs": [
    {
     "name": "stdout",
     "output_type": "stream",
     "text": [
      "         Origen  Mes-Año  Qmedio_mensual_l/s\n",
      "0      ARPES-01  01-2014            6.658555\n",
      "1      ARPES-01  02-2014            7.717431\n",
      "2      ARPES-01  03-2014            7.663063\n",
      "3      ARPES-01  04-2014            7.573851\n",
      "4      ARPES-01  05-2014            5.465879\n",
      "...         ...      ...                 ...\n",
      "41239   XP17-05  06-2024            0.274481\n",
      "41240   XP17-05  08-2024            0.070146\n",
      "41241   XP17-05  09-2024            0.100827\n",
      "41242   XP17-05  10-2024            0.841751\n",
      "41243   XP17-05  12-2024            0.211238\n",
      "\n",
      "[41244 rows x 3 columns]\n"
     ]
    }
   ],
   "source": [
    "# Agrupar y sumar caudales\n",
    "df_sum = group_and_sum_flows(df_filtered)\n",
    "\n",
    "# Calcular caudal medio mensual en m³/h\n",
    "df_sum = calculate_monthly_average_flow(df_sum)\n",
    "\n",
    "# Convertir caudal medio mensual a l/s\n",
    "df_sum = convert_flow_to_ls(df_sum)\n",
    "\n",
    "# Visualizar resultados\n",
    "df_sum = visualize_results(df_sum)\n",
    "\n",
    "# Almacenar resultados\n",
    "Q_Medio_Mensual = store_results(df_sum)\n",
    "\n",
    "# Mostrar el nuevo DataFrame\n",
    "print(Q_Medio_Mensual)\n"
   ]
  },
  {
   "cell_type": "markdown",
   "metadata": {},
   "source": [
    "1. Función para agregar una columna 'Mes-Año'"
   ]
  },
  {
   "cell_type": "code",
   "execution_count": 45,
   "metadata": {},
   "outputs": [],
   "source": [
    "def add_month_year_column(df: pd.DataFrame) -> pd.DataFrame:\n",
    "    \"\"\"\n",
    "    Add 'Mes-Año' column to the DataFrame.\n",
    "\n",
    "    Args:\n",
    "        df: DataFrame to process.\n",
    "\n",
    "    Returns:\n",
    "        DataFrame with 'Mes-Año' column added.\n",
    "    \"\"\"\n",
    "    df['Mes-Año'] = df['Fecha'].dt.strftime('%m-%Y')\n",
    "    return df"
   ]
  },
  {
   "cell_type": "markdown",
   "metadata": {},
   "source": [
    "2. Función para agrupar y contar registros por 'Origen' y 'Mes-Año'"
   ]
  },
  {
   "cell_type": "code",
   "execution_count": 46,
   "metadata": {},
   "outputs": [],
   "source": [
    "def group_and_count_records(df: pd.DataFrame) -> pd.DataFrame:\n",
    "    \"\"\"\n",
    "    Group by 'Origen' and 'Mes-Año', then count the number of records.\n",
    "\n",
    "    Args:\n",
    "        df: DataFrame to group and count.\n",
    "\n",
    "    Returns:\n",
    "        DataFrame with counted records per group.\n",
    "    \"\"\"\n",
    "    df_new = df.groupby(['Origen', 'Mes-Año']).size().reset_index(name='Cantidad_Registros')\n",
    "    return df_new"
   ]
  },
  {
   "cell_type": "markdown",
   "metadata": {},
   "source": [
    "3. Función para contar registros donde el caudal medio mensual es mayor a 100 l/s"
   ]
  },
  {
   "cell_type": "code",
   "execution_count": 47,
   "metadata": {},
   "outputs": [],
   "source": [
    "def count_high_flow_records(df: pd.DataFrame) -> int:\n",
    "    \"\"\"\n",
    "    Count the number of records where 'Qmedio_mensual_l/s' is greater than 100.\n",
    "\n",
    "    Args:\n",
    "        df: DataFrame to process.\n",
    "\n",
    "    Returns:\n",
    "        Integer count of records with high flow.\n",
    "    \"\"\"\n",
    "    count = (df['Qmedio_mensual_l/s'] > 100).sum()\n",
    "    return count\n"
   ]
  },
  {
   "cell_type": "markdown",
   "metadata": {},
   "source": [
    "4. Función para filtrar el DataFrame por rango de caudal medio mensual"
   ]
  },
  {
   "cell_type": "code",
   "execution_count": 48,
   "metadata": {},
   "outputs": [],
   "source": [
    "def filter_flow_range(df: pd.DataFrame) -> pd.DataFrame:\n",
    "    \"\"\"\n",
    "    Filter the DataFrame to keep records where 'Qmedio_mensual_l/s' is between 0 and 100 inclusive.\n",
    "\n",
    "    Args:\n",
    "        df: DataFrame to filter.\n",
    "\n",
    "    Returns:\n",
    "        Filtered DataFrame.\n",
    "    \"\"\"\n",
    "    df_filtered = df[(df['Qmedio_mensual_l/s'] > 0) & (df['Qmedio_mensual_l/s'] <= 100)]\n",
    "    return df_filtered\n"
   ]
  },
  {
   "cell_type": "markdown",
   "metadata": {},
   "source": [
    "## Flujo 3 preprocesamiento3 de datos:\n",
    "### - Agregar columna 'Mes-Año'\n",
    "### - Agrupar y contar registros\n",
    "### - Contar registros con alto caudal\n",
    "### - Filtrar el DataFrame por rango de caudal"
   ]
  },
  {
   "cell_type": "code",
   "execution_count": 49,
   "metadata": {},
   "outputs": [
    {
     "name": "stdout",
     "output_type": "stream",
     "text": [
      "         Origen  Mes-Año  Cantidad_Registros\n",
      "0      ARPES-01  01-2014                   7\n",
      "1      ARPES-01  01-2015                  10\n",
      "2      ARPES-01  01-2016                   7\n",
      "3      ARPES-01  01-2017                  12\n",
      "4      ARPES-01  01-2018                  11\n",
      "...         ...      ...                 ...\n",
      "41239   XP17-05  12-2020                  12\n",
      "41240   XP17-05  12-2021                  12\n",
      "41241   XP17-05  12-2022                  11\n",
      "41242   XP17-05  12-2023                  12\n",
      "41243   XP17-05  12-2024                   1\n",
      "\n",
      "[41244 rows x 3 columns]\n",
      "14\n",
      "(41226, 3)\n",
      "     Origen  Mes-Año  Qmedio_mensual_l/s\n",
      "0  ARPES-01  01-2014            6.658555\n",
      "1  ARPES-01  02-2014            7.717431\n",
      "2  ARPES-01  03-2014            7.663063\n",
      "3  ARPES-01  04-2014            7.573851\n",
      "4  ARPES-01  05-2014            5.465879\n"
     ]
    }
   ],
   "source": [
    "# Agregar columna 'Mes-Año'\n",
    "df_filtered = add_month_year_column(df_filtered)\n",
    "\n",
    "# Agrupar y contar registros\n",
    "df_new = group_and_count_records(df_filtered)\n",
    "print(df_new)\n",
    "\n",
    "# Contar registros con alto caudal\n",
    "count = count_high_flow_records(Q_Medio_Mensual)\n",
    "print(count)\n",
    "\n",
    "# Filtrar el DataFrame por rango de caudal\n",
    "Q_Medio_Mensual = filter_flow_range(Q_Medio_Mensual)\n",
    "\n",
    "# Verificar la operación imprimiendo la cantidad de registros restantes y un vistazo de los datos\n",
    "print(Q_Medio_Mensual.shape)\n",
    "print(Q_Medio_Mensual.head())\n"
   ]
  },
  {
   "cell_type": "code",
   "execution_count": 50,
   "metadata": {},
   "outputs": [
    {
     "data": {
      "text/plain": [
       "count    41226.000000\n",
       "mean         6.548348\n",
       "std          8.297460\n",
       "min          0.004016\n",
       "25%          1.505742\n",
       "50%          3.349757\n",
       "75%          8.963470\n",
       "max         98.923548\n",
       "Name: Qmedio_mensual_l/s, dtype: float64"
      ]
     },
     "execution_count": 50,
     "metadata": {},
     "output_type": "execute_result"
    }
   ],
   "source": [
    "Q_Medio_Mensual['Qmedio_mensual_l/s'].describe()"
   ]
  },
  {
   "cell_type": "code",
   "execution_count": 51,
   "metadata": {},
   "outputs": [
    {
     "data": {
      "text/plain": [
       "(41226, 3)"
      ]
     },
     "execution_count": 51,
     "metadata": {},
     "output_type": "execute_result"
    }
   ],
   "source": [
    "Q_Medio_Mensual.shape\n",
    "#Q_Medio_Mensual.to_excel('Q_Medio_Mensual.xlsx', index=False)"
   ]
  },
  {
   "cell_type": "markdown",
   "metadata": {},
   "source": [
    "1. Función para filtrar registros basados en una lista de pozos"
   ]
  },
  {
   "cell_type": "code",
   "execution_count": 52,
   "metadata": {},
   "outputs": [],
   "source": [
    "def filter_by_wells(df: pd.DataFrame, wells_list: list) -> pd.DataFrame:\n",
    "    \"\"\"\n",
    "    Filter the DataFrame to include only records where 'Origen' is in the provided list of wells.\n",
    "\n",
    "    Args:\n",
    "        df: DataFrame to filter.\n",
    "        wells_list: List of wells to include.\n",
    "\n",
    "    Returns:\n",
    "        Filtered DataFrame.\n",
    "    \"\"\"\n",
    "    df_filtered = df[df['Origen'].isin(wells_list)]\n",
    "    return df_filtered\n"
   ]
  },
  {
   "cell_type": "markdown",
   "metadata": {},
   "source": [
    "2. Filtrar el Dataset por los 444 Pozos seleccionados para el pronóstico"
   ]
  },
  {
   "cell_type": "code",
   "execution_count": 53,
   "metadata": {},
   "outputs": [
    {
     "data": {
      "text/html": [
       "<div>\n",
       "<style scoped>\n",
       "    .dataframe tbody tr th:only-of-type {\n",
       "        vertical-align: middle;\n",
       "    }\n",
       "\n",
       "    .dataframe tbody tr th {\n",
       "        vertical-align: top;\n",
       "    }\n",
       "\n",
       "    .dataframe thead th {\n",
       "        text-align: right;\n",
       "    }\n",
       "</style>\n",
       "<table border=\"1\" class=\"dataframe\">\n",
       "  <thead>\n",
       "    <tr style=\"text-align: right;\">\n",
       "      <th></th>\n",
       "      <th>Origen</th>\n",
       "      <th>Mes-Año</th>\n",
       "      <th>Qmedio_mensual_l/s</th>\n",
       "    </tr>\n",
       "  </thead>\n",
       "  <tbody>\n",
       "    <tr>\n",
       "      <th>0</th>\n",
       "      <td>ARPES-01</td>\n",
       "      <td>01-2014</td>\n",
       "      <td>6.658555</td>\n",
       "    </tr>\n",
       "    <tr>\n",
       "      <th>1</th>\n",
       "      <td>ARPES-01</td>\n",
       "      <td>02-2014</td>\n",
       "      <td>7.717431</td>\n",
       "    </tr>\n",
       "    <tr>\n",
       "      <th>2</th>\n",
       "      <td>ARPES-01</td>\n",
       "      <td>03-2014</td>\n",
       "      <td>7.663063</td>\n",
       "    </tr>\n",
       "    <tr>\n",
       "      <th>3</th>\n",
       "      <td>ARPES-01</td>\n",
       "      <td>04-2014</td>\n",
       "      <td>7.573851</td>\n",
       "    </tr>\n",
       "    <tr>\n",
       "      <th>4</th>\n",
       "      <td>ARPES-01</td>\n",
       "      <td>05-2014</td>\n",
       "      <td>5.465879</td>\n",
       "    </tr>\n",
       "    <tr>\n",
       "      <th>...</th>\n",
       "      <td>...</td>\n",
       "      <td>...</td>\n",
       "      <td>...</td>\n",
       "    </tr>\n",
       "    <tr>\n",
       "      <th>41239</th>\n",
       "      <td>XP17-05</td>\n",
       "      <td>06-2024</td>\n",
       "      <td>0.274481</td>\n",
       "    </tr>\n",
       "    <tr>\n",
       "      <th>41240</th>\n",
       "      <td>XP17-05</td>\n",
       "      <td>08-2024</td>\n",
       "      <td>0.070146</td>\n",
       "    </tr>\n",
       "    <tr>\n",
       "      <th>41241</th>\n",
       "      <td>XP17-05</td>\n",
       "      <td>09-2024</td>\n",
       "      <td>0.100827</td>\n",
       "    </tr>\n",
       "    <tr>\n",
       "      <th>41242</th>\n",
       "      <td>XP17-05</td>\n",
       "      <td>10-2024</td>\n",
       "      <td>0.841751</td>\n",
       "    </tr>\n",
       "    <tr>\n",
       "      <th>41243</th>\n",
       "      <td>XP17-05</td>\n",
       "      <td>12-2024</td>\n",
       "      <td>0.211238</td>\n",
       "    </tr>\n",
       "  </tbody>\n",
       "</table>\n",
       "<p>41226 rows × 3 columns</p>\n",
       "</div>"
      ],
      "text/plain": [
       "         Origen  Mes-Año  Qmedio_mensual_l/s\n",
       "0      ARPES-01  01-2014            6.658555\n",
       "1      ARPES-01  02-2014            7.717431\n",
       "2      ARPES-01  03-2014            7.663063\n",
       "3      ARPES-01  04-2014            7.573851\n",
       "4      ARPES-01  05-2014            5.465879\n",
       "...         ...      ...                 ...\n",
       "41239   XP17-05  06-2024            0.274481\n",
       "41240   XP17-05  08-2024            0.070146\n",
       "41241   XP17-05  09-2024            0.100827\n",
       "41242   XP17-05  10-2024            0.841751\n",
       "41243   XP17-05  12-2024            0.211238\n",
       "\n",
       "[41226 rows x 3 columns]"
      ]
     },
     "execution_count": 53,
     "metadata": {},
     "output_type": "execute_result"
    }
   ],
   "source": [
    "wells_list = [\n",
    "    'ARPES-01','ARPES-03','BCX-005','BCX-023','CX-060S','CX-072','CX-084','CX-085','CX-089',\n",
    "    'CX-090S','CX-097P','CX-098P','CX-100','CX-102','CX-133','CX-143','CX-146','CX-153',\n",
    "    'CX-158P','CX-159P','CX-162','CX-163P','CX-171','CX-181P','CX-188','E-88','FX-003',\n",
    "    'FX-009','KINT-146R5','KINT-234','KINT-326','KINT-337','MSW-450','MSW-456','MSW-457',\n",
    "    'PC-32-S','PC-32-SWB','PC-32-W','PC-D1-05','PC-D1-05E','PC-D1-05SW','PC-D1-05W','PC-D1-06',\n",
    "    'PC-D1-06NE','PC-D1-06SE','PC-D1-101','PC-D1-101D','PC-D1-102','PC-D1-103','PC-D1-104',\n",
    "    'PC-D1-104D','PC-D1-111','PC-D1-112','PC-D1-113','PC-D1-114B','PC-D1-121','PC-D1-122',\n",
    "    'PC-D1-123','PC-D1-131','PC-D1-132','PC-D1-133','PC-D1-134','PC-D1-135','PC-D1-141',\n",
    "    'PC-D1-142','PC-D1-143','PC-D1-144','PC-D1-15','PC-D1-16D','PC-D1-25SW','PC-D1-26',\n",
    "    'PC-D1-34','PC-D1-345','PC-D1-34D','PC-D1-34E','PC-D1-34SW','PC-D1-355E','PC-D1-355N',\n",
    "    'PC-D1-355NE','PC-D1-355S','PC-D1-35D','PC-D1-35N','PC-D1-35S','PC-D1-36','PC-D1-37',\n",
    "    'PC-D1-43','PC-D1-44','PC-D1-45','PC-D1-46','PC-D1-47','PC-D1-53','PC-D1-54','PC-D1-55',\n",
    "    'PC-D1-55D','PC-D1-56','PC-D1-57','PC-D1-63B','PC-D1-72D','PC-D1-74','PC-D1-74D-B','PC-D1-76',\n",
    "    'PC-D1-81','PC-D1-82','PC-D1-82D','PC-D1-83','PC-D1-84','PC-D1-92','PC-D1-93','PC-D1-94',\n",
    "    'PC-SW10-04','PC-SW-103','PC-SW-104B','PC-SW-105R','PC-SW-11','PC-SW-114B','PC-SW-12',\n",
    "    'PC-SW-13','PC-SW-204','PC-SW-21','PC-SW-22','PC-SW-23','PC-SW-24','PC-SW3-02R','PC-SW-30R',\n",
    "    'PC-SW-31','PC-SW-32','PC-SW-33','PC-SW4-06','PC-SW-40B','PC-SW-41C','PC-SW-42','PC-SW-43',\n",
    "    'PC-SW-44','PC-SW5-05','PC-SW-51','PC-SW-510D','PC-SW-510R','PC-SW-61B','PC-SW7-01','PC-SW7-03R2',\n",
    "    'PC-SW7-04','PC-SW-72','PC-SW-82','PC-SW-84R','PC-SW-85','PC-SW-92','PC-SW-93','PC-SW-94',\n",
    "    'PC-UB-01','PC-UB-114','PC-UB-124','PC-UB-125','PC-UB-126','PC-UB-133','PC-UB-134B','PC-UB-136',\n",
    "    'PC-UB-143','PC-UB-144B','PC-UB-145','PC-UB-146','PC-UB-152','PC-UB-153','PC-UB-15B','PC-UB-163',\n",
    "    'PC-UB-164','PC-UB-165','PC-UB-169','PC-UB-173','PC-UB-174','PC-UB-176','PC-UB-185B','PC-UB-19',\n",
    "    'PC-UB-210','PC-UB-310','PC-UB-49','PC-UB-510','PC-UB-58','PC-UB-610B','PC-UB-611','PC-UB-69',\n",
    "    'PC-UB-710','PC-UB-811','PZ-6','TRN','W-1','W-10','W-1101','W-1104','W-1106','W-1109B','W-1186',\n",
    "    'W-1191','W-1201','W-1202','W-1205','W-1211','W-1217','W-1219','W-1221','W-1224','W-1225','W-1238',\n",
    "    'W-1240','W-1246', 'W-16','W-17','W-18','W-1901','W-2','W-220','W-221','W-224','W-225','W-247','W-265',\n",
    "    'W-280','W-312','W-322R','W-35','W-36','W-365P','W-37','W-38','W-39','W-446B','W-45','W-456','W-457R',\n",
    "    'W-458B','W-459R','W-460R','W-461C','W-5','W-52','W-53','W-56','W-57','W-58','W-60','W-609','W-62','W-620',\n",
    "    'W-621','W-64','W-66','W-701R','W-709','W-717B','W-718B','W-72','W-73','W-735B','W-737B','W-766B','W-767',\n",
    "    'W-77','W-783','W-787R','W-788B','W-794','W-799','W-82','W-869','W-871','W-876','W-9','W-909','W-910R',\n",
    "    'W-960B','W-961','W-965','W-966','W-967','W-969','W-970','W-972','W-973','W-975','W-977','W-978','W-983','W-984',\n",
    "    'W-993','W-994','W-995','W-CX-1004','W-CX-1005','W-CX-1008','W-CX-1009','W-CX-1011','W-CX-1016','W-CX-1022',\n",
    "    'W-CX-1023','W-CX-1026','W-CX-1028','W-CX-1029','W-CX-1030R','W-CX-1033','W-CX-1034','W-CX-1036','W-CX-1038',\n",
    "    'W-CX-1043','W-CX-1044R','W-CX-1046','W-CX-1049','W-CX-1050','W-CX-1053P','W-CX-1054','W-CX-1056',\n",
    "    'W-CX-1057','W-CX-1058','W-CX-1059','W-CX-1060','W-CX-1061','W-CX-1069','W-CX-1070','W-CX-1074',\n",
    "    'W-CX-1076','W-CX-1077','W-CX-1078','W-CX-1081','W-CX-1087','W-CX-1091','W-CX-1094','W-CX-1098S',\n",
    "    'W-CX-1106P','W-CX-1107P','W-CX-1108P','W-CX-1109','W-CX-1110','W-CX-1112S','WM-7','WM-9','W-RY-01',\n",
    "    'W-RY-04','W-RY-06','W-RY-10P','WS-164R','W-UB-01','W-UB-09R','W-UB-100','W-UB-101','W-UB-105','W-UB-106','W-UB-109R',\n",
    "    'W-UB-11','W-UB-110R','W-UB-111','W-UB-114','W-UB-115','W-UB-119','W-UB-126','W-UB-128','W-UB-131','W-UB-138','W-UB-138P',\n",
    "    'W-UB-16B','W-UB-172','W-UB-173','W-UB-176','W-UB-19','W-UB-196','W-UB-200R','W-UB-207','W-UB-210R','W-UB-212','W-UB-212P',\n",
    "    'W-UB-215','W-UB-218','W-UB-27','W-UB-277','W-UB-28','W-UB-280','W-UB-285','W-UB-287','W-UB-289','W-UB-290',\n",
    "    'W-UB-291','W-UB-292','W-UB-293','W-UB-298','W-UB-299','W-UB-30','W-UB-300','W-UB-301','W-UB-303','W-UB-304',\n",
    "    'W-UB-309','W-UB-313','W-UB-315','W-UB-318','W-UB-319','W-UB-320','W-UB-321','W-UB-322','W-UB-323','W-UB-328',\n",
    "    'W-UB-33','W-UB-330','W-UB-331','W-UB-336','W-UB-34','W-UB-341','W-UB-346','W-UB-36','W-UB-43','W-UB-45','W-UB-47',\n",
    "    'W-UB-48','W-UB-51','W-UB-53','W-UB-56R','W-UB-57','W-UB-65B','W-UB-67','W-UB-68','W-UB-73R2','W-UB-75','W-UB-78',\n",
    "    'W-UB-79','W-UB-81R','W-UB-82','W-UB-83B','W-UB-88B','W-UB-90R','W-UB-91R','W-UB-92R','W-UB-96R','W-UB-98','W-UB-99',\n",
    "    'W-UC-08','W-UC-11','W-UC-12','W-UC-14','W-UC-16','W-UC-17','W-UC-20','W-UC-25','W-UC-28','W-UC-30','W-UC-32','X-210',\n",
    "    'X-372','X-408','XP-0268R','XP-0284','XP17-03','XP17-05'\n",
    "]\n",
    "\n",
    "Q_Medio_Mensual_filtrado = filter_by_wells(Q_Medio_Mensual, wells_list)\n",
    "Q_Medio_Mensual_filtrado\n"
   ]
  },
  {
   "cell_type": "markdown",
   "metadata": {},
   "source": [
    "3. Verificación Rango variable Caudal Calculada Caudal Medio Menesual l/s"
   ]
  },
  {
   "cell_type": "code",
   "execution_count": 54,
   "metadata": {},
   "outputs": [],
   "source": [
    "def describe_caudal_mensual(df):\n",
    "    \"\"\"\n",
    "    Describir las estadísticas del caudal mensual calculado.\n",
    "    \"\"\"\n",
    "    print(\"Estadísticas descriptivas del Caudal Medio Mensual Calculado:\")\n",
    "    print(df['Qmedio_mensual_l/s'].describe())\n",
    "\n",
    "def plot_histogram(df):\n",
    "    \"\"\"\n",
    "    Graficar un histograma del caudal medio mensual.\n",
    "    \"\"\"\n",
    "    \n",
    "    # Activa el estilo 'ggplot'\n",
    "    plt.style.use('ggplot')\n",
    "    plt.figure(figsize=(10, 6))\n",
    "    plt.hist(df['Qmedio_mensual_l/s'], bins=50, color='blue', edgecolor='black')\n",
    "    plt.title('Distribución del Caudal Medio Mensual (l/s)')\n",
    "    plt.xlabel('Qmedio_mensual_l/s')\n",
    "    plt.ylabel('Frecuencia')\n",
    "    plt.axvline(100, color='red', linestyle='dashed', linewidth=2)\n",
    "    plt.text(100, plt.ylim()[1]*0.9, '100 l/s', color='red')\n",
    "    plt.show()\n",
    "\n",
    "def plot_boxplot(df):\n",
    "    \"\"\"\n",
    "    Graficar un boxplot del caudal medio mensual.\n",
    "    \"\"\"\n",
    "    # Activa el estilo 'ggplot'\n",
    "    plt.style.use('ggplot')\n",
    "    plt.figure(figsize=(10, 6))\n",
    "    plt.boxplot(df['Qmedio_mensual_l/s'], vert=False)\n",
    "    plt.title('Boxplot del Caudal Medio Mensual (l/s)')\n",
    "    plt.xlabel('Qmedio_mensual_l/s')\n",
    "    plt.axvline(100, color='red', linestyle='dashed', linewidth=2)\n",
    "    plt.text(100, 1.1, '100 l/s', color='red')\n",
    "    plt.show()"
   ]
  },
  {
   "cell_type": "code",
   "execution_count": 55,
   "metadata": {},
   "outputs": [
    {
     "name": "stdout",
     "output_type": "stream",
     "text": [
      "Estadísticas descriptivas del Caudal Medio Mensual Calculado:\n",
      "count    41226.000000\n",
      "mean         6.548348\n",
      "std          8.297460\n",
      "min          0.004016\n",
      "25%          1.505742\n",
      "50%          3.349757\n",
      "75%          8.963470\n",
      "max         98.923548\n",
      "Name: Qmedio_mensual_l/s, dtype: float64\n"
     ]
    },
    {
     "data": {
      "image/png": "[encoded data removed]",
      "text/plain": [
       "<Figure size 1000x600 with 1 Axes>"
      ]
     },
     "metadata": {},
     "output_type": "display_data"
    },
    {
     "data": {
      "image/png": "[encoded data removed]",
      "text/plain": [
       "<Figure size 1000x600 with 1 Axes>"
      ]
     },
     "metadata": {},
     "output_type": "display_data"
    }
   ],
   "source": [
    "# Uso de las funciones\n",
    "describe_caudal_mensual(Q_Medio_Mensual_filtrado)\n",
    "plot_histogram(Q_Medio_Mensual_filtrado)\n",
    "plot_boxplot(Q_Medio_Mensual_filtrado)"
   ]
  },
  {
   "cell_type": "markdown",
   "metadata": {},
   "source": [
    "Se ajusta el número de registros de acuerdo a los 444 Pozos filtrados (Campo Origen en el Dataset)"
   ]
  },
  {
   "cell_type": "code",
   "execution_count": 56,
   "metadata": {},
   "outputs": [
    {
     "data": {
      "text/plain": [
       "(41226, 3)"
      ]
     },
     "execution_count": 56,
     "metadata": {},
     "output_type": "execute_result"
    }
   ],
   "source": [
    "Q_Medio_Mensual_filtrado.shape"
   ]
  },
  {
   "cell_type": "code",
   "execution_count": 57,
   "metadata": {},
   "outputs": [
    {
     "name": "stdout",
     "output_type": "stream",
     "text": [
      "Valores negativos en 'Qmedio_mensual_l/s':\n",
      "Empty DataFrame\n",
      "Columns: [Origen, Mes-Año, Qmedio_mensual_l/s]\n",
      "Index: []\n"
     ]
    }
   ],
   "source": [
    "negativos_Q_Medio_Mensual_filtrado = Q_Medio_Mensual_filtrado[Q_Medio_Mensual_filtrado['Qmedio_mensual_l/s'] < 0]\n",
    "\n",
    "print(\"Valores negativos en 'Qmedio_mensual_l/s':\")\n",
    "print(negativos_Q_Medio_Mensual_filtrado)"
   ]
  },
  {
   "cell_type": "code",
   "execution_count": 58,
   "metadata": {},
   "outputs": [
    {
     "name": "stdout",
     "output_type": "stream",
     "text": [
      "         Origen  Mes-Año  Qmedio_mensual_l/s\n",
      "0      ARPES-01  01-2014            6.658555\n",
      "1      ARPES-01  02-2014            7.717431\n",
      "2      ARPES-01  03-2014            7.663063\n",
      "3      ARPES-01  04-2014            7.573851\n",
      "4      ARPES-01  05-2014            5.465879\n",
      "...         ...      ...                 ...\n",
      "41239   XP17-05  06-2024            0.274481\n",
      "41240   XP17-05  08-2024            0.070146\n",
      "41241   XP17-05  09-2024            0.100827\n",
      "41242   XP17-05  10-2024            0.841751\n",
      "41243   XP17-05  12-2024            0.211238\n",
      "\n",
      "[41226 rows x 3 columns]\n"
     ]
    }
   ],
   "source": [
    "print(Q_Medio_Mensual_filtrado)"
   ]
  },
  {
   "cell_type": "markdown",
   "metadata": {},
   "source": [
    "Valida los valores NULL o vacios para cada variable"
   ]
  },
  {
   "cell_type": "code",
   "execution_count": 59,
   "metadata": {},
   "outputs": [
    {
     "name": "stdout",
     "output_type": "stream",
     "text": [
      "Origen                0\n",
      "Mes-Año               0\n",
      "Qmedio_mensual_l/s    0\n",
      "dtype: int64\n"
     ]
    }
   ],
   "source": [
    "# Chequeo de valores faltantes\n",
    "print(Q_Medio_Mensual_filtrado.isnull().sum())"
   ]
  },
  {
   "cell_type": "markdown",
   "metadata": {},
   "source": [
    "4. Valida el Número de Pozos contenidos en el Dataset"
   ]
  },
  {
   "cell_type": "code",
   "execution_count": 60,
   "metadata": {},
   "outputs": [
    {
     "name": "stdout",
     "output_type": "stream",
     "text": [
      "Número de Pozos: 447\n"
     ]
    }
   ],
   "source": [
    "num_pozos = len(Q_Medio_Mensual_filtrado['Origen'].unique())\n",
    "\n",
    "print(\"Número de Pozos:\", num_pozos)"
   ]
  },
  {
   "cell_type": "markdown",
   "metadata": {},
   "source": [
    "5. Creación un nuevo campo Fecha"
   ]
  },
  {
   "cell_type": "code",
   "execution_count": 61,
   "metadata": {},
   "outputs": [],
   "source": [
    "def create_date_column(dataframe):\n",
    "    \"\"\"\n",
    "    Create a 'Fecha' column from 'Mes-Año' and add 'Mes' and 'Año' columns.\n",
    "\n",
    "    Args:\n",
    "        dataframe (pd.DataFrame): Input dataframe with 'Mes-Año' column.\n",
    "\n",
    "    Returns:\n",
    "        pd.DataFrame: Dataframe with new 'Fecha', 'Mes', and 'Año' columns.\n",
    "    \"\"\"\n",
    "    dataframe['Fecha'] = pd.to_datetime(dataframe['Mes-Año'], format='%m-%Y').dt.to_period('M').dt.start_time\n",
    "    dataframe['Mes'] = dataframe['Fecha'].dt.month\n",
    "    dataframe['Agno'] = dataframe['Fecha'].dt.year\n",
    "    return dataframe\n"
   ]
  },
  {
   "cell_type": "code",
   "execution_count": 62,
   "metadata": {},
   "outputs": [
    {
     "name": "stdout",
     "output_type": "stream",
     "text": [
      "         Origen  Mes-Año  Qmedio_mensual_l/s      Fecha  Mes  Agno\n",
      "0      ARPES-01  01-2014            6.658555 2014-01-01    1  2014\n",
      "1      ARPES-01  02-2014            7.717431 2014-02-01    2  2014\n",
      "2      ARPES-01  03-2014            7.663063 2014-03-01    3  2014\n",
      "3      ARPES-01  04-2014            7.573851 2014-04-01    4  2014\n",
      "4      ARPES-01  05-2014            5.465879 2014-05-01    5  2014\n",
      "...         ...      ...                 ...        ...  ...   ...\n",
      "41239   XP17-05  06-2024            0.274481 2024-06-01    6  2024\n",
      "41240   XP17-05  08-2024            0.070146 2024-08-01    8  2024\n",
      "41241   XP17-05  09-2024            0.100827 2024-09-01    9  2024\n",
      "41242   XP17-05  10-2024            0.841751 2024-10-01   10  2024\n",
      "41243   XP17-05  12-2024            0.211238 2024-12-01   12  2024\n",
      "\n",
      "[41226 rows x 6 columns]\n"
     ]
    }
   ],
   "source": [
    "Q_Medio_Mensual_filtrado = create_date_column(Q_Medio_Mensual_filtrado)\n",
    "print(Q_Medio_Mensual_filtrado)\n"
   ]
  },
  {
   "cell_type": "code",
   "execution_count": 63,
   "metadata": {},
   "outputs": [
    {
     "data": {
      "text/html": [
       "<div>\n",
       "<style scoped>\n",
       "    .dataframe tbody tr th:only-of-type {\n",
       "        vertical-align: middle;\n",
       "    }\n",
       "\n",
       "    .dataframe tbody tr th {\n",
       "        vertical-align: top;\n",
       "    }\n",
       "\n",
       "    .dataframe thead th {\n",
       "        text-align: right;\n",
       "    }\n",
       "</style>\n",
       "<table border=\"1\" class=\"dataframe\">\n",
       "  <thead>\n",
       "    <tr style=\"text-align: right;\">\n",
       "      <th></th>\n",
       "      <th>Origen</th>\n",
       "      <th>Mes-Año</th>\n",
       "      <th>Qmedio_mensual_l/s</th>\n",
       "      <th>Fecha</th>\n",
       "      <th>Mes</th>\n",
       "      <th>Agno</th>\n",
       "    </tr>\n",
       "  </thead>\n",
       "  <tbody>\n",
       "    <tr>\n",
       "      <th>0</th>\n",
       "      <td>ARPES-01</td>\n",
       "      <td>01-2014</td>\n",
       "      <td>6.658555</td>\n",
       "      <td>2014-01-01</td>\n",
       "      <td>1</td>\n",
       "      <td>2014</td>\n",
       "    </tr>\n",
       "    <tr>\n",
       "      <th>1</th>\n",
       "      <td>ARPES-01</td>\n",
       "      <td>02-2014</td>\n",
       "      <td>7.717431</td>\n",
       "      <td>2014-02-01</td>\n",
       "      <td>2</td>\n",
       "      <td>2014</td>\n",
       "    </tr>\n",
       "    <tr>\n",
       "      <th>2</th>\n",
       "      <td>ARPES-01</td>\n",
       "      <td>03-2014</td>\n",
       "      <td>7.663063</td>\n",
       "      <td>2014-03-01</td>\n",
       "      <td>3</td>\n",
       "      <td>2014</td>\n",
       "    </tr>\n",
       "    <tr>\n",
       "      <th>3</th>\n",
       "      <td>ARPES-01</td>\n",
       "      <td>04-2014</td>\n",
       "      <td>7.573851</td>\n",
       "      <td>2014-04-01</td>\n",
       "      <td>4</td>\n",
       "      <td>2014</td>\n",
       "    </tr>\n",
       "    <tr>\n",
       "      <th>4</th>\n",
       "      <td>ARPES-01</td>\n",
       "      <td>05-2014</td>\n",
       "      <td>5.465879</td>\n",
       "      <td>2014-05-01</td>\n",
       "      <td>5</td>\n",
       "      <td>2014</td>\n",
       "    </tr>\n",
       "  </tbody>\n",
       "</table>\n",
       "</div>"
      ],
      "text/plain": [
       "     Origen  Mes-Año  Qmedio_mensual_l/s      Fecha  Mes  Agno\n",
       "0  ARPES-01  01-2014            6.658555 2014-01-01    1  2014\n",
       "1  ARPES-01  02-2014            7.717431 2014-02-01    2  2014\n",
       "2  ARPES-01  03-2014            7.663063 2014-03-01    3  2014\n",
       "3  ARPES-01  04-2014            7.573851 2014-04-01    4  2014\n",
       "4  ARPES-01  05-2014            5.465879 2014-05-01    5  2014"
      ]
     },
     "execution_count": 63,
     "metadata": {},
     "output_type": "execute_result"
    }
   ],
   "source": [
    "Q_Medio_Mensual_filtrado.head()"
   ]
  },
  {
   "cell_type": "code",
   "execution_count": 64,
   "metadata": {},
   "outputs": [
    {
     "data": {
      "text/plain": [
       "Origen                        object\n",
       "Mes-Año                       object\n",
       "Qmedio_mensual_l/s           float64\n",
       "Fecha                 datetime64[ns]\n",
       "Mes                            int32\n",
       "Agno                           int32\n",
       "dtype: object"
      ]
     },
     "execution_count": 64,
     "metadata": {},
     "output_type": "execute_result"
    }
   ],
   "source": [
    "Q_Medio_Mensual_filtrado.dtypes"
   ]
  },
  {
   "cell_type": "markdown",
   "metadata": {},
   "source": [
    "5. Validar campo Fecha este correctamente asignada a un dato tipo Fecha. \n",
    "   Agrega dos columnas 'Mes' y 'Agno' (Año)"
   ]
  },
  {
   "cell_type": "code",
   "execution_count": 65,
   "metadata": {},
   "outputs": [],
   "source": [
    "Q_Medio_Mensual_filtrado['Mes'] = Q_Medio_Mensual_filtrado['Fecha'].dt.month\n",
    "Q_Medio_Mensual_filtrado['Agno'] = Q_Medio_Mensual_filtrado['Fecha'].dt.year"
   ]
  },
  {
   "cell_type": "code",
   "execution_count": 66,
   "metadata": {},
   "outputs": [
    {
     "data": {
      "text/plain": [
       "Origen                        object\n",
       "Mes-Año                       object\n",
       "Qmedio_mensual_l/s           float64\n",
       "Fecha                 datetime64[ns]\n",
       "Mes                            int32\n",
       "Agno                           int32\n",
       "dtype: object"
      ]
     },
     "execution_count": 66,
     "metadata": {},
     "output_type": "execute_result"
    }
   ],
   "source": [
    "Q_Medio_Mensual_filtrado.dtypes"
   ]
  },
  {
   "cell_type": "code",
   "execution_count": 67,
   "metadata": {},
   "outputs": [
    {
     "name": "stdout",
     "output_type": "stream",
     "text": [
      "     Origen  Mes-Año  Qmedio_mensual_l/s      Fecha  Mes  Agno\n",
      "0  ARPES-01  01-2014            6.658555 2014-01-01    1  2014\n",
      "1  ARPES-01  02-2014            7.717431 2014-02-01    2  2014\n",
      "2  ARPES-01  03-2014            7.663063 2014-03-01    3  2014\n",
      "3  ARPES-01  04-2014            7.573851 2014-04-01    4  2014\n",
      "4  ARPES-01  05-2014            5.465879 2014-05-01    5  2014\n"
     ]
    }
   ],
   "source": [
    "print(Q_Medio_Mensual_filtrado.head())"
   ]
  },
  {
   "cell_type": "markdown",
   "metadata": {},
   "source": [
    "Función para Validar la Cantidad de Datos por Año en Términos de Volumen"
   ]
  },
  {
   "cell_type": "markdown",
   "metadata": {},
   "source": [
    "6. Válida la la cantidad de datos por año en términos de volumen"
   ]
  },
  {
   "cell_type": "code",
   "execution_count": 68,
   "metadata": {},
   "outputs": [],
   "source": [
    "def plot_data_volume_per_year(Q_Medio_Mensual_filtrado):\n",
    "    plt.style.use('ggplot')\n",
    "    \n",
    "    data_per_year = Q_Medio_Mensual_filtrado.groupby('Agno').size().reset_index(name='Counts')\n",
    "    \n",
    "    plt.figure(figsize=(10, 6))\n",
    "    sns.scatterplot(data=data_per_year, x='Agno', y='Counts', hue='Counts', size='Counts', sizes=(50, 500), legend=False)\n",
    "    \n",
    "    plt.title('Volumen de datos por año')\n",
    "    plt.xlabel('Año')\n",
    "    plt.ylabel('Volumen de datos')\n",
    "    plt.grid(color='lightgray', linestyle='-', linewidth=0.5)\n",
    "    plt.show()\n",
    "    \n",
    "    return data_per_year"
   ]
  },
  {
   "cell_type": "code",
   "execution_count": 69,
   "metadata": {},
   "outputs": [
    {
     "data": {
      "image/png": "[encoded data removed]",
      "text/plain": [
       "<Figure size 1000x600 with 1 Axes>"
      ]
     },
     "metadata": {},
     "output_type": "display_data"
    }
   ],
   "source": [
    "# Implementacion de la vizualización\n",
    "data_per_year = plot_data_volume_per_year(Q_Medio_Mensual_filtrado)"
   ]
  },
  {
   "cell_type": "markdown",
   "metadata": {},
   "source": [
    "### Estadísticas Descriptivas"
   ]
  },
  {
   "cell_type": "markdown",
   "metadata": {},
   "source": [
    "Función para Generar Estadísticas Descriptivas"
   ]
  },
  {
   "cell_type": "code",
   "execution_count": 70,
   "metadata": {},
   "outputs": [
    {
     "data": {
      "text/html": [
       "<div>\n",
       "<style scoped>\n",
       "    .dataframe tbody tr th:only-of-type {\n",
       "        vertical-align: middle;\n",
       "    }\n",
       "\n",
       "    .dataframe tbody tr th {\n",
       "        vertical-align: top;\n",
       "    }\n",
       "\n",
       "    .dataframe thead th {\n",
       "        text-align: right;\n",
       "    }\n",
       "</style>\n",
       "<table border=\"1\" class=\"dataframe\">\n",
       "  <thead>\n",
       "    <tr style=\"text-align: right;\">\n",
       "      <th></th>\n",
       "      <th></th>\n",
       "      <th>count</th>\n",
       "      <th>mean</th>\n",
       "      <th>std</th>\n",
       "      <th>min</th>\n",
       "      <th>25%</th>\n",
       "      <th>50%</th>\n",
       "      <th>75%</th>\n",
       "      <th>max</th>\n",
       "    </tr>\n",
       "    <tr>\n",
       "      <th>Origen</th>\n",
       "      <th>Fecha</th>\n",
       "      <th></th>\n",
       "      <th></th>\n",
       "      <th></th>\n",
       "      <th></th>\n",
       "      <th></th>\n",
       "      <th></th>\n",
       "      <th></th>\n",
       "      <th></th>\n",
       "    </tr>\n",
       "  </thead>\n",
       "  <tbody>\n",
       "    <tr>\n",
       "      <th rowspan=\"5\" valign=\"top\">ARPES-01</th>\n",
       "      <th>2014</th>\n",
       "      <td>12.0</td>\n",
       "      <td>7.147245</td>\n",
       "      <td>0.885572</td>\n",
       "      <td>5.461704</td>\n",
       "      <td>6.655109</td>\n",
       "      <td>7.618457</td>\n",
       "      <td>7.754153</td>\n",
       "      <td>7.793820</td>\n",
       "    </tr>\n",
       "    <tr>\n",
       "      <th>2015</th>\n",
       "      <td>12.0</td>\n",
       "      <td>7.788604</td>\n",
       "      <td>0.134295</td>\n",
       "      <td>7.530274</td>\n",
       "      <td>7.701870</td>\n",
       "      <td>7.795128</td>\n",
       "      <td>7.895342</td>\n",
       "      <td>7.953326</td>\n",
       "    </tr>\n",
       "    <tr>\n",
       "      <th>2016</th>\n",
       "      <td>12.0</td>\n",
       "      <td>6.565493</td>\n",
       "      <td>0.245723</td>\n",
       "      <td>6.042637</td>\n",
       "      <td>6.475724</td>\n",
       "      <td>6.598756</td>\n",
       "      <td>6.683772</td>\n",
       "      <td>6.992993</td>\n",
       "    </tr>\n",
       "    <tr>\n",
       "      <th>2017</th>\n",
       "      <td>12.0</td>\n",
       "      <td>6.366669</td>\n",
       "      <td>0.203386</td>\n",
       "      <td>5.945192</td>\n",
       "      <td>6.282884</td>\n",
       "      <td>6.366616</td>\n",
       "      <td>6.455569</td>\n",
       "      <td>6.818050</td>\n",
       "    </tr>\n",
       "    <tr>\n",
       "      <th>2018</th>\n",
       "      <td>12.0</td>\n",
       "      <td>6.540190</td>\n",
       "      <td>0.057732</td>\n",
       "      <td>6.373618</td>\n",
       "      <td>6.535623</td>\n",
       "      <td>6.554380</td>\n",
       "      <td>6.570661</td>\n",
       "      <td>6.588226</td>\n",
       "    </tr>\n",
       "    <tr>\n",
       "      <th>...</th>\n",
       "      <th>...</th>\n",
       "      <td>...</td>\n",
       "      <td>...</td>\n",
       "      <td>...</td>\n",
       "      <td>...</td>\n",
       "      <td>...</td>\n",
       "      <td>...</td>\n",
       "      <td>...</td>\n",
       "      <td>...</td>\n",
       "    </tr>\n",
       "    <tr>\n",
       "      <th rowspan=\"5\" valign=\"top\">XP17-05</th>\n",
       "      <th>2020</th>\n",
       "      <td>12.0</td>\n",
       "      <td>0.409689</td>\n",
       "      <td>0.016351</td>\n",
       "      <td>0.389959</td>\n",
       "      <td>0.396284</td>\n",
       "      <td>0.405874</td>\n",
       "      <td>0.424567</td>\n",
       "      <td>0.435761</td>\n",
       "    </tr>\n",
       "    <tr>\n",
       "      <th>2021</th>\n",
       "      <td>12.0</td>\n",
       "      <td>0.318124</td>\n",
       "      <td>0.044463</td>\n",
       "      <td>0.268312</td>\n",
       "      <td>0.287928</td>\n",
       "      <td>0.310807</td>\n",
       "      <td>0.330615</td>\n",
       "      <td>0.442213</td>\n",
       "    </tr>\n",
       "    <tr>\n",
       "      <th>2022</th>\n",
       "      <td>12.0</td>\n",
       "      <td>0.311147</td>\n",
       "      <td>0.014214</td>\n",
       "      <td>0.274141</td>\n",
       "      <td>0.306928</td>\n",
       "      <td>0.312025</td>\n",
       "      <td>0.319240</td>\n",
       "      <td>0.327536</td>\n",
       "    </tr>\n",
       "    <tr>\n",
       "      <th>2023</th>\n",
       "      <td>12.0</td>\n",
       "      <td>0.296822</td>\n",
       "      <td>0.008433</td>\n",
       "      <td>0.283924</td>\n",
       "      <td>0.291464</td>\n",
       "      <td>0.296765</td>\n",
       "      <td>0.304601</td>\n",
       "      <td>0.306901</td>\n",
       "    </tr>\n",
       "    <tr>\n",
       "      <th>2024</th>\n",
       "      <td>10.0</td>\n",
       "      <td>0.300036</td>\n",
       "      <td>0.213828</td>\n",
       "      <td>0.070146</td>\n",
       "      <td>0.221816</td>\n",
       "      <td>0.262239</td>\n",
       "      <td>0.305332</td>\n",
       "      <td>0.841751</td>\n",
       "    </tr>\n",
       "  </tbody>\n",
       "</table>\n",
       "<p>3608 rows × 8 columns</p>\n",
       "</div>"
      ],
      "text/plain": [
       "                count      mean       std       min       25%       50%  \\\n",
       "Origen   Fecha                                                            \n",
       "ARPES-01 2014    12.0  7.147245  0.885572  5.461704  6.655109  7.618457   \n",
       "         2015    12.0  7.788604  0.134295  7.530274  7.701870  7.795128   \n",
       "         2016    12.0  6.565493  0.245723  6.042637  6.475724  6.598756   \n",
       "         2017    12.0  6.366669  0.203386  5.945192  6.282884  6.366616   \n",
       "         2018    12.0  6.540190  0.057732  6.373618  6.535623  6.554380   \n",
       "...               ...       ...       ...       ...       ...       ...   \n",
       "XP17-05  2020    12.0  0.409689  0.016351  0.389959  0.396284  0.405874   \n",
       "         2021    12.0  0.318124  0.044463  0.268312  0.287928  0.310807   \n",
       "         2022    12.0  0.311147  0.014214  0.274141  0.306928  0.312025   \n",
       "         2023    12.0  0.296822  0.008433  0.283924  0.291464  0.296765   \n",
       "         2024    10.0  0.300036  0.213828  0.070146  0.221816  0.262239   \n",
       "\n",
       "                     75%       max  \n",
       "Origen   Fecha                      \n",
       "ARPES-01 2014   7.754153  7.793820  \n",
       "         2015   7.895342  7.953326  \n",
       "         2016   6.683772  6.992993  \n",
       "         2017   6.455569  6.818050  \n",
       "         2018   6.570661  6.588226  \n",
       "...                  ...       ...  \n",
       "XP17-05  2020   0.424567  0.435761  \n",
       "         2021   0.330615  0.442213  \n",
       "         2022   0.319240  0.327536  \n",
       "         2023   0.304601  0.306901  \n",
       "         2024   0.305332  0.841751  \n",
       "\n",
       "[3608 rows x 8 columns]"
      ]
     },
     "metadata": {},
     "output_type": "display_data"
    }
   ],
   "source": [
    "\n",
    "def calculate_descriptive_statistics(df):\n",
    "    \"\"\"\n",
    "    Calcula las estadísticas descriptivas del DataFrame agrupado por 'Origen' y 'Fecha' (año).\n",
    "    \n",
    "    Args:\n",
    "        df (pd.DataFrame): DataFrame que contiene los datos filtrados y procesados.\n",
    "\n",
    "    Returns:\n",
    "        pd.DataFrame: DataFrame con las estadísticas descriptivas.\n",
    "    \"\"\"\n",
    "    df_grouped_caudal = df.groupby(['Origen', df['Fecha'].dt.year])['Qmedio_mensual_l/s']\n",
    "    return df_grouped_caudal.describe()\n",
    "\n",
    "def visualize_descriptive_statistics(df_grouped_caudal):\n",
    "    \"\"\"\n",
    "    Muestra las estadísticas descriptivas y las guarda en un archivo Excel.\n",
    "\n",
    "    Args:\n",
    "        df_grouped_caudal (pd.DataFrame): DataFrame con las estadísticas descriptivas calculadas.\n",
    "    \"\"\"\n",
    "    display(df_grouped_caudal)\n",
    "    # Exportar a Excel (opcional)\n",
    "    # df_grouped_caudal.describe().to_excel(\"df_grouped_caudal_describe.xlsx\")\n",
    "\n",
    "# Aplicación de las funciones\n",
    "df_grouped_caudal = calculate_descriptive_statistics(Q_Medio_Mensual_filtrado)\n",
    "visualize_descriptive_statistics(df_grouped_caudal)\n"
   ]
  },
  {
   "cell_type": "code",
   "execution_count": 71,
   "metadata": {},
   "outputs": [],
   "source": [
    "def plot_yearly_data(df, origen, y_max=10):\n",
    "    \"\"\"\n",
    "    Grafica los datos anuales de Qmedio_mensual_l/s para un pozo específico.\n",
    "\n",
    "    Args:\n",
    "        df (pd.DataFrame): DataFrame que contiene los datos filtrados y procesados.\n",
    "        origen (str): El origen (pozo) específico que se desea graficar.\n",
    "        y_max (int, opcional): Límite superior del eje y. Predeterminado es 10 l/s.\n",
    "    \"\"\"\n",
    "    plt.style.use('ggplot')\n",
    "    \n",
    "    # Filtrar los datos para el pozo específico\n",
    "    pozo_data = df[df['Origen'] == origen].copy()\n",
    "    \n",
    "    # Asegurar que la columna 'Mes-Año' es de tipo datetime\n",
    "    pozo_data['Mes-Año'] = pd.to_datetime(pozo_data['Mes-Año'], format='%m-%Y')\n",
    "\n",
    "    # Graficar los datos anuales\n",
    "    plt.figure(figsize=(15, 7))\n",
    "    for year in pozo_data['Mes-Año'].dt.year.unique():\n",
    "        yearly_data = pozo_data[pozo_data['Mes-Año'].dt.year == year]\n",
    "        plt.scatter(yearly_data['Mes-Año'], yearly_data['Qmedio_mensual_l/s'], label=f'Año {year}', alpha=0.6)\n",
    "    \n",
    "    # Ajustar el límite superior del eje y\n",
    "    plt.ylim(0, y_max)\n",
    "    \n",
    "    # Configurar los formatos de fecha en el eje x\n",
    "    plt.gca().xaxis.set_major_formatter(mdates.DateFormatter('%b/%Y'))\n",
    "    plt.gca().xaxis.set_major_locator(mdates.YearLocator())\n",
    "    \n",
    "    # Rotar las fechas para mejor visualización\n",
    "    plt.xticks(rotation=0)\n",
    "    \n",
    "    # Añadir etiquetas y título\n",
    "    plt.xlabel('Periodo')\n",
    "    plt.ylabel('Qmedio_mensual_l/s')\n",
    "    plt.title(origen)\n",
    "    \n",
    "    # Añadir la cuadrícula\n",
    "    plt.grid(True)\n",
    "    \n",
    "    # Ajustar el formato y añadir la leyenda\n",
    "    plt.tight_layout()\n",
    "    plt.legend()\n",
    "    \n",
    "    # Mostrar el gráfico\n",
    "    plt.show()"
   ]
  },
  {
   "cell_type": "code",
   "execution_count": 73,
   "metadata": {},
   "outputs": [
    {
     "data": {
      "image/png": "[encoded data removed]",
      "text/plain": [
       "<Figure size 1500x700 with 1 Axes>"
      ]
     },
     "metadata": {},
     "output_type": "display_data"
    }
   ],
   "source": [
    "\n",
    "# Visualización de los datos anuales para un pozo específico\n",
    "plot_yearly_data(Q_Medio_Mensual_filtrado, 'ARPES-01')"
   ]
  },
  {
   "cell_type": "code",
   "execution_count": 72,
   "metadata": {},
   "outputs": [],
   "source": [
    "def save_to_excel(df, output_path):\n",
    "    \"\"\"\n",
    "    Guarda el DataFrame proporcionado en un archivo Excel.\n",
    "\n",
    "    Args:\n",
    "        df (pd.DataFrame): DataFrame a guardar.\n",
    "        output_path (str): Ruta del archivo Excel de salida.\n",
    "    \"\"\"\n",
    "    df.to_excel(output_path, index=False)"
   ]
  },
  {
   "cell_type": "code",
   "execution_count": 73,
   "metadata": {},
   "outputs": [
    {
     "data": {
      "text/html": [
       "<div>\n",
       "<style scoped>\n",
       "    .dataframe tbody tr th:only-of-type {\n",
       "        vertical-align: middle;\n",
       "    }\n",
       "\n",
       "    .dataframe tbody tr th {\n",
       "        vertical-align: top;\n",
       "    }\n",
       "\n",
       "    .dataframe thead th {\n",
       "        text-align: right;\n",
       "    }\n",
       "</style>\n",
       "<table border=\"1\" class=\"dataframe\">\n",
       "  <thead>\n",
       "    <tr style=\"text-align: right;\">\n",
       "      <th></th>\n",
       "      <th>Origen</th>\n",
       "      <th>Fecha</th>\n",
       "      <th>Qmedio_mensual_l/s</th>\n",
       "    </tr>\n",
       "  </thead>\n",
       "  <tbody>\n",
       "    <tr>\n",
       "      <th>0</th>\n",
       "      <td>ARPES-01</td>\n",
       "      <td>2014-01-01</td>\n",
       "      <td>6.658555</td>\n",
       "    </tr>\n",
       "    <tr>\n",
       "      <th>1</th>\n",
       "      <td>ARPES-01</td>\n",
       "      <td>2014-02-01</td>\n",
       "      <td>7.717431</td>\n",
       "    </tr>\n",
       "    <tr>\n",
       "      <th>2</th>\n",
       "      <td>ARPES-01</td>\n",
       "      <td>2014-03-01</td>\n",
       "      <td>7.663063</td>\n",
       "    </tr>\n",
       "    <tr>\n",
       "      <th>3</th>\n",
       "      <td>ARPES-01</td>\n",
       "      <td>2014-04-01</td>\n",
       "      <td>7.573851</td>\n",
       "    </tr>\n",
       "    <tr>\n",
       "      <th>4</th>\n",
       "      <td>ARPES-01</td>\n",
       "      <td>2014-05-01</td>\n",
       "      <td>5.465879</td>\n",
       "    </tr>\n",
       "  </tbody>\n",
       "</table>\n",
       "</div>"
      ],
      "text/plain": [
       "     Origen      Fecha  Qmedio_mensual_l/s\n",
       "0  ARPES-01 2014-01-01            6.658555\n",
       "1  ARPES-01 2014-02-01            7.717431\n",
       "2  ARPES-01 2014-03-01            7.663063\n",
       "3  ARPES-01 2014-04-01            7.573851\n",
       "4  ARPES-01 2014-05-01            5.465879"
      ]
     },
     "execution_count": 73,
     "metadata": {},
     "output_type": "execute_result"
    }
   ],
   "source": [
    "# Ejemplo de uso\n",
    "Q_Medio_Mensual_filtrado_final = Q_Medio_Mensual_filtrado[['Origen', 'Fecha', 'Qmedio_mensual_l/s']].copy()\n",
    "save_to_excel(Q_Medio_Mensual_filtrado_final, 'Q_Medio_Mensual_output_17072024.xlsx')\n",
    "Q_Medio_Mensual_filtrado_final.head()"
   ]
  },
  {
   "cell_type": "markdown",
   "metadata": {},
   "source": [
    "# Flujo 4 preprocesamiento4 de datos\n",
    "### - Agregar columna 'Mes-Año'\n",
    "### - Validación Rango variable Caudal Calculada Caudal Medio Menesual l/s\n",
    "### - Creación un nuevo campo Fecha\n",
    "### - Valida la la cantidad de datos por año en términos de volumen\n",
    "### - Generar Estadísticas Descriptivas\n",
    "### - Grafica la evolución temporal del caudal medio mensual por Origen.\n",
    "### - exportar archivo procesado caudal medio mensual"
   ]
  }
 ],
 "metadata": {
  "kernelspec": {
   "display_name": "Python 3",
   "language": "python",
   "name": "python3"
  },
  "language_info": {
   "codemirror_mode": {
    "name": "ipython",
    "version": 3
   },
   "file_extension": ".py",
   "mimetype": "text/x-python",
   "name": "python",
   "nbconvert_exporter": "python",
   "pygments_lexer": "ipython3",
   "version": "3.11.4"
  }
 },
 "nbformat": 4,
 "nbformat_minor": 2
}
