{
 "cells": [
  {
   "cell_type": "markdown",
   "metadata": {},
   "source": [
    "Propuesta del Proyecto: \n",
    "\n",
    "Objetivos:\n",
    "\n",
    "* Desarrollar un método robusto para la detección y filtrado de outliers que mejore la calidad de los datos.\n",
    "\n",
    "* Implementar un flujo de trabajo reproducible y transparente que permita una validación y revisión cruzada.\n",
    "\n",
    "Desafío: La extracción de salmueras requiere un balance cuidadoso entre la maximización de la producción y la preservación del ecosistema del salar. Las operaciones en el Salar de Atacama enfrentan el reto constante de pronosticar con precisión el flujo y la concentración de iones en los pozos de extracción. Estos pronósticos son cruciales para la planificación operativa y la toma de decisiones estratégicas a corto y largo plazo.\n",
    "\n",
    "Necesidad de Mejora: Recientemente se ha identificado una necesidad crítica de mejorar la trazabilidad y reproducibilidad de los Escenarios de Oferta, que son pronósticos semestrales utilizados para la planificación operativa y estratégica. Las deficiencias en la metodología actual han llevado a decisiones basadas en datos que a veces carecen de la rigurosidad necesaria, poniendo en riesgo la eficacia de la gestión de recursos hídricos.\n",
    "\n",
    "Proyecto Actual: En respuesta a esta necesidad, se propone fortalecer el análisis de datos y la modelación hidrológica. El enfoque está en la aplicación de técnicas avanzadas de detección de outliers y análisis de datos para asegurar que la información utilizada en los modelos predictivos sea de la más alta calidad, mejorando así la precisión y fiabilidad de los Escenarios de Oferta.\n",
    "\n",
    "Meta del Proyecto: El objetivo es desarrollar y validar un proceso mejorado para la detección de outliers, lo que resultará en un conjunto de datos optimizado para el modelado predictivo. Este proceso deberá ser transparente, reproducible y fácilmente revisable, garantizando así la integridad y la confianza en las decisiones estratégicas tomadas sobre la base de estos datos.\n",
    "\n",
    "\n",
    "\n"
   ]
  },
  {
   "cell_type": "markdown",
   "metadata": {},
   "source": [
    "Preparación de los datos\n",
    "\n",
    "La información en la cual se basa el pronóstico de caudales, para el periodo septiembre 2023 a septiembre 2025, corresponde a los caudales históricos observados en pozos de producción. Estos datos reales, proporcionados por TEST01, cubren entre enero 2014 a agosto 2023. Pozos adicionales utilizados se proyectan según resultados de escenario E110. En total se utilizaron datos de 444 pozos, pertenecientes a 4 sistemas (Litio Directo, MOP AS, MOP BS y Porteo).\n",
    "\n",
    "Si bien es parte del procedimiento que las series temporales sean procesadas, aplicando filtros que eliminen datos anómalos (outliers) y exceso de ruido (esto con la finalidad de obtener tendencias principales que puedan proyectarse); en esta oportunidad los datos de entrada filtrados y procesados, fueron entregados por TEST01.\n",
    "\n",
    "No obstante, en un proceso completo que considera la BBDD global de caudales reales, en cual se realice el proceso de limpieza, se debe considerar una serie de análisis estadísticos y distribución de datos, tanto de la serie completa como por tramos que identifique anomalías, ruido en las series y otros comportamientos relevantes a discriminar. La secuencia general de este procedimiento debe considerar:\n",
    "\n",
    "1.- Recopilación de datos: Utilizando la BBDD de caudales reales, proveniente de TEST01 (Caudales “Opera”), se deben recopilar todos los datos de la serie temporal de forma completa y precisa. asegurándose de que los datos, fuentes y unidades sean consistentes entre si (por ej. caudales efectivos por día bombeados)\n",
    "\n",
    "2.- Identificación de valores atípicos: Análisis de los datos a través de técnicas estadísticas, como gráficos de caja y diagramas de dispersión, para identificar valores atípicos. Estos valores pueden distorsionar los análisis posteriores y generar sobreestimación de errores en ajustes, por lo que es importante tratarlos adecuadamente y filtrarlos cuando corresponda (en esta etapa pueden incluirse tanto valores atípicos, caudales nulos, como caudales negativos que se aprecian en la BBDD bruta de caudales)\n",
    "\n",
    "3.- Suavizado de la serie temporal: El ruido en las series temporales es un problema para los ajustes de los datos por medios de modelos o enfoques analíticos, pues las variaciones aleatorias en los datos difícilmente pueden ser replicadas y representadas en tendencias proyectadas, y a su vez aumentan innecesariamente el error en ajustes posteriores. Aplicar técnicas de suavizado, como promedios móviles o suavizado exponencial, para eliminar el ruido y las variaciones aleatorias en los datos, facilitará la identificación de patrones de comportamiento que tengan coherencia con la tendencia esperada de los datos.\n",
    "\n",
    "4.- Detección de patrones anómalos: Estos patrones pueden incluir ascensos de caudal por periodos cortos, peaks que escapan de la tendencia histórica, u otras anomalías. Es importante buscar y filtrar patrones anómalos o comportamientos inusuales en la serie temporal. Esto puede implicar el uso de técnicas de anomalías o análisis de tendencias, que posteriormente puedan no ser consideradas para la proyección de caudales\n",
    "\n",
    "5.- Verificación de consistencia y cambios de tendencias temporales recientes: Por último, dado que hay antecedentes de que ciertos pozos pueden tener cambios de bombeos asociados a una nueva regla operacional, que en ciertos casos pueden implicar un aumento o disminución de tasas de bombeo; que, a su vez, marquen una nueva tendencia o comportamiento a considerar. En estos casos, es importante asegurarse de que los datos del último periodo representen esta nueva tendencia por un periodo dado de tiempo (por ej. dos meses al menos) y no sea parte de mediciones o valores atípicos. Esto es esencial para que futuras proyecciones se ajusten a comportamientos reales de pozos y no tendencias desactualizadas\n",
    "\n",
    "\n",
    "\n",
    "\n"
   ]
  },
  {
   "cell_type": "markdown",
   "metadata": {},
   "source": [
    "## La librería NumPy\n",
    "\n",
    "<div>\n",
    "<img src=\"https://github.com/Vokturz/Curso-Python-BCCh/blob/main/clase3/numpy_dalle3.png?raw=true\" width=\"500\"/>\n",
    "</div>\n",
    "\n",
    "NumPy es una librería especializada en operaciones matemáticas y manipulación de vectores y matrices. Incluye un montón de funciones matemáticas, así como una estructura de datos propia llamada `ndarray` que es mucho más rapida que las listas convencionales de Python y que ademas aporta una mayor versatilidad al permitir describir matrices."
   ]
  },
  {
   "cell_type": "markdown",
   "metadata": {},
   "source": [
    "### Script de Limpieza "
   ]
  },
  {
   "cell_type": "markdown",
   "metadata": {},
   "source": [
    "### 1.- Importación de archivo 'OperaFull extracción_hyper.csv'\n",
    "\n",
    "\n",
    "Información de Campos:\n",
    "\n",
    "* CaudalInstantaneo    \n",
    "* CaudalMedio\n",
    "* Densidad             \n",
    "* Destino              \n",
    "* FechaMedicionUTS     \n",
    "* FechaMedicion\n",
    "* HorasEstimadas       \n",
    "* Horas                \n",
    "* HorometroFinal       \n",
    "* HorometroIncial\n",
    "* H3BO3\n",
    "* Cl_pct \n",
    "* Ca_pct     \n",
    "* Li_pct               \n",
    "* Mg_pct               \n",
    "* Na_pct\n",
    "* k_pct \n",
    "* S04_pct\n",
    "* SatK                \n",
    "* Número de registros  \n",
    "* Observacion          \n",
    "* Origen          \n",
    "* Validez              \n",
    "* VolumenEstimado      \n",
    "* VolumenFinal         \n",
    "* VolumenInicial       \n",
    "* Volumen              \n",
    "      "
   ]
  },
  {
   "cell_type": "code",
   "execution_count": 1,
   "metadata": {},
   "outputs": [],
   "source": [
    "import pandas as pd\n",
    "import numpy as np\n",
    "import matplotlib.pyplot as plt\n",
    "import seaborn as sns\n",
    "import matplotlib.dates as mdates\n",
    "from IPython.display import display"
   ]
  },
  {
   "cell_type": "markdown",
   "metadata": {},
   "source": [
    "#### Modularizacion Script para refactorizar el código"
   ]
  },
  {
   "cell_type": "code",
   "execution_count": 198,
   "metadata": {},
   "outputs": [],
   "source": [
    "def load_csv_data(file_path: str) -> pd.DataFrame:\n",
    "    \"\"\"\n",
    "    Load data from a CSV file with a specified delimiter, handle mixed data types,\n",
    "    and convert numerical values with comma as decimal separator to float.\n",
    "    \n",
    "    Args:\n",
    "        file_path (str): The path to the CSV file.\n",
    "        \n",
    "    Returns:\n",
    "        pd.DataFrame: Dataframe containing the loaded data.\n",
    "    \"\"\"\n",
    "    # Leer el archivo CSV con el delimitador ';' y manejar tipos de datos mixtos\n",
    "    df = pd.read_csv(file_path, delimiter=';', on_bad_lines='skip', low_memory=False)\n",
    "    \n",
    "    # Reemplazar comas por puntos en todas las columnas\n",
    "    df = df.apply(lambda x: x.str.replace(',', '.') if x.dtype == 'object' else x)\n",
    "    \n",
    "    # Convertir las columnas a tipos numéricos donde sea posible\n",
    "    df = df.apply(pd.to_numeric, errors='ignore')\n",
    "    \n",
    "    return df"
   ]
  },
  {
   "cell_type": "code",
   "execution_count": 4,
   "metadata": {},
   "outputs": [],
   "source": [
    "def load_csv_data(file_path: str) -> pd.DataFrame:\n",
    "    \"\"\"\n",
    "    Load data from a CSV file with a specified delimiter and handle mixed data types.\n",
    "    \n",
    "    Args:\n",
    "        file_path (str): The path to the CSV file.\n",
    "        \n",
    "    Returns:\n",
    "        pd.DataFrame: Dataframe containing the loaded data.\n",
    "    \"\"\"\n",
    "    # Leer el archivo CSV con el delimitador ';' y manejar tipos de datos mixtos\n",
    "    df = pd.read_csv(file_path, delimiter=';', on_bad_lines='skip', low_memory=False)\n",
    "    \n",
    "    return df"
   ]
  },
  {
   "cell_type": "code",
   "execution_count": 9,
   "metadata": {},
   "outputs": [],
   "source": [
    "def load_csv_data(file_path: str) -> pd.DataFrame:\n",
    "    \"\"\"\n",
    "    Load data from a CSV file with a specified delimiter and handle mixed data types.\n",
    "    \n",
    "    Args:\n",
    "        file_path (str): The path to the CSV file.\n",
    "        \n",
    "    Returns:\n",
    "        pd.DataFrame: Dataframe containing the loaded data.\n",
    "    \"\"\"\n",
    "    # Leer el archivo CSV \n",
    "        # Leer el archivo CSV con el delimitador ';' y manejar tipos de datos mixtos\n",
    "    df = pd.read_csv(file_path, delimiter=';', on_bad_lines='skip', low_memory=False)\n",
    "    \n",
    "    return df"
   ]
  },
  {
   "cell_type": "code",
   "execution_count": 10,
   "metadata": {},
   "outputs": [
    {
     "name": "stdout",
     "output_type": "stream",
     "text": [
      "          Origen         Destino    FechaMedicion VolumenInicial VolumenFinal  \\\n",
      "0       ARPES-01  Canaleta Arpes  01-01-2014 9:01          75447        76219   \n",
      "1       ARPES-01  Canaleta Arpes  02-01-2014 9:06          76219        76860   \n",
      "2       ARPES-01  Canaleta Arpes  03-01-2014 9:11          76860        77502   \n",
      "3       ARPES-01  Canaleta Arpes  04-01-2014 9:15          77502        78144   \n",
      "4       ARPES-01  Canaleta Arpes  05-01-2014 9:20          78144        78789   \n",
      "...          ...             ...              ...            ...          ...   \n",
      "814969   XP17-05           PDA-4  28-02-2024 9:14          55342        55397   \n",
      "814970   XP17-05           PDA-4  29-02-2024 9:19          55397        55444   \n",
      "814971   XP17-05           PDA-4  01-03-2024 9:24          55444        55499   \n",
      "814972   XP17-05           PDA-4  02-03-2024 9:30          55499        55515   \n",
      "814973   XP17-05           PDA-4  03-03-2024 9:02          55515        55531   \n",
      "\n",
      "       Volumen HorometroIncial HorometroFinal  Horas CaudalInstantaneo  ...  \\\n",
      "0          772         9185,01        9213,81   28,8                26  ...   \n",
      "1          641         9213,81        9237,08  23,27                26  ...   \n",
      "2          642         9237,08        9261,08     24                26  ...   \n",
      "3          642         9261,08        9285,08     24                26  ...   \n",
      "4          645         9285,08        9309,09  24,01                27  ...   \n",
      "...        ...             ...            ...    ...               ...  ...   \n",
      "814969      55        36084,27       36109,91  25,64               2,2  ...   \n",
      "814970      47        36109,91       36132,96  23,05               1,8  ...   \n",
      "814971      55        36132,96       36157,69  24,73               0,8  ...   \n",
      "814972      16        36157,69       36184,16  26,47               0,5  ...   \n",
      "814973      16        36184,16       36207,58  23,42               1,2  ...   \n",
      "\n",
      "       Ca_pct  S04_pct  Li_pct Cl_pct Densidad H3BO3    SatK VolumenEstimado  \\\n",
      "0         0,3     0,09    0,61   19,2     1,23  0,32   83,89             772   \n",
      "1         0,3     0,09    0,61   19,2     1,23  0,32   83,89             641   \n",
      "2         0,3     0,09    0,61   19,2     1,23  0,32   83,89             642   \n",
      "3         0,3     0,09    0,61   19,2     1,23  0,32   83,89             642   \n",
      "4         0,3     0,09    0,61   19,2     1,23  0,32   83,89             645   \n",
      "...       ...      ...     ...    ...      ...   ...     ...             ...   \n",
      "814969  0,269    0,156   0,137  17,25     1,22  0,19  52,701              55   \n",
      "814970  0,269    0,156   0,137  17,25     1,22  0,19  52,701              47   \n",
      "814971  0,269    0,156   0,137  17,25     1,22  0,19  52,701              55   \n",
      "814972  0,269    0,156   0,137  17,25     1,22  0,19  52,701              16   \n",
      "814973  0,269    0,156   0,137  17,25     1,22  0,19  52,701              16   \n",
      "\n",
      "       HorasEstimadas FechaMedicionUTS  \n",
      "0                28,8     1.388567e+09  \n",
      "1               23,27     1.388654e+09  \n",
      "2                  24     1.388740e+09  \n",
      "3                  24     1.388827e+09  \n",
      "4               24,01     1.388914e+09  \n",
      "...               ...              ...  \n",
      "814969          25,64     1.709112e+09  \n",
      "814970          23,05     1.709198e+09  \n",
      "814971          24,73     1.709285e+09  \n",
      "814972          26,47     1.709372e+09  \n",
      "814973          23,42     1.709457e+09  \n",
      "\n",
      "[814974 rows x 26 columns]\n"
     ]
    }
   ],
   "source": [
    "file_path = r'C:\\Kedro_Project_Lab\\ofertasalmuera\\data\\01_raw\\2024-03-08 Inputs para Escenario E-111\\GV_OperaFull Escenario 2024.csv'\n",
    "df_train = load_csv_data(file_path)\n",
    "\n",
    "# Display the dataframe\n",
    "print(df_train)"
   ]
  },
  {
   "cell_type": "code",
   "execution_count": 7,
   "metadata": {},
   "outputs": [],
   "source": [
    "def load_excel_data(file_path: str) -> pd.DataFrame:\n",
    "    \"\"\"Load data from an Excel file.\n",
    "\n",
    "    Args:\n",
    "        file_path: Path to the Excel file.\n",
    "\n",
    "    Returns:\n",
    "        DataFrame containing the loaded data.\n",
    "    \"\"\"\n",
    "    df = pd.read_excel(file_path)\n",
    "    print(df)\n",
    "    return df"
   ]
  },
  {
   "cell_type": "code",
   "execution_count": 8,
   "metadata": {},
   "outputs": [
    {
     "name": "stdout",
     "output_type": "stream",
     "text": [
      "          Origen         Destino       FechaMedicion  VolumenInicial  \\\n",
      "0       ARPES-01  Canaleta Arpes 2014-01-01 09:01:00           75447   \n",
      "1       ARPES-01  Canaleta Arpes 2014-01-02 09:06:00           76219   \n",
      "2       ARPES-01  Canaleta Arpes 2014-01-03 09:11:00           76860   \n",
      "3       ARPES-01  Canaleta Arpes 2014-01-04 09:15:00           77502   \n",
      "4       ARPES-01  Canaleta Arpes 2014-01-05 09:20:00           78144   \n",
      "...          ...             ...                 ...             ...   \n",
      "814940   XP17-05           PDA-4 2024-02-28 09:14:00           55342   \n",
      "814941   XP17-05           PDA-4 2024-02-29 09:19:00           55397   \n",
      "814942   XP17-05           PDA-4 2024-03-01 09:24:00           55444   \n",
      "814943   XP17-05           PDA-4 2024-03-02 09:30:00           55499   \n",
      "814944   XP17-05           PDA-4 2024-03-03 09:02:00           55515   \n",
      "\n",
      "        VolumenFinal  Volumen  HorometroIncial  HorometroFinal  Horas  \\\n",
      "0              76219      772          9185.01         9213.81  28.80   \n",
      "1              76860      641          9213.81         9237.08  23.27   \n",
      "2              77502      642          9237.08         9261.08  24.00   \n",
      "3              78144      642          9261.08         9285.08  24.00   \n",
      "4              78789      645          9285.08         9309.09  24.01   \n",
      "...              ...      ...              ...             ...    ...   \n",
      "814940         55397       55         36084.27        36109.91  25.64   \n",
      "814941         55444       47         36109.91        36132.96  23.05   \n",
      "814942         55499       55         36132.96        36157.69  24.73   \n",
      "814943         55515       16         36157.69        36184.16  26.47   \n",
      "814944         55531       16         36184.16        36207.58  23.42   \n",
      "\n",
      "        CaudalInstantaneo  ... Ca_pct  S04_pct  Li_pct  Cl_pct  Densidad  \\\n",
      "0                    26.0  ...  0.300    0.090   0.610   19.20      1.23   \n",
      "1                    26.0  ...  0.300    0.090   0.610   19.20      1.23   \n",
      "2                    26.0  ...  0.300    0.090   0.610   19.20      1.23   \n",
      "3                    26.0  ...  0.300    0.090   0.610   19.20      1.23   \n",
      "4                    27.0  ...  0.300    0.090   0.610   19.20      1.23   \n",
      "...                   ...  ...    ...      ...     ...     ...       ...   \n",
      "814940                2.0  ...  0.269    0.156   0.137   17.25      1.22   \n",
      "814941                2.0  ...  0.269    0.156   0.137   17.25      1.22   \n",
      "814942                1.0  ...  0.269    0.156   0.137   17.25      1.22   \n",
      "814943                0.0  ...  0.269    0.156   0.137   17.25      1.22   \n",
      "814944                1.0  ...  0.269    0.156   0.137   17.25      1.22   \n",
      "\n",
      "        H3BO3    SatK  VolumenEstimado  HorasEstimadas  FechaMedicionUTS  \n",
      "0        0.32  83.890              772           28.80        1388566905  \n",
      "1        0.32  83.890              641           23.27        1388653582  \n",
      "2        0.32  83.890              642           24.00        1388740269  \n",
      "3        0.32  83.890              642           24.00        1388826946  \n",
      "4        0.32  83.890              645           24.01        1388913629  \n",
      "...       ...     ...              ...             ...               ...  \n",
      "814940   0.19  52.701               55           25.64        1709111661  \n",
      "814941   0.19  52.701               47           23.05        1709198377  \n",
      "814942   0.19  52.701               55           24.73        1709285095  \n",
      "814943   0.19  52.701               16           26.47        1709371815  \n",
      "814944   0.19  52.701               16           23.42        1709456564  \n",
      "\n",
      "[814945 rows x 26 columns]\n",
      "          Origen         Destino       FechaMedicion  VolumenInicial  \\\n",
      "0       ARPES-01  Canaleta Arpes 2014-01-01 09:01:00           75447   \n",
      "1       ARPES-01  Canaleta Arpes 2014-01-02 09:06:00           76219   \n",
      "2       ARPES-01  Canaleta Arpes 2014-01-03 09:11:00           76860   \n",
      "3       ARPES-01  Canaleta Arpes 2014-01-04 09:15:00           77502   \n",
      "4       ARPES-01  Canaleta Arpes 2014-01-05 09:20:00           78144   \n",
      "...          ...             ...                 ...             ...   \n",
      "814940   XP17-05           PDA-4 2024-02-28 09:14:00           55342   \n",
      "814941   XP17-05           PDA-4 2024-02-29 09:19:00           55397   \n",
      "814942   XP17-05           PDA-4 2024-03-01 09:24:00           55444   \n",
      "814943   XP17-05           PDA-4 2024-03-02 09:30:00           55499   \n",
      "814944   XP17-05           PDA-4 2024-03-03 09:02:00           55515   \n",
      "\n",
      "        VolumenFinal  Volumen  HorometroIncial  HorometroFinal  Horas  \\\n",
      "0              76219      772          9185.01         9213.81  28.80   \n",
      "1              76860      641          9213.81         9237.08  23.27   \n",
      "2              77502      642          9237.08         9261.08  24.00   \n",
      "3              78144      642          9261.08         9285.08  24.00   \n",
      "4              78789      645          9285.08         9309.09  24.01   \n",
      "...              ...      ...              ...             ...    ...   \n",
      "814940         55397       55         36084.27        36109.91  25.64   \n",
      "814941         55444       47         36109.91        36132.96  23.05   \n",
      "814942         55499       55         36132.96        36157.69  24.73   \n",
      "814943         55515       16         36157.69        36184.16  26.47   \n",
      "814944         55531       16         36184.16        36207.58  23.42   \n",
      "\n",
      "        CaudalInstantaneo  ... Ca_pct  S04_pct  Li_pct  Cl_pct  Densidad  \\\n",
      "0                    26.0  ...  0.300    0.090   0.610   19.20      1.23   \n",
      "1                    26.0  ...  0.300    0.090   0.610   19.20      1.23   \n",
      "2                    26.0  ...  0.300    0.090   0.610   19.20      1.23   \n",
      "3                    26.0  ...  0.300    0.090   0.610   19.20      1.23   \n",
      "4                    27.0  ...  0.300    0.090   0.610   19.20      1.23   \n",
      "...                   ...  ...    ...      ...     ...     ...       ...   \n",
      "814940                2.0  ...  0.269    0.156   0.137   17.25      1.22   \n",
      "814941                2.0  ...  0.269    0.156   0.137   17.25      1.22   \n",
      "814942                1.0  ...  0.269    0.156   0.137   17.25      1.22   \n",
      "814943                0.0  ...  0.269    0.156   0.137   17.25      1.22   \n",
      "814944                1.0  ...  0.269    0.156   0.137   17.25      1.22   \n",
      "\n",
      "        H3BO3    SatK  VolumenEstimado  HorasEstimadas  FechaMedicionUTS  \n",
      "0        0.32  83.890              772           28.80        1388566905  \n",
      "1        0.32  83.890              641           23.27        1388653582  \n",
      "2        0.32  83.890              642           24.00        1388740269  \n",
      "3        0.32  83.890              642           24.00        1388826946  \n",
      "4        0.32  83.890              645           24.01        1388913629  \n",
      "...       ...     ...              ...             ...               ...  \n",
      "814940   0.19  52.701               55           25.64        1709111661  \n",
      "814941   0.19  52.701               47           23.05        1709198377  \n",
      "814942   0.19  52.701               55           24.73        1709285095  \n",
      "814943   0.19  52.701               16           26.47        1709371815  \n",
      "814944   0.19  52.701               16           23.42        1709456564  \n",
      "\n",
      "[814945 rows x 26 columns]\n"
     ]
    }
   ],
   "source": [
    "file_path = r'C:\\Kedro_Project_Lab\\ofertasalmuera\\data\\01_raw\\GV_OperaFull Escenario 2024_input.xlsx'\n",
    "df_train = load_excel_data(file_path)\n",
    "print(df_train)"
   ]
  },
  {
   "cell_type": "code",
   "execution_count": 9,
   "metadata": {},
   "outputs": [
    {
     "data": {
      "text/html": [
       "<div>\n",
       "<style scoped>\n",
       "    .dataframe tbody tr th:only-of-type {\n",
       "        vertical-align: middle;\n",
       "    }\n",
       "\n",
       "    .dataframe tbody tr th {\n",
       "        vertical-align: top;\n",
       "    }\n",
       "\n",
       "    .dataframe thead th {\n",
       "        text-align: right;\n",
       "    }\n",
       "</style>\n",
       "<table border=\"1\" class=\"dataframe\">\n",
       "  <thead>\n",
       "    <tr style=\"text-align: right;\">\n",
       "      <th></th>\n",
       "      <th>Origen</th>\n",
       "      <th>Destino</th>\n",
       "      <th>FechaMedicion</th>\n",
       "      <th>VolumenInicial</th>\n",
       "      <th>VolumenFinal</th>\n",
       "      <th>Volumen</th>\n",
       "      <th>HorometroIncial</th>\n",
       "      <th>HorometroFinal</th>\n",
       "      <th>Horas</th>\n",
       "      <th>CaudalInstantaneo</th>\n",
       "      <th>...</th>\n",
       "      <th>Ca_pct</th>\n",
       "      <th>S04_pct</th>\n",
       "      <th>Li_pct</th>\n",
       "      <th>Cl_pct</th>\n",
       "      <th>Densidad</th>\n",
       "      <th>H3BO3</th>\n",
       "      <th>SatK</th>\n",
       "      <th>VolumenEstimado</th>\n",
       "      <th>HorasEstimadas</th>\n",
       "      <th>FechaMedicionUTS</th>\n",
       "    </tr>\n",
       "  </thead>\n",
       "  <tbody>\n",
       "    <tr>\n",
       "      <th>0</th>\n",
       "      <td>ARPES-01</td>\n",
       "      <td>Canaleta Arpes</td>\n",
       "      <td>2014-01-01 09:01:00</td>\n",
       "      <td>75447</td>\n",
       "      <td>76219</td>\n",
       "      <td>772</td>\n",
       "      <td>9185.01</td>\n",
       "      <td>9213.81</td>\n",
       "      <td>28.80</td>\n",
       "      <td>26.0</td>\n",
       "      <td>...</td>\n",
       "      <td>0.3</td>\n",
       "      <td>0.09</td>\n",
       "      <td>0.61</td>\n",
       "      <td>19.2</td>\n",
       "      <td>1.23</td>\n",
       "      <td>0.32</td>\n",
       "      <td>83.89</td>\n",
       "      <td>772</td>\n",
       "      <td>28.80</td>\n",
       "      <td>1388566905</td>\n",
       "    </tr>\n",
       "    <tr>\n",
       "      <th>1</th>\n",
       "      <td>ARPES-01</td>\n",
       "      <td>Canaleta Arpes</td>\n",
       "      <td>2014-01-02 09:06:00</td>\n",
       "      <td>76219</td>\n",
       "      <td>76860</td>\n",
       "      <td>641</td>\n",
       "      <td>9213.81</td>\n",
       "      <td>9237.08</td>\n",
       "      <td>23.27</td>\n",
       "      <td>26.0</td>\n",
       "      <td>...</td>\n",
       "      <td>0.3</td>\n",
       "      <td>0.09</td>\n",
       "      <td>0.61</td>\n",
       "      <td>19.2</td>\n",
       "      <td>1.23</td>\n",
       "      <td>0.32</td>\n",
       "      <td>83.89</td>\n",
       "      <td>641</td>\n",
       "      <td>23.27</td>\n",
       "      <td>1388653582</td>\n",
       "    </tr>\n",
       "    <tr>\n",
       "      <th>2</th>\n",
       "      <td>ARPES-01</td>\n",
       "      <td>Canaleta Arpes</td>\n",
       "      <td>2014-01-03 09:11:00</td>\n",
       "      <td>76860</td>\n",
       "      <td>77502</td>\n",
       "      <td>642</td>\n",
       "      <td>9237.08</td>\n",
       "      <td>9261.08</td>\n",
       "      <td>24.00</td>\n",
       "      <td>26.0</td>\n",
       "      <td>...</td>\n",
       "      <td>0.3</td>\n",
       "      <td>0.09</td>\n",
       "      <td>0.61</td>\n",
       "      <td>19.2</td>\n",
       "      <td>1.23</td>\n",
       "      <td>0.32</td>\n",
       "      <td>83.89</td>\n",
       "      <td>642</td>\n",
       "      <td>24.00</td>\n",
       "      <td>1388740269</td>\n",
       "    </tr>\n",
       "    <tr>\n",
       "      <th>3</th>\n",
       "      <td>ARPES-01</td>\n",
       "      <td>Canaleta Arpes</td>\n",
       "      <td>2014-01-04 09:15:00</td>\n",
       "      <td>77502</td>\n",
       "      <td>78144</td>\n",
       "      <td>642</td>\n",
       "      <td>9261.08</td>\n",
       "      <td>9285.08</td>\n",
       "      <td>24.00</td>\n",
       "      <td>26.0</td>\n",
       "      <td>...</td>\n",
       "      <td>0.3</td>\n",
       "      <td>0.09</td>\n",
       "      <td>0.61</td>\n",
       "      <td>19.2</td>\n",
       "      <td>1.23</td>\n",
       "      <td>0.32</td>\n",
       "      <td>83.89</td>\n",
       "      <td>642</td>\n",
       "      <td>24.00</td>\n",
       "      <td>1388826946</td>\n",
       "    </tr>\n",
       "    <tr>\n",
       "      <th>4</th>\n",
       "      <td>ARPES-01</td>\n",
       "      <td>Canaleta Arpes</td>\n",
       "      <td>2014-01-05 09:20:00</td>\n",
       "      <td>78144</td>\n",
       "      <td>78789</td>\n",
       "      <td>645</td>\n",
       "      <td>9285.08</td>\n",
       "      <td>9309.09</td>\n",
       "      <td>24.01</td>\n",
       "      <td>27.0</td>\n",
       "      <td>...</td>\n",
       "      <td>0.3</td>\n",
       "      <td>0.09</td>\n",
       "      <td>0.61</td>\n",
       "      <td>19.2</td>\n",
       "      <td>1.23</td>\n",
       "      <td>0.32</td>\n",
       "      <td>83.89</td>\n",
       "      <td>645</td>\n",
       "      <td>24.01</td>\n",
       "      <td>1388913629</td>\n",
       "    </tr>\n",
       "  </tbody>\n",
       "</table>\n",
       "<p>5 rows × 26 columns</p>\n",
       "</div>"
      ],
      "text/plain": [
       "     Origen         Destino       FechaMedicion  VolumenInicial  VolumenFinal  \\\n",
       "0  ARPES-01  Canaleta Arpes 2014-01-01 09:01:00           75447         76219   \n",
       "1  ARPES-01  Canaleta Arpes 2014-01-02 09:06:00           76219         76860   \n",
       "2  ARPES-01  Canaleta Arpes 2014-01-03 09:11:00           76860         77502   \n",
       "3  ARPES-01  Canaleta Arpes 2014-01-04 09:15:00           77502         78144   \n",
       "4  ARPES-01  Canaleta Arpes 2014-01-05 09:20:00           78144         78789   \n",
       "\n",
       "   Volumen  HorometroIncial  HorometroFinal  Horas  CaudalInstantaneo  ...  \\\n",
       "0      772          9185.01         9213.81  28.80               26.0  ...   \n",
       "1      641          9213.81         9237.08  23.27               26.0  ...   \n",
       "2      642          9237.08         9261.08  24.00               26.0  ...   \n",
       "3      642          9261.08         9285.08  24.00               26.0  ...   \n",
       "4      645          9285.08         9309.09  24.01               27.0  ...   \n",
       "\n",
       "  Ca_pct  S04_pct  Li_pct  Cl_pct  Densidad  H3BO3   SatK  VolumenEstimado  \\\n",
       "0    0.3     0.09    0.61    19.2      1.23   0.32  83.89              772   \n",
       "1    0.3     0.09    0.61    19.2      1.23   0.32  83.89              641   \n",
       "2    0.3     0.09    0.61    19.2      1.23   0.32  83.89              642   \n",
       "3    0.3     0.09    0.61    19.2      1.23   0.32  83.89              642   \n",
       "4    0.3     0.09    0.61    19.2      1.23   0.32  83.89              645   \n",
       "\n",
       "   HorasEstimadas  FechaMedicionUTS  \n",
       "0           28.80        1388566905  \n",
       "1           23.27        1388653582  \n",
       "2           24.00        1388740269  \n",
       "3           24.00        1388826946  \n",
       "4           24.01        1388913629  \n",
       "\n",
       "[5 rows x 26 columns]"
      ]
     },
     "execution_count": 9,
     "metadata": {},
     "output_type": "execute_result"
    }
   ],
   "source": [
    "df_train.head()"
   ]
  },
  {
   "cell_type": "markdown",
   "metadata": {},
   "source": [
    "## 2.- Refinado"
   ]
  },
  {
   "cell_type": "code",
   "execution_count": 10,
   "metadata": {},
   "outputs": [
    {
     "name": "stdout",
     "output_type": "stream",
     "text": [
      "<class 'pandas.core.frame.DataFrame'>\n",
      "RangeIndex: 814945 entries, 0 to 814944\n",
      "Data columns (total 26 columns):\n",
      " #   Column             Non-Null Count   Dtype         \n",
      "---  ------             --------------   -----         \n",
      " 0   Origen             814945 non-null  object        \n",
      " 1   Destino            814945 non-null  object        \n",
      " 2   FechaMedicion      814945 non-null  datetime64[ns]\n",
      " 3   VolumenInicial     814945 non-null  int64         \n",
      " 4   VolumenFinal       814945 non-null  int64         \n",
      " 5   Volumen            814945 non-null  int64         \n",
      " 6   HorometroIncial    814943 non-null  float64       \n",
      " 7   HorometroFinal     814943 non-null  float64       \n",
      " 8   Horas              814943 non-null  float64       \n",
      " 9   CaudalInstantaneo  814936 non-null  float64       \n",
      " 10  CaudalMedio        783733 non-null  object        \n",
      " 11  Validez            814945 non-null  int64         \n",
      " 12  Observacion        0 non-null       float64       \n",
      " 13  k_pct              814945 non-null  float64       \n",
      " 14  Na_pct             814945 non-null  float64       \n",
      " 15  Mg_pct             814945 non-null  float64       \n",
      " 16  Ca_pct             814945 non-null  float64       \n",
      " 17  S04_pct            814945 non-null  float64       \n",
      " 18  Li_pct             814945 non-null  float64       \n",
      " 19  Cl_pct             814945 non-null  float64       \n",
      " 20  Densidad           814945 non-null  float64       \n",
      " 21  H3BO3              814945 non-null  float64       \n",
      " 22  SatK               814945 non-null  float64       \n",
      " 23  VolumenEstimado    814945 non-null  int64         \n",
      " 24  HorasEstimadas     814945 non-null  float64       \n",
      " 25  FechaMedicionUTS   814945 non-null  int64         \n",
      "dtypes: datetime64[ns](1), float64(16), int64(6), object(3)\n",
      "memory usage: 161.7+ MB\n"
     ]
    }
   ],
   "source": [
    "df_train.info()"
   ]
  },
  {
   "cell_type": "markdown",
   "metadata": {},
   "source": [
    "Identificación de las Columnas "
   ]
  },
  {
   "cell_type": "code",
   "execution_count": 11,
   "metadata": {},
   "outputs": [
    {
     "data": {
      "text/plain": [
       "['Origen',\n",
       " 'Destino',\n",
       " 'FechaMedicion',\n",
       " 'VolumenInicial',\n",
       " 'VolumenFinal',\n",
       " 'Volumen',\n",
       " 'HorometroIncial',\n",
       " 'HorometroFinal',\n",
       " 'Horas',\n",
       " 'CaudalInstantaneo',\n",
       " 'CaudalMedio',\n",
       " 'Validez',\n",
       " 'Observacion',\n",
       " 'k_pct',\n",
       " 'Na_pct',\n",
       " 'Mg_pct',\n",
       " 'Ca_pct',\n",
       " 'S04_pct',\n",
       " 'Li_pct',\n",
       " 'Cl_pct',\n",
       " 'Densidad',\n",
       " 'H3BO3',\n",
       " 'SatK',\n",
       " 'VolumenEstimado',\n",
       " 'HorasEstimadas',\n",
       " 'FechaMedicionUTS']"
      ]
     },
     "execution_count": 11,
     "metadata": {},
     "output_type": "execute_result"
    }
   ],
   "source": [
    "list(df_train.columns)"
   ]
  },
  {
   "cell_type": "markdown",
   "metadata": {},
   "source": [
    "Número de datos Disponibles en el DataSet"
   ]
  },
  {
   "cell_type": "code",
   "execution_count": 12,
   "metadata": {},
   "outputs": [
    {
     "data": {
      "text/plain": [
       "(814945, 26)"
      ]
     },
     "execution_count": 12,
     "metadata": {},
     "output_type": "execute_result"
    }
   ],
   "source": [
    "df_train.shape"
   ]
  },
  {
   "cell_type": "code",
   "execution_count": 13,
   "metadata": {},
   "outputs": [
    {
     "name": "stdout",
     "output_type": "stream",
     "text": [
      "Empty DataFrame\n",
      "Columns: [Origen, Destino, FechaMedicion, VolumenInicial, VolumenFinal, Volumen, HorometroIncial, HorometroFinal, Horas, CaudalInstantaneo, CaudalMedio, Validez, Observacion, k_pct, Na_pct, Mg_pct, Ca_pct, S04_pct, Li_pct, Cl_pct, Densidad, H3BO3, SatK, VolumenEstimado, HorasEstimadas, FechaMedicionUTS]\n",
      "Index: []\n",
      "\n",
      "[0 rows x 26 columns]\n"
     ]
    }
   ],
   "source": [
    "duplicates = df_train[df_train.duplicated()]\n",
    "print(duplicates)"
   ]
  },
  {
   "cell_type": "code",
   "execution_count": 14,
   "metadata": {},
   "outputs": [
    {
     "data": {
      "text/plain": [
       "Origen                    0\n",
       "Destino                   0\n",
       "FechaMedicion             0\n",
       "VolumenInicial            0\n",
       "VolumenFinal              0\n",
       "Volumen                   0\n",
       "HorometroIncial           2\n",
       "HorometroFinal            2\n",
       "Horas                     2\n",
       "CaudalInstantaneo         9\n",
       "CaudalMedio           31212\n",
       "Validez                   0\n",
       "Observacion          814945\n",
       "k_pct                     0\n",
       "Na_pct                    0\n",
       "Mg_pct                    0\n",
       "Ca_pct                    0\n",
       "S04_pct                   0\n",
       "Li_pct                    0\n",
       "Cl_pct                    0\n",
       "Densidad                  0\n",
       "H3BO3                     0\n",
       "SatK                      0\n",
       "VolumenEstimado           0\n",
       "HorasEstimadas            0\n",
       "FechaMedicionUTS          0\n",
       "dtype: int64"
      ]
     },
     "execution_count": 14,
     "metadata": {},
     "output_type": "execute_result"
    }
   ],
   "source": [
    "# Check for NaN values in the DataFrame\n",
    "df_train.isnull().sum()"
   ]
  },
  {
   "cell_type": "markdown",
   "metadata": {},
   "source": [
    "### Detectar y tratar los duplicados"
   ]
  },
  {
   "cell_type": "code",
   "execution_count": 15,
   "metadata": {},
   "outputs": [],
   "source": [
    "def remove_duplicates(df: pd.DataFrame, columns_to_check: list) -> pd.DataFrame:\n",
    "    \"\"\"\n",
    "    Remove duplicates based on specific columns.\n",
    "\n",
    "    Args:\n",
    "        df: DataFrame to remove duplicates from.\n",
    "        columns_to_check: List of columns to check for duplicates.\n",
    "\n",
    "    Returns:\n",
    "        DataFrame with duplicates removed.\n",
    "    \"\"\"\n",
    "    df = df.drop_duplicates(subset=columns_to_check, keep='first')\n",
    "    return df"
   ]
  },
  {
   "cell_type": "code",
   "execution_count": 16,
   "metadata": {},
   "outputs": [
    {
     "name": "stdout",
     "output_type": "stream",
     "text": [
      "Total de filas duplicadas: 536\n",
      "filas duplicadas:\n",
      "        Origen         Destino       FechaMedicion  VolumenInicial  \\\n",
      "876   ARPES-01  Canaleta Arpes 2016-12-25 14:35:00          892180   \n",
      "877   ARPES-01  Canaleta Arpes 2016-12-25 14:35:00          892180   \n",
      "886   ARPES-01  Canaleta Arpes 2016-12-31 15:12:00          896144   \n",
      "887   ARPES-01  Canaleta Arpes 2016-12-31 15:12:00          896144   \n",
      "4269  ARPES-03  Canaleta Arpes 2016-12-31 15:12:00            4940   \n",
      "\n",
      "      VolumenFinal  Volumen  HorometroIncial  HorometroFinal  Horas  \\\n",
      "876         892835      655          28812.1         28836.1   24.0   \n",
      "877         892835      655          28812.1         28836.1   24.0   \n",
      "886         896646      502          28963.8         28987.7   23.9   \n",
      "887         896646      502          28963.8         28987.7   23.9   \n",
      "4269          5053      113          27542.4         27567.4   25.0   \n",
      "\n",
      "      CaudalInstantaneo  ... Ca_pct  S04_pct  Li_pct  Cl_pct  Densidad  H3BO3  \\\n",
      "876                27.0  ...   0.27     0.09    0.64   18.35      1.23   0.26   \n",
      "877                27.0  ...   0.27     0.09    0.64   18.35      1.23   0.26   \n",
      "886                22.0  ...   0.27     0.10    0.61   19.02      1.24   0.33   \n",
      "887                22.0  ...   0.27     0.10    0.61   19.02      1.24   0.33   \n",
      "4269                3.0  ...   0.22     0.14    0.72   20.20      1.24   0.30   \n",
      "\n",
      "       SatK  VolumenEstimado  HorasEstimadas  FechaMedicionUTS  \n",
      "876   78.40              655            24.0        1482676549  \n",
      "877   78.40              655            24.0        1482676550  \n",
      "886   81.76              502            23.9        1483197170  \n",
      "887   81.76              502            23.9        1483197171  \n",
      "4269  81.29              113            25.0        1483197171  \n",
      "\n",
      "[5 rows x 26 columns]\n"
     ]
    }
   ],
   "source": [
    "# Columnas de interés para revisar duplicados\n",
    "columnas_para_revisar = ['Origen', 'FechaMedicion', 'HorometroFinal', 'HorometroIncial', \n",
    "                        'VolumenFinal', 'VolumenInicial', 'HorasEstimadas', 'CaudalMedio']\n",
    "# Identificar duplicados\n",
    "duplicados = df_train.duplicated(subset=columnas_para_revisar, keep=False)\n",
    "\n",
    "# Contar duplicados\n",
    "print(f\"Total de filas duplicadas: {duplicados.sum()}\")\n",
    "\n",
    "# Revisar duplicados\n",
    "print(\"filas duplicadas:\")\n",
    "print(df_train[duplicados].head())\n",
    "\n",
    "df_train = remove_duplicates(df_train, columnas_para_revisar)"
   ]
  },
  {
   "cell_type": "code",
   "execution_count": 17,
   "metadata": {},
   "outputs": [
    {
     "data": {
      "text/plain": [
       "(814677, 26)"
      ]
     },
     "execution_count": 17,
     "metadata": {},
     "output_type": "execute_result"
    }
   ],
   "source": [
    "df_train.shape"
   ]
  },
  {
   "cell_type": "markdown",
   "metadata": {},
   "source": [
    "### Cálculo Caudal Medio Mensual l/s"
   ]
  },
  {
   "cell_type": "markdown",
   "metadata": {},
   "source": [
    "1. Función para convertir columnas a tipo numérico y tratar errores"
   ]
  },
  {
   "cell_type": "code",
   "execution_count": 18,
   "metadata": {},
   "outputs": [],
   "source": [
    "def convert_columns_to_numeric(df: pd.DataFrame, columns: list) -> pd.DataFrame:\n",
    "    \"\"\"\n",
    "    Convert specified columns to numeric type, coercing errors.\n",
    "\n",
    "    Args:\n",
    "        df: DataFrame with columns to convert.\n",
    "        columns: List of columns to convert to numeric.\n",
    "\n",
    "    Returns:\n",
    "        DataFrame with specified columns converted to numeric.\n",
    "    \"\"\"\n",
    "    for column in columns:\n",
    "        df[column] = pd.to_numeric(df[column], errors='coerce')\n",
    "    return df\n"
   ]
  },
  {
   "cell_type": "markdown",
   "metadata": {},
   "source": [
    "2. Función para filtrar registros según condiciones específicas"
   ]
  },
  {
   "cell_type": "code",
   "execution_count": 19,
   "metadata": {},
   "outputs": [],
   "source": [
    "def filter_valid_records(df: pd.DataFrame) -> pd.DataFrame:\n",
    "    \"\"\"\n",
    "    Filter records where relevant columns have positive increments.\n",
    "\n",
    "    Args:\n",
    "        df: DataFrame to filter.\n",
    "\n",
    "    Returns:\n",
    "        Filtered DataFrame.\n",
    "    \"\"\"\n",
    "    conditions = (\n",
    "        (df['HorometroFinal'] > df['HorometroIncial']) &\n",
    "        (df['VolumenFinal'] > df['VolumenInicial']) &\n",
    "        (df['HorasEstimadas'] > 0)\n",
    "    )\n",
    "    return df[conditions].copy()\n"
   ]
  },
  {
   "cell_type": "markdown",
   "metadata": {},
   "source": [
    "3. Función para convertir fechas y crear columnas 'Mes' y 'Año'"
   ]
  },
  {
   "cell_type": "code",
   "execution_count": 20,
   "metadata": {},
   "outputs": [],
   "source": [
    "def create_date_columns(df: pd.DataFrame, date_column: str) -> pd.DataFrame:\n",
    "    \"\"\"\n",
    "    Convert date column to datetime and create 'Mes' and 'Año' columns.\n",
    "\n",
    "    Args:\n",
    "        df: DataFrame with date column.\n",
    "        date_column: Name of the date column to convert.\n",
    "\n",
    "    Returns:\n",
    "        DataFrame with new 'Mes' and 'Año' columns.\n",
    "    \"\"\"\n",
    "    df['Fecha'] = pd.to_datetime(df[date_column], errors='coerce')\n",
    "    df.dropna(subset=['Fecha'], inplace=True)\n",
    "    df['Mes'] = df['Fecha'].dt.month\n",
    "    df['Año'] = df['Fecha'].dt.year\n",
    "    return df\n"
   ]
  },
  {
   "cell_type": "markdown",
   "metadata": {},
   "source": [
    "4. Función para calcular la diferencia de volumen y las horas de bombeo"
   ]
  },
  {
   "cell_type": "code",
   "execution_count": 21,
   "metadata": {},
   "outputs": [],
   "source": [
    "def calculate_differences(df: pd.DataFrame) -> pd.DataFrame:\n",
    "    \"\"\"\n",
    "    Calculate volume difference and pumping hours.\n",
    "\n",
    "    Args:\n",
    "        df: DataFrame with relevant columns.\n",
    "\n",
    "    Returns:\n",
    "        DataFrame with new 'Diferencia_Volumen' and 'Horas_Bombeo' columns.\n",
    "    \"\"\"\n",
    "    df['Diferencia_Volumen'] = df['VolumenFinal'] - df['VolumenInicial']\n",
    "    df['Horas_Bombeo'] = df['HorometroFinal'] - df['HorometroIncial']\n",
    "    return df\n"
   ]
  },
  {
   "cell_type": "markdown",
   "metadata": {},
   "source": [
    "5. Función para eliminar valores negativos y NaNs"
   ]
  },
  {
   "cell_type": "code",
   "execution_count": 22,
   "metadata": {},
   "outputs": [],
   "source": [
    "def remove_negative_and_nan(df: pd.DataFrame) -> pd.DataFrame:\n",
    "    \"\"\"\n",
    "    Remove negative values and NaNs from specific columns.\n",
    "\n",
    "    Args:\n",
    "        df: DataFrame to process.\n",
    "\n",
    "    Returns:\n",
    "        Processed DataFrame.\n",
    "    \"\"\"\n",
    "    return df[(df['Diferencia_Volumen'] > 0) & (df['Horas_Bombeo'] > 0)]\n"
   ]
  },
  {
   "cell_type": "markdown",
   "metadata": {},
   "source": [
    "6. Función para calcular caudal por registro en m3/h"
   ]
  },
  {
   "cell_type": "code",
   "execution_count": 23,
   "metadata": {},
   "outputs": [],
   "source": [
    "def calculate_flow(df: pd.DataFrame) -> pd.DataFrame:\n",
    "    \"\"\"\n",
    "    Calculate flow rate per record in m3/h.\n",
    "\n",
    "    Args:\n",
    "        df: DataFrame with relevant columns.\n",
    "\n",
    "    Returns:\n",
    "        DataFrame with new 'Caudal_m3/h' column.\n",
    "    \"\"\"\n",
    "    df['Caudal_m3/h'] = df['Diferencia_Volumen'] / df['Horas_Bombeo']\n",
    "    return df\n"
   ]
  },
  {
   "cell_type": "markdown",
   "metadata": {},
   "source": [
    "7. Función para filtrar caudales"
   ]
  },
  {
   "cell_type": "code",
   "execution_count": 25,
   "metadata": {},
   "outputs": [],
   "source": [
    "def filter_flows(df: pd.DataFrame, max_flow: float = 360) -> pd.DataFrame:\n",
    "    \"\"\"\n",
    "    Filter flows to eliminate values above a maximum threshold.\n",
    "\n",
    "    Args:\n",
    "        df: DataFrame with flow column.\n",
    "        max_flow: Maximum flow threshold (default is 360).\n",
    "\n",
    "    Returns:\n",
    "        DataFrame with filtered flow values.\n",
    "    \"\"\"\n",
    "    df['Caudal_m3/h'] = np.where(df['Caudal_m3/h'] <= max_flow, df['Caudal_m3/h'], np.nan)\n",
    "    return df\n"
   ]
  },
  {
   "cell_type": "markdown",
   "metadata": {},
   "source": [
    "## Flujo 1 Preprocesamiento 1: \n",
    "###  - Convertir columnas a tipo numérico\n",
    "###  - Filtrar registros válidos\n",
    "###  - Crear columnas de fecha\n",
    "###  - Calcular diferencias de volumen y horas de bombeo\n",
    "###  - Eliminar valores negativos y NaNs\n",
    "###  - Calcular caudal por registro\n",
    "###  - Filtrar caudales"
   ]
  },
  {
   "cell_type": "code",
   "execution_count": 26,
   "metadata": {},
   "outputs": [
    {
     "name": "stdout",
     "output_type": "stream",
     "text": [
      "          Origen         Destino       FechaMedicion  VolumenInicial  \\\n",
      "0       ARPES-01  Canaleta Arpes 2014-01-01 09:01:00           75447   \n",
      "1       ARPES-01  Canaleta Arpes 2014-01-02 09:06:00           76219   \n",
      "2       ARPES-01  Canaleta Arpes 2014-01-03 09:11:00           76860   \n",
      "3       ARPES-01  Canaleta Arpes 2014-01-04 09:15:00           77502   \n",
      "4       ARPES-01  Canaleta Arpes 2014-01-05 09:20:00           78144   \n",
      "...          ...             ...                 ...             ...   \n",
      "814940   XP17-05           PDA-4 2024-02-28 09:14:00           55342   \n",
      "814941   XP17-05           PDA-4 2024-02-29 09:19:00           55397   \n",
      "814942   XP17-05           PDA-4 2024-03-01 09:24:00           55444   \n",
      "814943   XP17-05           PDA-4 2024-03-02 09:30:00           55499   \n",
      "814944   XP17-05           PDA-4 2024-03-03 09:02:00           55515   \n",
      "\n",
      "        VolumenFinal  Volumen  HorometroIncial  HorometroFinal  Horas  \\\n",
      "0              76219      772          9185.01         9213.81  28.80   \n",
      "1              76860      641          9213.81         9237.08  23.27   \n",
      "2              77502      642          9237.08         9261.08  24.00   \n",
      "3              78144      642          9261.08         9285.08  24.00   \n",
      "4              78789      645          9285.08         9309.09  24.01   \n",
      "...              ...      ...              ...             ...    ...   \n",
      "814940         55397       55         36084.27        36109.91  25.64   \n",
      "814941         55444       47         36109.91        36132.96  23.05   \n",
      "814942         55499       55         36132.96        36157.69  24.73   \n",
      "814943         55515       16         36157.69        36184.16  26.47   \n",
      "814944         55531       16         36184.16        36207.58  23.42   \n",
      "\n",
      "        CaudalInstantaneo  ...    SatK  VolumenEstimado  HorasEstimadas  \\\n",
      "0                    26.0  ...  83.890              772           28.80   \n",
      "1                    26.0  ...  83.890              641           23.27   \n",
      "2                    26.0  ...  83.890              642           24.00   \n",
      "3                    26.0  ...  83.890              642           24.00   \n",
      "4                    27.0  ...  83.890              645           24.01   \n",
      "...                   ...  ...     ...              ...             ...   \n",
      "814940                2.0  ...  52.701               55           25.64   \n",
      "814941                2.0  ...  52.701               47           23.05   \n",
      "814942                1.0  ...  52.701               55           24.73   \n",
      "814943                0.0  ...  52.701               16           26.47   \n",
      "814944                1.0  ...  52.701               16           23.42   \n",
      "\n",
      "        FechaMedicionUTS               Fecha  Mes   Año  Diferencia_Volumen  \\\n",
      "0             1388566905 2014-01-01 09:01:00    1  2014                 772   \n",
      "1             1388653582 2014-01-02 09:06:00    1  2014                 641   \n",
      "2             1388740269 2014-01-03 09:11:00    1  2014                 642   \n",
      "3             1388826946 2014-01-04 09:15:00    1  2014                 642   \n",
      "4             1388913629 2014-01-05 09:20:00    1  2014                 645   \n",
      "...                  ...                 ...  ...   ...                 ...   \n",
      "814940        1709111661 2024-02-28 09:14:00    2  2024                  55   \n",
      "814941        1709198377 2024-02-29 09:19:00    2  2024                  47   \n",
      "814942        1709285095 2024-03-01 09:24:00    3  2024                  55   \n",
      "814943        1709371815 2024-03-02 09:30:00    3  2024                  16   \n",
      "814944        1709456564 2024-03-03 09:02:00    3  2024                  16   \n",
      "\n",
      "        Horas_Bombeo  Caudal_m3/h  \n",
      "0              28.80    26.805556  \n",
      "1              23.27    27.546197  \n",
      "2              24.00    26.750000  \n",
      "3              24.00    26.750000  \n",
      "4              24.01    26.863807  \n",
      "...              ...          ...  \n",
      "814940         25.64     2.145086  \n",
      "814941         23.05     2.039046  \n",
      "814942         24.73     2.224019  \n",
      "814943         26.47     0.604458  \n",
      "814944         23.42     0.683177  \n",
      "\n",
      "[778188 rows x 32 columns]\n"
     ]
    }
   ],
   "source": [
    "# Convertir columnas a tipo numérico\n",
    "columns_to_convert = ['HorometroFinal', 'HorometroIncial', 'VolumenFinal', 'VolumenInicial', 'HorasEstimadas']\n",
    "df_train = convert_columns_to_numeric(df_train, columns_to_convert)\n",
    "\n",
    "# Filtrar registros válidos\n",
    "df_filtered = filter_valid_records(df_train)\n",
    "\n",
    "# Crear columnas de fecha\n",
    "df_filtered = create_date_columns(df_filtered, 'FechaMedicion')\n",
    "\n",
    "# Calcular diferencias de volumen y horas de bombeo\n",
    "df_filtered = calculate_differences(df_filtered)\n",
    "\n",
    "# Eliminar valores negativos y NaNs\n",
    "df_filtered = remove_negative_and_nan(df_filtered)\n",
    "\n",
    "# Calcular caudal por registro\n",
    "df_filtered = calculate_flow(df_filtered)\n",
    "\n",
    "# Filtrar caudales\n",
    "df_filtered = filter_flows(df_filtered)\n",
    "\n",
    "# Mostrar el DataFrame final\n",
    "print(df_filtered)\n"
   ]
  },
  {
   "cell_type": "code",
   "execution_count": 161,
   "metadata": {},
   "outputs": [
    {
     "data": {
      "text/plain": [
       "\"df_filtered_cx102_julio_2021 = df_filtered[(df_filtered['Origen'] == 'CX-102') & (df_filtered['Fecha'].dt.year == 2021) & (df_filtered['Fecha'].dt.month == 7)]\\nprint(df_filtered_cx102_julio_2021)\""
      ]
     },
     "execution_count": 161,
     "metadata": {},
     "output_type": "execute_result"
    }
   ],
   "source": [
    "\"\"\"df_filtered_cx102_julio_2021 = df_filtered[(df_filtered['Origen'] == 'CX-102') & (df_filtered['Fecha'].dt.year == 2021) & (df_filtered['Fecha'].dt.month == 7)]\n",
    "print(df_filtered_cx102_julio_2021)\"\"\""
   ]
  },
  {
   "cell_type": "code",
   "execution_count": 23,
   "metadata": {},
   "outputs": [
    {
     "data": {
      "text/plain": [
       "\"# Asegurar que las columnas relevantes esten en tipo numéricas\\ndf_train['HorometroFinal'] = pd.to_numeric(df_train['HorometroFinal'], errors='coerce')\\ndf_train['HorometroIncial'] = pd.to_numeric(df_train['HorometroIncial'], errors='coerce')\\ndf_train['VolumenFinal'] = pd.to_numeric(df_train['VolumenFinal'], errors='coerce')\\ndf_train['VolumenInicial'] = pd.to_numeric(df_train['VolumenInicial'], errors='coerce')\\ndf_train['HorasEstimadas'] = pd.to_numeric(df_train['HorasEstimadas'], errors='coerce')\\n\\n# Filtrar los registros donde los valores son mayores a cero y hay un incremento en los valores\\ncondiciones = (\\n    (df_train['HorometroFinal'] > df_train['HorometroIncial']) &\\n    (df_train['VolumenFinal'] > df_train['VolumenInicial']) &\\n    (df_train['HorasEstimadas'] > 0)\\n)\\n\\ndf_filtered = df_train[condiciones].copy()\\n\\n# Convertir la columna 'FechaMedicion' a datetime y crear columnas 'Mes' y 'Año'\\ndf_filtered['Fecha'] = pd.to_datetime(df_filtered['FechaMedicion'], errors='coerce')\\ndf_filtered.dropna(subset=['Fecha'], inplace=True)\\ndf_filtered['Mes'] = df_filtered['Fecha'].dt.month\\ndf_filtered['Año'] = df_filtered['Fecha'].dt.year\\n\\n# Calcular la diferencia de volumen y las horas efectivas de bombeo\\ndf_filtered['Diferencia_Volumen'] = df_filtered['VolumenFinal'] - df_filtered['VolumenInicial']\\ndf_filtered['Horas_Bombeo'] = df_filtered['HorometroFinal'] - df_filtered['HorometroIncial']\\n\\n# Asegurar que no se generen valores negativos o NaNs\\ndf_filtered = df_filtered[(df_filtered['Diferencia_Volumen'] > 0) & (df_filtered['Horas_Bombeo'] > 0)]\\n\\n# Calcular el caudal por registro en m3/h\\ndf_filtered['Caudal_m3/h'] = df_filtered['Diferencia_Volumen'] / df_filtered['Horas_Bombeo']\\n\\n# Filtrar Caudales para eliminar caudales mayores a 100 L/s (360 m3/), antes de calcular caudales medios mensuales\\ndf_filtered['Caudal_m3/h'] = np.where(df_filtered['Caudal_m3/h'] <= 360, df_filtered['Caudal_m3/h'], np.nan)\\n\\n\\nprint(df_filtered)\""
      ]
     },
     "execution_count": 23,
     "metadata": {},
     "output_type": "execute_result"
    }
   ],
   "source": [
    "\"\"\"# Asegurar que las columnas relevantes esten en tipo numéricas\n",
    "df_train['HorometroFinal'] = pd.to_numeric(df_train['HorometroFinal'], errors='coerce')\n",
    "df_train['HorometroIncial'] = pd.to_numeric(df_train['HorometroIncial'], errors='coerce')\n",
    "df_train['VolumenFinal'] = pd.to_numeric(df_train['VolumenFinal'], errors='coerce')\n",
    "df_train['VolumenInicial'] = pd.to_numeric(df_train['VolumenInicial'], errors='coerce')\n",
    "df_train['HorasEstimadas'] = pd.to_numeric(df_train['HorasEstimadas'], errors='coerce')\n",
    "\n",
    "# Filtrar los registros donde los valores son mayores a cero y hay un incremento en los valores\n",
    "condiciones = (\n",
    "    (df_train['HorometroFinal'] > df_train['HorometroIncial']) &\n",
    "    (df_train['VolumenFinal'] > df_train['VolumenInicial']) &\n",
    "    (df_train['HorasEstimadas'] > 0)\n",
    ")\n",
    "\n",
    "df_filtered = df_train[condiciones].copy()\n",
    "\n",
    "# Convertir la columna 'FechaMedicion' a datetime y crear columnas 'Mes' y 'Año'\n",
    "df_filtered['Fecha'] = pd.to_datetime(df_filtered['FechaMedicion'], errors='coerce')\n",
    "df_filtered.dropna(subset=['Fecha'], inplace=True)\n",
    "df_filtered['Mes'] = df_filtered['Fecha'].dt.month\n",
    "df_filtered['Año'] = df_filtered['Fecha'].dt.year\n",
    "\n",
    "# Calcular la diferencia de volumen y las horas efectivas de bombeo\n",
    "df_filtered['Diferencia_Volumen'] = df_filtered['VolumenFinal'] - df_filtered['VolumenInicial']\n",
    "df_filtered['Horas_Bombeo'] = df_filtered['HorometroFinal'] - df_filtered['HorometroIncial']\n",
    "\n",
    "# Asegurar que no se generen valores negativos o NaNs\n",
    "df_filtered = df_filtered[(df_filtered['Diferencia_Volumen'] > 0) & (df_filtered['Horas_Bombeo'] > 0)]\n",
    "\n",
    "# Calcular el caudal por registro en m3/h\n",
    "df_filtered['Caudal_m3/h'] = df_filtered['Diferencia_Volumen'] / df_filtered['Horas_Bombeo']\n",
    "\n",
    "# Filtrar Caudales para eliminar caudales mayores a 100 L/s (360 m3/), antes de calcular caudales medios mensuales\n",
    "df_filtered['Caudal_m3/h'] = np.where(df_filtered['Caudal_m3/h'] <= 360, df_filtered['Caudal_m3/h'], np.nan)\n",
    "\n",
    "\n",
    "print(df_filtered)\"\"\""
   ]
  },
  {
   "cell_type": "markdown",
   "metadata": {},
   "source": [
    "1. Función para agrupar y sumar caudales"
   ]
  },
  {
   "cell_type": "code",
   "execution_count": 27,
   "metadata": {},
   "outputs": [],
   "source": [
    "def group_and_sum_flows(df: pd.DataFrame) -> pd.DataFrame:\n",
    "    \"\"\"\n",
    "    Group by 'Origen', 'Año', 'Mes' and sum the flows and count unique days.\n",
    "\n",
    "    Args:\n",
    "        df: DataFrame to group and sum.\n",
    "\n",
    "    Returns:\n",
    "        DataFrame with summed flows and counted unique days per month.\n",
    "    \"\"\"\n",
    "    df_sum = df.groupby(['Origen', 'Año', 'Mes']).agg({'Caudal_m3/h': 'sum', 'Fecha': 'nunique'}).rename(columns={'Fecha': 'Total_dias_mes'})\n",
    "    return df_sum\n"
   ]
  },
  {
   "cell_type": "markdown",
   "metadata": {},
   "source": [
    "2. Función para calcular caudal medio mensual en m³/h"
   ]
  },
  {
   "cell_type": "code",
   "execution_count": 28,
   "metadata": {},
   "outputs": [],
   "source": [
    "def calculate_monthly_average_flow(df: pd.DataFrame) -> pd.DataFrame:\n",
    "    \"\"\"\n",
    "    Calculate monthly average flow in m³/h.\n",
    "\n",
    "    Args:\n",
    "        df: DataFrame with summed flows.\n",
    "\n",
    "    Returns:\n",
    "        DataFrame with calculated monthly average flow in m³/h.\n",
    "    \"\"\"\n",
    "    df['Qmedio_mensual_m3/h'] = df['Caudal_m3/h'] / df['Total_dias_mes']\n",
    "    return df"
   ]
  },
  {
   "cell_type": "markdown",
   "metadata": {},
   "source": [
    "3. Función para convertir caudal medio mensual a l/s"
   ]
  },
  {
   "cell_type": "code",
   "execution_count": 29,
   "metadata": {},
   "outputs": [],
   "source": [
    "def convert_flow_to_ls(df: pd.DataFrame) -> pd.DataFrame:\n",
    "    \"\"\"\n",
    "    Convert monthly average flow from m³/h to l/s.\n",
    "\n",
    "    Args:\n",
    "        df: DataFrame with monthly average flow in m³/h.\n",
    "\n",
    "    Returns:\n",
    "        DataFrame with monthly average flow in l/s.\n",
    "    \"\"\"\n",
    "    df['Qmedio_mensual_l/s'] = df['Qmedio_mensual_m3/h'] / 3.6\n",
    "    return df\n"
   ]
  },
  {
   "cell_type": "markdown",
   "metadata": {},
   "source": [
    "4. Función para visualizar resultados y crear columna 'Mes-Año'"
   ]
  },
  {
   "cell_type": "code",
   "execution_count": 30,
   "metadata": {},
   "outputs": [],
   "source": [
    "def visualize_results(df: pd.DataFrame) -> pd.DataFrame:\n",
    "    \"\"\"\n",
    "    Reset index, create 'Mes-Año' column and convert types for visualization.\n",
    "\n",
    "    Args:\n",
    "        df: DataFrame to process.\n",
    "\n",
    "    Returns:\n",
    "        DataFrame ready for visualization.\n",
    "    \"\"\"\n",
    "    df.reset_index(inplace=True)\n",
    "    df['Mes-Año'] = df['Mes'].astype(str).str.pad(width=2, fillchar='0') + '-' + df['Año'].astype(str)\n",
    "    return df\n"
   ]
  },
  {
   "cell_type": "markdown",
   "metadata": {},
   "source": [
    "5. Función para almacenar el resultado en un nuevo DataFrame"
   ]
  },
  {
   "cell_type": "code",
   "execution_count": 31,
   "metadata": {},
   "outputs": [],
   "source": [
    "def store_results(df: pd.DataFrame) -> pd.DataFrame:\n",
    "    \"\"\"\n",
    "    Store the results in a new DataFrame.\n",
    "\n",
    "    Args:\n",
    "        df: DataFrame with processed data.\n",
    "\n",
    "    Returns:\n",
    "        DataFrame with selected columns for final output.\n",
    "    \"\"\"\n",
    "    Q_Medio_Mensual = df[['Origen', 'Mes-Año', 'Qmedio_mensual_l/s']].copy()\n",
    "    return Q_Medio_Mensual\n"
   ]
  },
  {
   "cell_type": "markdown",
   "metadata": {},
   "source": [
    "## Flujo 2 Preprocesamiento 2:\n",
    "### - Agrupar y sumar caudales\n",
    "### - Calcular caudal medio mensual en m³/h\n",
    "### - Convertir caudal medio mensual a l/s\n",
    "### - Visualizar resultados\n",
    "### - Almacenar resultados"
   ]
  },
  {
   "cell_type": "code",
   "execution_count": 32,
   "metadata": {},
   "outputs": [
    {
     "name": "stdout",
     "output_type": "stream",
     "text": [
      "         Origen  Mes-Año  Qmedio_mensual_l/s\n",
      "0      ARPES-01  01-2014            7.469478\n",
      "1      ARPES-01  02-2014            7.236663\n",
      "2      ARPES-01  03-2014            7.484759\n",
      "3      ARPES-01  04-2014            8.274160\n",
      "4      ARPES-01  05-2014            7.291134\n",
      "...         ...      ...                 ...\n",
      "33741   XP17-05  11-2023            0.220853\n",
      "33742   XP17-05  12-2023            0.190849\n",
      "33743   XP17-05  01-2024            0.371406\n",
      "33744   XP17-05  02-2024            0.341201\n",
      "33745   XP17-05  03-2024            0.325153\n",
      "\n",
      "[33746 rows x 3 columns]\n"
     ]
    }
   ],
   "source": [
    "# Agrupar y sumar caudales\n",
    "df_sum = group_and_sum_flows(df_filtered)\n",
    "\n",
    "# Calcular caudal medio mensual en m³/h\n",
    "df_sum = calculate_monthly_average_flow(df_sum)\n",
    "\n",
    "# Convertir caudal medio mensual a l/s\n",
    "df_sum = convert_flow_to_ls(df_sum)\n",
    "\n",
    "# Visualizar resultados\n",
    "df_sum = visualize_results(df_sum)\n",
    "\n",
    "# Almacenar resultados\n",
    "Q_Medio_Mensual = store_results(df_sum)\n",
    "\n",
    "# Mostrar el nuevo DataFrame\n",
    "print(Q_Medio_Mensual)\n"
   ]
  },
  {
   "cell_type": "code",
   "execution_count": 30,
   "metadata": {},
   "outputs": [
    {
     "data": {
      "text/plain": [
       "'\"# Sumar el caudal diario en m³/h para cada mes y contar el número total de días por mes\\n# Asegurar que la columna  \\'Origen\\' también se incluya en el grupo\\ndf_sum = df_filtered.groupby([\\'Origen\\', \\'Año\\', \\'Mes\\']).agg({\\'Caudal_m3/h\\': \\'sum\\', \\'Fecha\\': \\'nunique\\'}).rename(columns={\\'Fecha\\': \\'Total_dias_mes\\'})\\n\\n# Calcular el caudal medio mensual en m³/h dividiendo la suma total por el número total de días\\ndf_sum[\\'Qmedio_mensual_m3h\\'] = df_sum[\\'Caudal_m3/h\\'] / df_sum[\\'Total_dias_mes\\']\\n\\n# Convertir el caudal medio mensual en m³/h a l/s dividiendo por 3.6 (1 m³/h = 1000 l/3600 s)\\ndf_sum[\\'Qmedio_mensual_l/s\\'] = df_sum[\\'Qmedio_mensual_m3h\\'] / 3.6\\n\\n# Visualizar los resultados\\ndf_sum.reset_index(inplace=True)\\ndf_sum[\\'Mes-Año\\'] = df_sum[\\'Mes\\'].astype(str).str.pad(width=2, fillchar=\\'0\\') + \\'-\\' + df_sum[\\'Año\\'].astype(str)\\n\\n# Almacenar el resultado en el dataframe Q_Medio_Mensual\\nQ_Medio_Mensual = df_sum[[\\'Origen\\', \\'Mes-Año\\', \\'Qmedio_mensual_l/s\\']].copy()\\n\\n# Mostrar el nuevo DataFrame\\nprint(Q_Medio_Mensual)'"
      ]
     },
     "execution_count": 30,
     "metadata": {},
     "output_type": "execute_result"
    }
   ],
   "source": [
    "\"\"\"\"# Sumar el caudal diario en m³/h para cada mes y contar el número total de días por mes\n",
    "# Asegurar que la columna  'Origen' también se incluya en el grupo\n",
    "df_sum = df_filtered.groupby(['Origen', 'Año', 'Mes']).agg({'Caudal_m3/h': 'sum', 'Fecha': 'nunique'}).rename(columns={'Fecha': 'Total_dias_mes'})\n",
    "\n",
    "# Calcular el caudal medio mensual en m³/h dividiendo la suma total por el número total de días\n",
    "df_sum['Qmedio_mensual_m3h'] = df_sum['Caudal_m3/h'] / df_sum['Total_dias_mes']\n",
    "\n",
    "# Convertir el caudal medio mensual en m³/h a l/s dividiendo por 3.6 (1 m³/h = 1000 l/3600 s)\n",
    "df_sum['Qmedio_mensual_l/s'] = df_sum['Qmedio_mensual_m3h'] / 3.6\n",
    "\n",
    "# Visualizar los resultados\n",
    "df_sum.reset_index(inplace=True)\n",
    "df_sum['Mes-Año'] = df_sum['Mes'].astype(str).str.pad(width=2, fillchar='0') + '-' + df_sum['Año'].astype(str)\n",
    "\n",
    "# Almacenar el resultado en el dataframe Q_Medio_Mensual\n",
    "Q_Medio_Mensual = df_sum[['Origen', 'Mes-Año', 'Qmedio_mensual_l/s']].copy()\n",
    "\n",
    "# Mostrar el nuevo DataFrame\n",
    "print(Q_Medio_Mensual)\"\"\""
   ]
  },
  {
   "cell_type": "markdown",
   "metadata": {},
   "source": [
    "1. Función para agregar una columna 'Mes-Año'"
   ]
  },
  {
   "cell_type": "code",
   "execution_count": 34,
   "metadata": {},
   "outputs": [],
   "source": [
    "def add_month_year_column(df: pd.DataFrame) -> pd.DataFrame:\n",
    "    \"\"\"\n",
    "    Add 'Mes-Año' column to the DataFrame.\n",
    "\n",
    "    Args:\n",
    "        df: DataFrame to process.\n",
    "\n",
    "    Returns:\n",
    "        DataFrame with 'Mes-Año' column added.\n",
    "    \"\"\"\n",
    "    df['Mes-Año'] = df['Fecha'].dt.strftime('%m-%Y')\n",
    "    return df"
   ]
  },
  {
   "cell_type": "markdown",
   "metadata": {},
   "source": [
    "2. Función para agrupar y contar registros por 'Origen' y 'Mes-Año'"
   ]
  },
  {
   "cell_type": "code",
   "execution_count": 35,
   "metadata": {},
   "outputs": [],
   "source": [
    "def group_and_count_records(df: pd.DataFrame) -> pd.DataFrame:\n",
    "    \"\"\"\n",
    "    Group by 'Origen' and 'Mes-Año', then count the number of records.\n",
    "\n",
    "    Args:\n",
    "        df: DataFrame to group and count.\n",
    "\n",
    "    Returns:\n",
    "        DataFrame with counted records per group.\n",
    "    \"\"\"\n",
    "    df_new = df.groupby(['Origen', 'Mes-Año']).size().reset_index(name='Cantidad_Registros')\n",
    "    return df_new"
   ]
  },
  {
   "cell_type": "markdown",
   "metadata": {},
   "source": [
    "3. Función para contar registros donde el caudal medio mensual es mayor a 100 l/s"
   ]
  },
  {
   "cell_type": "code",
   "execution_count": 36,
   "metadata": {},
   "outputs": [],
   "source": [
    "def count_high_flow_records(df: pd.DataFrame) -> int:\n",
    "    \"\"\"\n",
    "    Count the number of records where 'Qmedio_mensual_l/s' is greater than 100.\n",
    "\n",
    "    Args:\n",
    "        df: DataFrame to process.\n",
    "\n",
    "    Returns:\n",
    "        Integer count of records with high flow.\n",
    "    \"\"\"\n",
    "    count = (df['Qmedio_mensual_l/s'] > 100).sum()\n",
    "    return count\n"
   ]
  },
  {
   "cell_type": "markdown",
   "metadata": {},
   "source": [
    "4. Función para filtrar el DataFrame por rango de caudal medio mensual"
   ]
  },
  {
   "cell_type": "code",
   "execution_count": 37,
   "metadata": {},
   "outputs": [],
   "source": [
    "def filter_flow_range(df: pd.DataFrame) -> pd.DataFrame:\n",
    "    \"\"\"\n",
    "    Filter the DataFrame to keep records where 'Qmedio_mensual_l/s' is between 0 and 100 inclusive.\n",
    "\n",
    "    Args:\n",
    "        df: DataFrame to filter.\n",
    "\n",
    "    Returns:\n",
    "        Filtered DataFrame.\n",
    "    \"\"\"\n",
    "    df_filtered = df[(df['Qmedio_mensual_l/s'] > 0) & (df['Qmedio_mensual_l/s'] <= 100)]\n",
    "    return df_filtered\n"
   ]
  },
  {
   "cell_type": "markdown",
   "metadata": {},
   "source": [
    "## Flujo 3 preprocesamiento3 de datos:\n",
    "### - Agregar columna 'Mes-Año'\n",
    "### - Agrupar y contar registros\n",
    "### - Contar registros con alto caudal\n",
    "### - Filtrar el DataFrame por rango de caudal"
   ]
  },
  {
   "cell_type": "code",
   "execution_count": 38,
   "metadata": {},
   "outputs": [
    {
     "name": "stdout",
     "output_type": "stream",
     "text": [
      "         Origen  Mes-Año  Cantidad_Registros\n",
      "0      ARPES-01  01-2014                  29\n",
      "1      ARPES-01  01-2015                  30\n",
      "2      ARPES-01  01-2016                  30\n",
      "3      ARPES-01  01-2017                  30\n",
      "4      ARPES-01  01-2018                  31\n",
      "...         ...      ...                 ...\n",
      "33741   XP17-05  12-2019                  27\n",
      "33742   XP17-05  12-2020                  31\n",
      "33743   XP17-05  12-2021                  30\n",
      "33744   XP17-05  12-2022                  28\n",
      "33745   XP17-05  12-2023                  29\n",
      "\n",
      "[33746 rows x 3 columns]\n",
      "17\n",
      "(33718, 3)\n",
      "     Origen  Mes-Año  Qmedio_mensual_l/s\n",
      "0  ARPES-01  01-2014            7.469478\n",
      "1  ARPES-01  02-2014            7.236663\n",
      "2  ARPES-01  03-2014            7.484759\n",
      "3  ARPES-01  04-2014            8.274160\n",
      "4  ARPES-01  05-2014            7.291134\n"
     ]
    }
   ],
   "source": [
    "# Agregar columna 'Mes-Año'\n",
    "df_filtered = add_month_year_column(df_filtered)\n",
    "\n",
    "# Agrupar y contar registros\n",
    "df_new = group_and_count_records(df_filtered)\n",
    "print(df_new)\n",
    "\n",
    "# Contar registros con alto caudal\n",
    "count = count_high_flow_records(Q_Medio_Mensual)\n",
    "print(count)\n",
    "\n",
    "# Filtrar el DataFrame por rango de caudal\n",
    "Q_Medio_Mensual = filter_flow_range(Q_Medio_Mensual)\n",
    "\n",
    "# Verificar la operación imprimiendo la cantidad de registros restantes y un vistazo de los datos\n",
    "print(Q_Medio_Mensual.shape)\n",
    "print(Q_Medio_Mensual.head())\n"
   ]
  },
  {
   "cell_type": "code",
   "execution_count": 230,
   "metadata": {},
   "outputs": [
    {
     "data": {
      "text/plain": [
       "\"#crear un nuevo dataframe con los datos Pozo, Mes y la cantidad de registros por mes\\n\\ndf_filtered['Mes-Año'] = df_filtered['Fecha'].dt.strftime('%m-%Y')\\n\\ndf_new = df_filtered.groupby(['Origen', 'Mes-Año']).size().reset_index(name='Cantidad_Registros')\\n\\nprint(df_new)\""
      ]
     },
     "execution_count": 230,
     "metadata": {},
     "output_type": "execute_result"
    }
   ],
   "source": [
    "\"\"\"#crear un nuevo dataframe con los datos Pozo, Mes y la cantidad de registros por mes\n",
    "\n",
    "df_filtered['Mes-Año'] = df_filtered['Fecha'].dt.strftime('%m-%Y')\n",
    "\n",
    "df_new = df_filtered.groupby(['Origen', 'Mes-Año']).size().reset_index(name='Cantidad_Registros')\n",
    "\n",
    "print(df_new)\"\"\""
   ]
  },
  {
   "cell_type": "code",
   "execution_count": 37,
   "metadata": {},
   "outputs": [
    {
     "data": {
      "text/plain": [
       "\"count = (Q_Medio_Mensual['Qmedio_mensual_l/s'] > 100).sum()\\nprint(count)\""
      ]
     },
     "execution_count": 37,
     "metadata": {},
     "output_type": "execute_result"
    }
   ],
   "source": [
    "\"\"\"count = (Q_Medio_Mensual['Qmedio_mensual_l/s'] > 100).sum()\n",
    "print(count)\"\"\""
   ]
  },
  {
   "cell_type": "code",
   "execution_count": 38,
   "metadata": {},
   "outputs": [
    {
     "data": {
      "text/plain": [
       "\"# Filtrar el DataFrame para mantener solo aquellos registros donde 'Qmedio_mensual_l/s' sea mayor a cero y menor menor o igual a 100\\nQ_Medio_Mensual= Q_Medio_Mensual[Q_Medio_Mensual['Qmedio_mensual_l/s'] > 0]\\nQ_Medio_Mensual = Q_Medio_Mensual[Q_Medio_Mensual['Qmedio_mensual_l/s'] <= 100]\\n\\n# Verificar la operación imprimiendo la cantidad de registros restantes y un vistazo de los datos\\nprint(Q_Medio_Mensual.shape)\\nprint(Q_Medio_Mensual.head())\""
      ]
     },
     "execution_count": 38,
     "metadata": {},
     "output_type": "execute_result"
    }
   ],
   "source": [
    "\"\"\"# Filtrar el DataFrame para mantener solo aquellos registros donde 'Qmedio_mensual_l/s' sea mayor a cero y menor menor o igual a 100\n",
    "Q_Medio_Mensual= Q_Medio_Mensual[Q_Medio_Mensual['Qmedio_mensual_l/s'] > 0]\n",
    "Q_Medio_Mensual = Q_Medio_Mensual[Q_Medio_Mensual['Qmedio_mensual_l/s'] <= 100]\n",
    "\n",
    "# Verificar la operación imprimiendo la cantidad de registros restantes y un vistazo de los datos\n",
    "print(Q_Medio_Mensual.shape)\n",
    "print(Q_Medio_Mensual.head())\"\"\"\n"
   ]
  },
  {
   "cell_type": "code",
   "execution_count": 39,
   "metadata": {},
   "outputs": [
    {
     "data": {
      "text/plain": [
       "count    33718.000000\n",
       "mean         6.429530\n",
       "std          7.829850\n",
       "min          0.000444\n",
       "25%          1.477946\n",
       "50%          3.362979\n",
       "75%          8.815881\n",
       "max         94.750281\n",
       "Name: Qmedio_mensual_l/s, dtype: float64"
      ]
     },
     "execution_count": 39,
     "metadata": {},
     "output_type": "execute_result"
    }
   ],
   "source": [
    "Q_Medio_Mensual['Qmedio_mensual_l/s'].describe()"
   ]
  },
  {
   "cell_type": "code",
   "execution_count": 40,
   "metadata": {},
   "outputs": [
    {
     "data": {
      "text/plain": [
       "(33718, 3)"
      ]
     },
     "execution_count": 40,
     "metadata": {},
     "output_type": "execute_result"
    }
   ],
   "source": [
    "Q_Medio_Mensual.shape\n",
    "#Q_Medio_Mensual.to_excel('Q_Medio_Mensual.xlsx', index=False)"
   ]
  },
  {
   "cell_type": "markdown",
   "metadata": {},
   "source": [
    "1. Función para filtrar registros basados en una lista de pozos"
   ]
  },
  {
   "cell_type": "code",
   "execution_count": 41,
   "metadata": {},
   "outputs": [],
   "source": [
    "def filter_by_wells(df: pd.DataFrame, wells_list: list) -> pd.DataFrame:\n",
    "    \"\"\"\n",
    "    Filter the DataFrame to include only records where 'Origen' is in the provided list of wells.\n",
    "\n",
    "    Args:\n",
    "        df: DataFrame to filter.\n",
    "        wells_list: List of wells to include.\n",
    "\n",
    "    Returns:\n",
    "        Filtered DataFrame.\n",
    "    \"\"\"\n",
    "    df_filtered = df[df['Origen'].isin(wells_list)]\n",
    "    return df_filtered\n"
   ]
  },
  {
   "cell_type": "markdown",
   "metadata": {},
   "source": [
    "2. Filtrar el Dataset por los 444 Pozos seleccionados para el pronóstico"
   ]
  },
  {
   "cell_type": "code",
   "execution_count": 42,
   "metadata": {},
   "outputs": [
    {
     "data": {
      "text/html": [
       "<div>\n",
       "<style scoped>\n",
       "    .dataframe tbody tr th:only-of-type {\n",
       "        vertical-align: middle;\n",
       "    }\n",
       "\n",
       "    .dataframe tbody tr th {\n",
       "        vertical-align: top;\n",
       "    }\n",
       "\n",
       "    .dataframe thead th {\n",
       "        text-align: right;\n",
       "    }\n",
       "</style>\n",
       "<table border=\"1\" class=\"dataframe\">\n",
       "  <thead>\n",
       "    <tr style=\"text-align: right;\">\n",
       "      <th></th>\n",
       "      <th>Origen</th>\n",
       "      <th>Mes-Año</th>\n",
       "      <th>Qmedio_mensual_l/s</th>\n",
       "    </tr>\n",
       "  </thead>\n",
       "  <tbody>\n",
       "    <tr>\n",
       "      <th>0</th>\n",
       "      <td>ARPES-01</td>\n",
       "      <td>01-2014</td>\n",
       "      <td>7.469478</td>\n",
       "    </tr>\n",
       "    <tr>\n",
       "      <th>1</th>\n",
       "      <td>ARPES-01</td>\n",
       "      <td>02-2014</td>\n",
       "      <td>7.236663</td>\n",
       "    </tr>\n",
       "    <tr>\n",
       "      <th>2</th>\n",
       "      <td>ARPES-01</td>\n",
       "      <td>03-2014</td>\n",
       "      <td>7.484759</td>\n",
       "    </tr>\n",
       "    <tr>\n",
       "      <th>3</th>\n",
       "      <td>ARPES-01</td>\n",
       "      <td>04-2014</td>\n",
       "      <td>8.274160</td>\n",
       "    </tr>\n",
       "    <tr>\n",
       "      <th>4</th>\n",
       "      <td>ARPES-01</td>\n",
       "      <td>05-2014</td>\n",
       "      <td>7.291134</td>\n",
       "    </tr>\n",
       "    <tr>\n",
       "      <th>...</th>\n",
       "      <td>...</td>\n",
       "      <td>...</td>\n",
       "      <td>...</td>\n",
       "    </tr>\n",
       "    <tr>\n",
       "      <th>33741</th>\n",
       "      <td>XP17-05</td>\n",
       "      <td>11-2023</td>\n",
       "      <td>0.220853</td>\n",
       "    </tr>\n",
       "    <tr>\n",
       "      <th>33742</th>\n",
       "      <td>XP17-05</td>\n",
       "      <td>12-2023</td>\n",
       "      <td>0.190849</td>\n",
       "    </tr>\n",
       "    <tr>\n",
       "      <th>33743</th>\n",
       "      <td>XP17-05</td>\n",
       "      <td>01-2024</td>\n",
       "      <td>0.371406</td>\n",
       "    </tr>\n",
       "    <tr>\n",
       "      <th>33744</th>\n",
       "      <td>XP17-05</td>\n",
       "      <td>02-2024</td>\n",
       "      <td>0.341201</td>\n",
       "    </tr>\n",
       "    <tr>\n",
       "      <th>33745</th>\n",
       "      <td>XP17-05</td>\n",
       "      <td>03-2024</td>\n",
       "      <td>0.325153</td>\n",
       "    </tr>\n",
       "  </tbody>\n",
       "</table>\n",
       "<p>33718 rows × 3 columns</p>\n",
       "</div>"
      ],
      "text/plain": [
       "         Origen  Mes-Año  Qmedio_mensual_l/s\n",
       "0      ARPES-01  01-2014            7.469478\n",
       "1      ARPES-01  02-2014            7.236663\n",
       "2      ARPES-01  03-2014            7.484759\n",
       "3      ARPES-01  04-2014            8.274160\n",
       "4      ARPES-01  05-2014            7.291134\n",
       "...         ...      ...                 ...\n",
       "33741   XP17-05  11-2023            0.220853\n",
       "33742   XP17-05  12-2023            0.190849\n",
       "33743   XP17-05  01-2024            0.371406\n",
       "33744   XP17-05  02-2024            0.341201\n",
       "33745   XP17-05  03-2024            0.325153\n",
       "\n",
       "[33718 rows x 3 columns]"
      ]
     },
     "execution_count": 42,
     "metadata": {},
     "output_type": "execute_result"
    }
   ],
   "source": [
    "wells_list = [\n",
    "    'ARPES-01','ARPES-03','BCX-005','BCX-023','CX-060S','CX-072','CX-084','CX-085','CX-089',\n",
    "    'CX-090S','CX-097P','CX-098P','CX-100','CX-102','CX-133','CX-143','CX-146','CX-153',\n",
    "    'CX-158P','CX-159P','CX-162','CX-163P','CX-171','CX-181P','CX-188','E-88','FX-003',\n",
    "    'FX-009','KINT-146R5','KINT-234','KINT-326','KINT-337','MSW-450','MSW-456','MSW-457',\n",
    "    'PC-32-S','PC-32-SWB','PC-32-W','PC-D1-05','PC-D1-05E','PC-D1-05SW','PC-D1-05W','PC-D1-06',\n",
    "    'PC-D1-06NE','PC-D1-06SE','PC-D1-101','PC-D1-101D','PC-D1-102','PC-D1-103','PC-D1-104',\n",
    "    'PC-D1-104D','PC-D1-111','PC-D1-112','PC-D1-113','PC-D1-114B','PC-D1-121','PC-D1-122',\n",
    "    'PC-D1-123','PC-D1-131','PC-D1-132','PC-D1-133','PC-D1-134','PC-D1-135','PC-D1-141',\n",
    "    'PC-D1-142','PC-D1-143','PC-D1-144','PC-D1-15','PC-D1-16D','PC-D1-25SW','PC-D1-26',\n",
    "    'PC-D1-34','PC-D1-345','PC-D1-34D','PC-D1-34E','PC-D1-34SW','PC-D1-355E','PC-D1-355N',\n",
    "    'PC-D1-355NE','PC-D1-355S','PC-D1-35D','PC-D1-35N','PC-D1-35S','PC-D1-36','PC-D1-37',\n",
    "    'PC-D1-43','PC-D1-44','PC-D1-45','PC-D1-46','PC-D1-47','PC-D1-53','PC-D1-54','PC-D1-55',\n",
    "    'PC-D1-55D','PC-D1-56','PC-D1-57','PC-D1-63B','PC-D1-72D','PC-D1-74','PC-D1-74D-B','PC-D1-76',\n",
    "    'PC-D1-81','PC-D1-82','PC-D1-82D','PC-D1-83','PC-D1-84','PC-D1-92','PC-D1-93','PC-D1-94',\n",
    "    'PC-SW10-04','PC-SW-103','PC-SW-104B','PC-SW-105R','PC-SW-11','PC-SW-114B','PC-SW-12',\n",
    "    'PC-SW-13','PC-SW-204','PC-SW-21','PC-SW-22','PC-SW-23','PC-SW-24','PC-SW3-02R','PC-SW-30R',\n",
    "    'PC-SW-31','PC-SW-32','PC-SW-33','PC-SW4-06','PC-SW-40B','PC-SW-41C','PC-SW-42','PC-SW-43',\n",
    "    'PC-SW-44','PC-SW5-05','PC-SW-51','PC-SW-510D','PC-SW-510R','PC-SW-61B','PC-SW7-01','PC-SW7-03R2',\n",
    "    'PC-SW7-04','PC-SW-72','PC-SW-82','PC-SW-84R','PC-SW-85','PC-SW-92','PC-SW-93','PC-SW-94',\n",
    "    'PC-UB-01','PC-UB-114','PC-UB-124','PC-UB-125','PC-UB-126','PC-UB-133','PC-UB-134B','PC-UB-136',\n",
    "    'PC-UB-143','PC-UB-144B','PC-UB-145','PC-UB-146','PC-UB-152','PC-UB-153','PC-UB-15B','PC-UB-163',\n",
    "    'PC-UB-164','PC-UB-165','PC-UB-169','PC-UB-173','PC-UB-174','PC-UB-176','PC-UB-185B','PC-UB-19',\n",
    "    'PC-UB-210','PC-UB-310','PC-UB-49','PC-UB-510','PC-UB-58','PC-UB-610B','PC-UB-611','PC-UB-69',\n",
    "    'PC-UB-710','PC-UB-811','PZ-6','TRN','W-1','W-10','W-1101','W-1104','W-1106','W-1109B','W-1186',\n",
    "    'W-1191','W-1201','W-1202','W-1205','W-1211','W-1217','W-1219','W-1221','W-1224','W-1225','W-1238',\n",
    "    'W-1240','W-1246', 'W-16','W-17','W-18','W-1901','W-2','W-220','W-221','W-224','W-225','W-247','W-265',\n",
    "    'W-280','W-312','W-322R','W-35','W-36','W-365P','W-37','W-38','W-39','W-446B','W-45','W-456','W-457R',\n",
    "    'W-458B','W-459R','W-460R','W-461C','W-5','W-52','W-53','W-56','W-57','W-58','W-60','W-609','W-62','W-620',\n",
    "    'W-621','W-64','W-66','W-701R','W-709','W-717B','W-718B','W-72','W-73','W-735B','W-737B','W-766B','W-767',\n",
    "    'W-77','W-783','W-787R','W-788B','W-794','W-799','W-82','W-869','W-871','W-876','W-9','W-909','W-910R',\n",
    "    'W-960B','W-961','W-965','W-966','W-967','W-969','W-970','W-972','W-973','W-975','W-977','W-978','W-983','W-984',\n",
    "    'W-993','W-994','W-995','W-CX-1004','W-CX-1005','W-CX-1008','W-CX-1009','W-CX-1011','W-CX-1016','W-CX-1022',\n",
    "    'W-CX-1023','W-CX-1026','W-CX-1028','W-CX-1029','W-CX-1030R','W-CX-1033','W-CX-1034','W-CX-1036','W-CX-1038',\n",
    "    'W-CX-1043','W-CX-1044R','W-CX-1046','W-CX-1049','W-CX-1050','W-CX-1053P','W-CX-1054','W-CX-1056',\n",
    "    'W-CX-1057','W-CX-1058','W-CX-1059','W-CX-1060','W-CX-1061','W-CX-1069','W-CX-1070','W-CX-1074',\n",
    "    'W-CX-1076','W-CX-1077','W-CX-1078','W-CX-1081','W-CX-1087','W-CX-1091','W-CX-1094','W-CX-1098S',\n",
    "    'W-CX-1106P','W-CX-1107P','W-CX-1108P','W-CX-1109','W-CX-1110','W-CX-1112S','WM-7','WM-9','W-RY-01',\n",
    "    'W-RY-04','W-RY-06','W-RY-10P','WS-164R','W-UB-01','W-UB-09R','W-UB-100','W-UB-101','W-UB-105','W-UB-106','W-UB-109R',\n",
    "    'W-UB-11','W-UB-110R','W-UB-111','W-UB-114','W-UB-115','W-UB-119','W-UB-126','W-UB-128','W-UB-131','W-UB-138','W-UB-138P',\n",
    "    'W-UB-16B','W-UB-172','W-UB-173','W-UB-176','W-UB-19','W-UB-196','W-UB-200R','W-UB-207','W-UB-210R','W-UB-212','W-UB-212P',\n",
    "    'W-UB-215','W-UB-218','W-UB-27','W-UB-277','W-UB-28','W-UB-280','W-UB-285','W-UB-287','W-UB-289','W-UB-290',\n",
    "    'W-UB-291','W-UB-292','W-UB-293','W-UB-298','W-UB-299','W-UB-30','W-UB-300','W-UB-301','W-UB-303','W-UB-304',\n",
    "    'W-UB-309','W-UB-313','W-UB-315','W-UB-318','W-UB-319','W-UB-320','W-UB-321','W-UB-322','W-UB-323','W-UB-328',\n",
    "    'W-UB-33','W-UB-330','W-UB-331','W-UB-336','W-UB-34','W-UB-341','W-UB-346','W-UB-36','W-UB-43','W-UB-45','W-UB-47',\n",
    "    'W-UB-48','W-UB-51','W-UB-53','W-UB-56R','W-UB-57','W-UB-65B','W-UB-67','W-UB-68','W-UB-73R2','W-UB-75','W-UB-78',\n",
    "    'W-UB-79','W-UB-81R','W-UB-82','W-UB-83B','W-UB-88B','W-UB-90R','W-UB-91R','W-UB-92R','W-UB-96R','W-UB-98','W-UB-99',\n",
    "    'W-UC-08','W-UC-11','W-UC-12','W-UC-14','W-UC-16','W-UC-17','W-UC-20','W-UC-25','W-UC-28','W-UC-30','W-UC-32','X-210',\n",
    "    'X-372','X-408','XP-0268R','XP-0284','XP17-03','XP17-05'\n",
    "]\n",
    "\n",
    "Q_Medio_Mensual_filtrado = filter_by_wells(Q_Medio_Mensual, wells_list)\n",
    "Q_Medio_Mensual_filtrado\n"
   ]
  },
  {
   "cell_type": "markdown",
   "metadata": {},
   "source": [
    "3. Verificación Rango variable Caudal Calculada Caudal Medio Menesual l/s"
   ]
  },
  {
   "cell_type": "code",
   "execution_count": 43,
   "metadata": {},
   "outputs": [],
   "source": [
    "def describe_caudal_mensual(df):\n",
    "    \"\"\"\n",
    "    Describir las estadísticas del caudal mensual calculado.\n",
    "    \"\"\"\n",
    "    print(\"Estadísticas descriptivas del Caudal Medio Mensual Calculado:\")\n",
    "    print(df['Qmedio_mensual_l/s'].describe())\n",
    "\n",
    "def plot_histogram(df):\n",
    "    \"\"\"\n",
    "    Graficar un histograma del caudal medio mensual.\n",
    "    \"\"\"\n",
    "    \n",
    "    # Activa el estilo 'ggplot'\n",
    "    plt.style.use('ggplot')\n",
    "    plt.figure(figsize=(10, 6))\n",
    "    plt.hist(df['Qmedio_mensual_l/s'], bins=50, color='blue', edgecolor='black')\n",
    "    plt.title('Distribución del Caudal Medio Mensual (l/s)')\n",
    "    plt.xlabel('Qmedio_mensual_l/s')\n",
    "    plt.ylabel('Frecuencia')\n",
    "    plt.axvline(100, color='red', linestyle='dashed', linewidth=2)\n",
    "    plt.text(100, plt.ylim()[1]*0.9, '100 l/s', color='red')\n",
    "    plt.show()\n",
    "\n",
    "def plot_boxplot(df):\n",
    "    \"\"\"\n",
    "    Graficar un boxplot del caudal medio mensual.\n",
    "    \"\"\"\n",
    "    # Activa el estilo 'ggplot'\n",
    "    plt.style.use('ggplot')\n",
    "    plt.figure(figsize=(10, 6))\n",
    "    plt.boxplot(df['Qmedio_mensual_l/s'], vert=False)\n",
    "    plt.title('Boxplot del Caudal Medio Mensual (l/s)')\n",
    "    plt.xlabel('Qmedio_mensual_l/s')\n",
    "    plt.axvline(100, color='red', linestyle='dashed', linewidth=2)\n",
    "    plt.text(100, 1.1, '100 l/s', color='red')\n",
    "    plt.show()"
   ]
  },
  {
   "cell_type": "code",
   "execution_count": 44,
   "metadata": {},
   "outputs": [
    {
     "name": "stdout",
     "output_type": "stream",
     "text": [
      "Estadísticas descriptivas del Caudal Medio Mensual Calculado:\n",
      "count    33718.000000\n",
      "mean         6.429530\n",
      "std          7.829850\n",
      "min          0.000444\n",
      "25%          1.477946\n",
      "50%          3.362979\n",
      "75%          8.815881\n",
      "max         94.750281\n",
      "Name: Qmedio_mensual_l/s, dtype: float64\n"
     ]
    },
    {
     "data": {
      "image/png": "[encoded data removed]",
      "text/plain": [
       "<Figure size 1000x600 with 1 Axes>"
      ]
     },
     "metadata": {},
     "output_type": "display_data"
    },
    {
     "data": {
      "image/png": "[encoded data removed]",
      "text/plain": [
       "<Figure size 1000x600 with 1 Axes>"
      ]
     },
     "metadata": {},
     "output_type": "display_data"
    }
   ],
   "source": [
    "# Uso de las funciones\n",
    "describe_caudal_mensual(Q_Medio_Mensual_filtrado)\n",
    "plot_histogram(Q_Medio_Mensual_filtrado)\n",
    "plot_boxplot(Q_Medio_Mensual_filtrado)"
   ]
  },
  {
   "cell_type": "code",
   "execution_count": 45,
   "metadata": {},
   "outputs": [
    {
     "data": {
      "text/plain": [
       "'# Activa el estilo \\'ggplot\\'\\nplt.style.use(\\'ggplot\\')\\n\\n# Estadísticas descriptivas\\nprint(\"Estadísticas descriptivas del Caudal Medio Mensual Calculado:\")\\nprint(Q_Medio_Mensual_filtrado[\\'Qmedio_mensual_l/s\\'].describe())\\n\\n# Histograma\\nplt.figure(figsize=(10, 6))\\nplt.hist(Q_Medio_Mensual_filtrado[\\'Qmedio_mensual_l/s\\'], bins=50, color=\\'blue\\', edgecolor=\\'black\\')\\nplt.title(\\'Distribución del Caudal Medio Mensual (l/s)\\')\\nplt.xlabel(\\'Qmedio_mensual_l/s\\')\\nplt.ylabel(\\'Frecuencia\\')\\nplt.axvline(100, color=\\'red\\', linestyle=\\'dashed\\', linewidth=2)\\nplt.text(100, plt.ylim()[1]*0.9, \\'100 l/s\\', color=\\'red\\')\\nplt.show()\\n\\n# Boxplot\\nplt.figure(figsize=(10, 6))\\nplt.boxplot(Q_Medio_Mensual_filtrado[\\'Qmedio_mensual_l/s\\'], vert=False)\\nplt.title(\\'Boxplot del Caudal Medio Mensual (l/s)\\')\\nplt.xlabel(\\'Qmedio_mensual_l/s\\')\\nplt.axvline(100, color=\\'red\\', linestyle=\\'dashed\\', linewidth=2)\\nplt.text(100, 1.1, \\'100 l/s\\', color=\\'red\\')\\nplt.show()'"
      ]
     },
     "execution_count": 45,
     "metadata": {},
     "output_type": "execute_result"
    }
   ],
   "source": [
    "\"\"\"# Activa el estilo 'ggplot'\n",
    "plt.style.use('ggplot')\n",
    "\n",
    "# Estadísticas descriptivas\n",
    "print(\"Estadísticas descriptivas del Caudal Medio Mensual Calculado:\")\n",
    "print(Q_Medio_Mensual_filtrado['Qmedio_mensual_l/s'].describe())\n",
    "\n",
    "# Histograma\n",
    "plt.figure(figsize=(10, 6))\n",
    "plt.hist(Q_Medio_Mensual_filtrado['Qmedio_mensual_l/s'], bins=50, color='blue', edgecolor='black')\n",
    "plt.title('Distribución del Caudal Medio Mensual (l/s)')\n",
    "plt.xlabel('Qmedio_mensual_l/s')\n",
    "plt.ylabel('Frecuencia')\n",
    "plt.axvline(100, color='red', linestyle='dashed', linewidth=2)\n",
    "plt.text(100, plt.ylim()[1]*0.9, '100 l/s', color='red')\n",
    "plt.show()\n",
    "\n",
    "# Boxplot\n",
    "plt.figure(figsize=(10, 6))\n",
    "plt.boxplot(Q_Medio_Mensual_filtrado['Qmedio_mensual_l/s'], vert=False)\n",
    "plt.title('Boxplot del Caudal Medio Mensual (l/s)')\n",
    "plt.xlabel('Qmedio_mensual_l/s')\n",
    "plt.axvline(100, color='red', linestyle='dashed', linewidth=2)\n",
    "plt.text(100, 1.1, '100 l/s', color='red')\n",
    "plt.show()\"\"\"\n"
   ]
  },
  {
   "cell_type": "markdown",
   "metadata": {},
   "source": [
    "Se ajusta el número de registros de acuerdo a los 444 Pozos filtrados (Campo Origen en el Dataset)"
   ]
  },
  {
   "cell_type": "code",
   "execution_count": 45,
   "metadata": {},
   "outputs": [
    {
     "data": {
      "text/plain": [
       "(33718, 3)"
      ]
     },
     "execution_count": 45,
     "metadata": {},
     "output_type": "execute_result"
    }
   ],
   "source": [
    "Q_Medio_Mensual_filtrado.shape"
   ]
  },
  {
   "cell_type": "code",
   "execution_count": 46,
   "metadata": {},
   "outputs": [
    {
     "name": "stdout",
     "output_type": "stream",
     "text": [
      "Valores negativos en 'Qmedio_mensual_l/s':\n",
      "Empty DataFrame\n",
      "Columns: [Origen, Mes-Año, Qmedio_mensual_l/s]\n",
      "Index: []\n"
     ]
    }
   ],
   "source": [
    "negativos_Q_Medio_Mensual_filtrado = Q_Medio_Mensual_filtrado[Q_Medio_Mensual_filtrado['Qmedio_mensual_l/s'] < 0]\n",
    "\n",
    "print(\"Valores negativos en 'Qmedio_mensual_l/s':\")\n",
    "print(negativos_Q_Medio_Mensual_filtrado)"
   ]
  },
  {
   "cell_type": "code",
   "execution_count": 47,
   "metadata": {},
   "outputs": [
    {
     "name": "stdout",
     "output_type": "stream",
     "text": [
      "         Origen  Mes-Año  Qmedio_mensual_l/s\n",
      "0      ARPES-01  01-2014            7.469478\n",
      "1      ARPES-01  02-2014            7.236663\n",
      "2      ARPES-01  03-2014            7.484759\n",
      "3      ARPES-01  04-2014            8.274160\n",
      "4      ARPES-01  05-2014            7.291134\n",
      "...         ...      ...                 ...\n",
      "33741   XP17-05  11-2023            0.220853\n",
      "33742   XP17-05  12-2023            0.190849\n",
      "33743   XP17-05  01-2024            0.371406\n",
      "33744   XP17-05  02-2024            0.341201\n",
      "33745   XP17-05  03-2024            0.325153\n",
      "\n",
      "[33718 rows x 3 columns]\n"
     ]
    }
   ],
   "source": [
    "print(Q_Medio_Mensual_filtrado)"
   ]
  },
  {
   "cell_type": "markdown",
   "metadata": {},
   "source": [
    "Valida los valores NULL o vacios para cada variable"
   ]
  },
  {
   "cell_type": "code",
   "execution_count": 48,
   "metadata": {},
   "outputs": [
    {
     "name": "stdout",
     "output_type": "stream",
     "text": [
      "Origen                0\n",
      "Mes-Año               0\n",
      "Qmedio_mensual_l/s    0\n",
      "dtype: int64\n"
     ]
    }
   ],
   "source": [
    "# Chequeo de valores faltantes\n",
    "print(Q_Medio_Mensual_filtrado.isnull().sum())"
   ]
  },
  {
   "cell_type": "markdown",
   "metadata": {},
   "source": [
    "4. Valida el Número de Pozos contenidos en el Dataset"
   ]
  },
  {
   "cell_type": "code",
   "execution_count": 49,
   "metadata": {},
   "outputs": [
    {
     "name": "stdout",
     "output_type": "stream",
     "text": [
      "Número de Pozos: 447\n"
     ]
    }
   ],
   "source": [
    "num_pozos = len(Q_Medio_Mensual_filtrado['Origen'].unique())\n",
    "\n",
    "print(\"Número de Pozos:\", num_pozos)"
   ]
  },
  {
   "cell_type": "markdown",
   "metadata": {},
   "source": [
    "5. Creación un nuevo campo Fecha"
   ]
  },
  {
   "cell_type": "code",
   "execution_count": 50,
   "metadata": {},
   "outputs": [],
   "source": [
    "def create_date_column(dataframe):\n",
    "    \"\"\"\n",
    "    Create a 'Fecha' column from 'Mes-Año' and add 'Mes' and 'Año' columns.\n",
    "\n",
    "    Args:\n",
    "        dataframe (pd.DataFrame): Input dataframe with 'Mes-Año' column.\n",
    "\n",
    "    Returns:\n",
    "        pd.DataFrame: Dataframe with new 'Fecha', 'Mes', and 'Año' columns.\n",
    "    \"\"\"\n",
    "    dataframe['Fecha'] = pd.to_datetime(dataframe['Mes-Año'], format='%m-%Y').dt.to_period('M').dt.start_time\n",
    "    dataframe['Mes'] = dataframe['Fecha'].dt.month\n",
    "    dataframe['Agno'] = dataframe['Fecha'].dt.year\n",
    "    return dataframe\n"
   ]
  },
  {
   "cell_type": "code",
   "execution_count": 51,
   "metadata": {},
   "outputs": [
    {
     "name": "stdout",
     "output_type": "stream",
     "text": [
      "         Origen  Mes-Año  Qmedio_mensual_l/s      Fecha  Mes  Agno\n",
      "0      ARPES-01  01-2014            7.469478 2014-01-01    1  2014\n",
      "1      ARPES-01  02-2014            7.236663 2014-02-01    2  2014\n",
      "2      ARPES-01  03-2014            7.484759 2014-03-01    3  2014\n",
      "3      ARPES-01  04-2014            8.274160 2014-04-01    4  2014\n",
      "4      ARPES-01  05-2014            7.291134 2014-05-01    5  2014\n",
      "...         ...      ...                 ...        ...  ...   ...\n",
      "33741   XP17-05  11-2023            0.220853 2023-11-01   11  2023\n",
      "33742   XP17-05  12-2023            0.190849 2023-12-01   12  2023\n",
      "33743   XP17-05  01-2024            0.371406 2024-01-01    1  2024\n",
      "33744   XP17-05  02-2024            0.341201 2024-02-01    2  2024\n",
      "33745   XP17-05  03-2024            0.325153 2024-03-01    3  2024\n",
      "\n",
      "[33718 rows x 6 columns]\n"
     ]
    }
   ],
   "source": [
    "Q_Medio_Mensual_filtrado = create_date_column(Q_Medio_Mensual_filtrado)\n",
    "print(Q_Medio_Mensual_filtrado)\n"
   ]
  },
  {
   "cell_type": "code",
   "execution_count": 57,
   "metadata": {},
   "outputs": [
    {
     "data": {
      "text/plain": [
       "\"Q_Medio_Mensual_filtrado['Fecha'] = pd.to_datetime(Q_Medio_Mensual_filtrado['Mes-Año'], format='%m-%Y').dt.to_period('M').dt.start_time\""
      ]
     },
     "execution_count": 57,
     "metadata": {},
     "output_type": "execute_result"
    }
   ],
   "source": [
    "\"\"\"Q_Medio_Mensual_filtrado['Fecha'] = pd.to_datetime(Q_Medio_Mensual_filtrado['Mes-Año'], format='%m-%Y').dt.to_period('M').dt.start_time\"\"\"\n"
   ]
  },
  {
   "cell_type": "code",
   "execution_count": 52,
   "metadata": {},
   "outputs": [
    {
     "data": {
      "text/html": [
       "<div>\n",
       "<style scoped>\n",
       "    .dataframe tbody tr th:only-of-type {\n",
       "        vertical-align: middle;\n",
       "    }\n",
       "\n",
       "    .dataframe tbody tr th {\n",
       "        vertical-align: top;\n",
       "    }\n",
       "\n",
       "    .dataframe thead th {\n",
       "        text-align: right;\n",
       "    }\n",
       "</style>\n",
       "<table border=\"1\" class=\"dataframe\">\n",
       "  <thead>\n",
       "    <tr style=\"text-align: right;\">\n",
       "      <th></th>\n",
       "      <th>Origen</th>\n",
       "      <th>Mes-Año</th>\n",
       "      <th>Qmedio_mensual_l/s</th>\n",
       "      <th>Fecha</th>\n",
       "      <th>Mes</th>\n",
       "      <th>Agno</th>\n",
       "    </tr>\n",
       "  </thead>\n",
       "  <tbody>\n",
       "    <tr>\n",
       "      <th>0</th>\n",
       "      <td>ARPES-01</td>\n",
       "      <td>01-2014</td>\n",
       "      <td>7.469478</td>\n",
       "      <td>2014-01-01</td>\n",
       "      <td>1</td>\n",
       "      <td>2014</td>\n",
       "    </tr>\n",
       "    <tr>\n",
       "      <th>1</th>\n",
       "      <td>ARPES-01</td>\n",
       "      <td>02-2014</td>\n",
       "      <td>7.236663</td>\n",
       "      <td>2014-02-01</td>\n",
       "      <td>2</td>\n",
       "      <td>2014</td>\n",
       "    </tr>\n",
       "    <tr>\n",
       "      <th>2</th>\n",
       "      <td>ARPES-01</td>\n",
       "      <td>03-2014</td>\n",
       "      <td>7.484759</td>\n",
       "      <td>2014-03-01</td>\n",
       "      <td>3</td>\n",
       "      <td>2014</td>\n",
       "    </tr>\n",
       "    <tr>\n",
       "      <th>3</th>\n",
       "      <td>ARPES-01</td>\n",
       "      <td>04-2014</td>\n",
       "      <td>8.274160</td>\n",
       "      <td>2014-04-01</td>\n",
       "      <td>4</td>\n",
       "      <td>2014</td>\n",
       "    </tr>\n",
       "    <tr>\n",
       "      <th>4</th>\n",
       "      <td>ARPES-01</td>\n",
       "      <td>05-2014</td>\n",
       "      <td>7.291134</td>\n",
       "      <td>2014-05-01</td>\n",
       "      <td>5</td>\n",
       "      <td>2014</td>\n",
       "    </tr>\n",
       "  </tbody>\n",
       "</table>\n",
       "</div>"
      ],
      "text/plain": [
       "     Origen  Mes-Año  Qmedio_mensual_l/s      Fecha  Mes  Agno\n",
       "0  ARPES-01  01-2014            7.469478 2014-01-01    1  2014\n",
       "1  ARPES-01  02-2014            7.236663 2014-02-01    2  2014\n",
       "2  ARPES-01  03-2014            7.484759 2014-03-01    3  2014\n",
       "3  ARPES-01  04-2014            8.274160 2014-04-01    4  2014\n",
       "4  ARPES-01  05-2014            7.291134 2014-05-01    5  2014"
      ]
     },
     "execution_count": 52,
     "metadata": {},
     "output_type": "execute_result"
    }
   ],
   "source": [
    "Q_Medio_Mensual_filtrado.head()"
   ]
  },
  {
   "cell_type": "code",
   "execution_count": 53,
   "metadata": {},
   "outputs": [
    {
     "data": {
      "text/plain": [
       "Origen                        object\n",
       "Mes-Año                       object\n",
       "Qmedio_mensual_l/s           float64\n",
       "Fecha                 datetime64[ns]\n",
       "Mes                            int32\n",
       "Agno                           int32\n",
       "dtype: object"
      ]
     },
     "execution_count": 53,
     "metadata": {},
     "output_type": "execute_result"
    }
   ],
   "source": [
    "Q_Medio_Mensual_filtrado.dtypes"
   ]
  },
  {
   "cell_type": "markdown",
   "metadata": {},
   "source": [
    "5. Validar campo Fecha este correctamente asignada a un dato tipo Fecha. \n",
    "   Agrega dos columnas 'Mes' y 'Agno' (Año)"
   ]
  },
  {
   "cell_type": "code",
   "execution_count": 54,
   "metadata": {},
   "outputs": [],
   "source": [
    "Q_Medio_Mensual_filtrado['Mes'] = Q_Medio_Mensual_filtrado['Fecha'].dt.month\n",
    "Q_Medio_Mensual_filtrado['Agno'] = Q_Medio_Mensual_filtrado['Fecha'].dt.year"
   ]
  },
  {
   "cell_type": "code",
   "execution_count": 55,
   "metadata": {},
   "outputs": [
    {
     "data": {
      "text/plain": [
       "Origen                        object\n",
       "Mes-Año                       object\n",
       "Qmedio_mensual_l/s           float64\n",
       "Fecha                 datetime64[ns]\n",
       "Mes                            int32\n",
       "Agno                           int32\n",
       "dtype: object"
      ]
     },
     "execution_count": 55,
     "metadata": {},
     "output_type": "execute_result"
    }
   ],
   "source": [
    "Q_Medio_Mensual_filtrado.dtypes"
   ]
  },
  {
   "cell_type": "code",
   "execution_count": 56,
   "metadata": {},
   "outputs": [
    {
     "name": "stdout",
     "output_type": "stream",
     "text": [
      "     Origen  Mes-Año  Qmedio_mensual_l/s      Fecha  Mes  Agno\n",
      "0  ARPES-01  01-2014            7.469478 2014-01-01    1  2014\n",
      "1  ARPES-01  02-2014            7.236663 2014-02-01    2  2014\n",
      "2  ARPES-01  03-2014            7.484759 2014-03-01    3  2014\n",
      "3  ARPES-01  04-2014            8.274160 2014-04-01    4  2014\n",
      "4  ARPES-01  05-2014            7.291134 2014-05-01    5  2014\n"
     ]
    }
   ],
   "source": [
    "print(Q_Medio_Mensual_filtrado.head())"
   ]
  },
  {
   "cell_type": "markdown",
   "metadata": {},
   "source": [
    "Función para Validar la Cantidad de Datos por Año en Términos de Volumen"
   ]
  },
  {
   "cell_type": "markdown",
   "metadata": {},
   "source": [
    "6. Válida la la cantidad de datos por año en términos de volumen"
   ]
  },
  {
   "cell_type": "code",
   "execution_count": 57,
   "metadata": {},
   "outputs": [],
   "source": [
    "def plot_data_volume_per_year(Q_Medio_Mensual_filtrado):\n",
    "    plt.style.use('ggplot')\n",
    "    \n",
    "    data_per_year = Q_Medio_Mensual_filtrado.groupby('Agno').size().reset_index(name='Counts')\n",
    "    \n",
    "    plt.figure(figsize=(10, 6))\n",
    "    sns.scatterplot(data=data_per_year, x='Agno', y='Counts', hue='Counts', size='Counts', sizes=(50, 500), legend=False)\n",
    "    \n",
    "    plt.title('Volumen de datos por año')\n",
    "    plt.xlabel('Año')\n",
    "    plt.ylabel('Volumen de datos')\n",
    "    plt.grid(color='lightgray', linestyle='-', linewidth=0.5)\n",
    "    plt.show()\n",
    "    \n",
    "    return data_per_year"
   ]
  },
  {
   "cell_type": "code",
   "execution_count": 58,
   "metadata": {},
   "outputs": [
    {
     "data": {
      "image/png": "[encoded data removed]",
      "text/plain": [
       "<Figure size 1000x600 with 1 Axes>"
      ]
     },
     "metadata": {},
     "output_type": "display_data"
    }
   ],
   "source": [
    "# Implementacion de la vizualización\n",
    "data_per_year = plot_data_volume_per_year(Q_Medio_Mensual_filtrado)"
   ]
  },
  {
   "cell_type": "markdown",
   "metadata": {},
   "source": [
    "### Estadísticas Descriptivas"
   ]
  },
  {
   "cell_type": "markdown",
   "metadata": {},
   "source": [
    "Función para Generar Estadísticas Descriptivas"
   ]
  },
  {
   "cell_type": "code",
   "execution_count": 59,
   "metadata": {},
   "outputs": [
    {
     "data": {
      "text/html": [
       "<div>\n",
       "<style scoped>\n",
       "    .dataframe tbody tr th:only-of-type {\n",
       "        vertical-align: middle;\n",
       "    }\n",
       "\n",
       "    .dataframe tbody tr th {\n",
       "        vertical-align: top;\n",
       "    }\n",
       "\n",
       "    .dataframe thead th {\n",
       "        text-align: right;\n",
       "    }\n",
       "</style>\n",
       "<table border=\"1\" class=\"dataframe\">\n",
       "  <thead>\n",
       "    <tr style=\"text-align: right;\">\n",
       "      <th></th>\n",
       "      <th></th>\n",
       "      <th>count</th>\n",
       "      <th>mean</th>\n",
       "      <th>std</th>\n",
       "      <th>min</th>\n",
       "      <th>25%</th>\n",
       "      <th>50%</th>\n",
       "      <th>75%</th>\n",
       "      <th>max</th>\n",
       "    </tr>\n",
       "    <tr>\n",
       "      <th>Origen</th>\n",
       "      <th>Fecha</th>\n",
       "      <th></th>\n",
       "      <th></th>\n",
       "      <th></th>\n",
       "      <th></th>\n",
       "      <th></th>\n",
       "      <th></th>\n",
       "      <th></th>\n",
       "      <th></th>\n",
       "    </tr>\n",
       "  </thead>\n",
       "  <tbody>\n",
       "    <tr>\n",
       "      <th rowspan=\"5\" valign=\"top\">ARPES-01</th>\n",
       "      <th>2014</th>\n",
       "      <td>12.0</td>\n",
       "      <td>4.219864</td>\n",
       "      <td>3.322930</td>\n",
       "      <td>0.011696</td>\n",
       "      <td>1.601483</td>\n",
       "      <td>4.246744</td>\n",
       "      <td>7.335720</td>\n",
       "      <td>8.274160</td>\n",
       "    </tr>\n",
       "    <tr>\n",
       "      <th>2015</th>\n",
       "      <td>12.0</td>\n",
       "      <td>7.737633</td>\n",
       "      <td>0.756155</td>\n",
       "      <td>5.743280</td>\n",
       "      <td>7.386043</td>\n",
       "      <td>8.050004</td>\n",
       "      <td>8.204828</td>\n",
       "      <td>8.448999</td>\n",
       "    </tr>\n",
       "    <tr>\n",
       "      <th>2016</th>\n",
       "      <td>9.0</td>\n",
       "      <td>6.696459</td>\n",
       "      <td>0.849033</td>\n",
       "      <td>5.649716</td>\n",
       "      <td>6.258709</td>\n",
       "      <td>6.645094</td>\n",
       "      <td>6.916529</td>\n",
       "      <td>8.595388</td>\n",
       "    </tr>\n",
       "    <tr>\n",
       "      <th>2017</th>\n",
       "      <td>12.0</td>\n",
       "      <td>6.392132</td>\n",
       "      <td>0.336112</td>\n",
       "      <td>5.926941</td>\n",
       "      <td>6.181706</td>\n",
       "      <td>6.351954</td>\n",
       "      <td>6.426309</td>\n",
       "      <td>7.124018</td>\n",
       "    </tr>\n",
       "    <tr>\n",
       "      <th>2018</th>\n",
       "      <td>12.0</td>\n",
       "      <td>6.581810</td>\n",
       "      <td>0.326695</td>\n",
       "      <td>5.996839</td>\n",
       "      <td>6.409910</td>\n",
       "      <td>6.515184</td>\n",
       "      <td>6.826598</td>\n",
       "      <td>7.173622</td>\n",
       "    </tr>\n",
       "    <tr>\n",
       "      <th>...</th>\n",
       "      <th>...</th>\n",
       "      <td>...</td>\n",
       "      <td>...</td>\n",
       "      <td>...</td>\n",
       "      <td>...</td>\n",
       "      <td>...</td>\n",
       "      <td>...</td>\n",
       "      <td>...</td>\n",
       "      <td>...</td>\n",
       "    </tr>\n",
       "    <tr>\n",
       "      <th rowspan=\"5\" valign=\"top\">XP17-05</th>\n",
       "      <th>2020</th>\n",
       "      <td>12.0</td>\n",
       "      <td>0.408208</td>\n",
       "      <td>0.048340</td>\n",
       "      <td>0.365164</td>\n",
       "      <td>0.366679</td>\n",
       "      <td>0.394611</td>\n",
       "      <td>0.427264</td>\n",
       "      <td>0.521500</td>\n",
       "    </tr>\n",
       "    <tr>\n",
       "      <th>2021</th>\n",
       "      <td>12.0</td>\n",
       "      <td>0.292961</td>\n",
       "      <td>0.065102</td>\n",
       "      <td>0.181470</td>\n",
       "      <td>0.251774</td>\n",
       "      <td>0.291149</td>\n",
       "      <td>0.345760</td>\n",
       "      <td>0.389347</td>\n",
       "    </tr>\n",
       "    <tr>\n",
       "      <th>2022</th>\n",
       "      <td>12.0</td>\n",
       "      <td>0.311770</td>\n",
       "      <td>0.087156</td>\n",
       "      <td>0.190268</td>\n",
       "      <td>0.251430</td>\n",
       "      <td>0.291040</td>\n",
       "      <td>0.380088</td>\n",
       "      <td>0.445732</td>\n",
       "    </tr>\n",
       "    <tr>\n",
       "      <th>2023</th>\n",
       "      <td>12.0</td>\n",
       "      <td>0.289856</td>\n",
       "      <td>0.103845</td>\n",
       "      <td>0.134274</td>\n",
       "      <td>0.213352</td>\n",
       "      <td>0.277528</td>\n",
       "      <td>0.398143</td>\n",
       "      <td>0.426855</td>\n",
       "    </tr>\n",
       "    <tr>\n",
       "      <th>2024</th>\n",
       "      <td>3.0</td>\n",
       "      <td>0.345920</td>\n",
       "      <td>0.023485</td>\n",
       "      <td>0.325153</td>\n",
       "      <td>0.333177</td>\n",
       "      <td>0.341201</td>\n",
       "      <td>0.356304</td>\n",
       "      <td>0.371406</td>\n",
       "    </tr>\n",
       "  </tbody>\n",
       "</table>\n",
       "<p>3643 rows × 8 columns</p>\n",
       "</div>"
      ],
      "text/plain": [
       "                count      mean       std       min       25%       50%  \\\n",
       "Origen   Fecha                                                            \n",
       "ARPES-01 2014    12.0  4.219864  3.322930  0.011696  1.601483  4.246744   \n",
       "         2015    12.0  7.737633  0.756155  5.743280  7.386043  8.050004   \n",
       "         2016     9.0  6.696459  0.849033  5.649716  6.258709  6.645094   \n",
       "         2017    12.0  6.392132  0.336112  5.926941  6.181706  6.351954   \n",
       "         2018    12.0  6.581810  0.326695  5.996839  6.409910  6.515184   \n",
       "...               ...       ...       ...       ...       ...       ...   \n",
       "XP17-05  2020    12.0  0.408208  0.048340  0.365164  0.366679  0.394611   \n",
       "         2021    12.0  0.292961  0.065102  0.181470  0.251774  0.291149   \n",
       "         2022    12.0  0.311770  0.087156  0.190268  0.251430  0.291040   \n",
       "         2023    12.0  0.289856  0.103845  0.134274  0.213352  0.277528   \n",
       "         2024     3.0  0.345920  0.023485  0.325153  0.333177  0.341201   \n",
       "\n",
       "                     75%       max  \n",
       "Origen   Fecha                      \n",
       "ARPES-01 2014   7.335720  8.274160  \n",
       "         2015   8.204828  8.448999  \n",
       "         2016   6.916529  8.595388  \n",
       "         2017   6.426309  7.124018  \n",
       "         2018   6.826598  7.173622  \n",
       "...                  ...       ...  \n",
       "XP17-05  2020   0.427264  0.521500  \n",
       "         2021   0.345760  0.389347  \n",
       "         2022   0.380088  0.445732  \n",
       "         2023   0.398143  0.426855  \n",
       "         2024   0.356304  0.371406  \n",
       "\n",
       "[3643 rows x 8 columns]"
      ]
     },
     "metadata": {},
     "output_type": "display_data"
    }
   ],
   "source": [
    "\n",
    "def calculate_descriptive_statistics(df):\n",
    "    \"\"\"\n",
    "    Calcula las estadísticas descriptivas del DataFrame agrupado por 'Origen' y 'Fecha' (año).\n",
    "    \n",
    "    Args:\n",
    "        df (pd.DataFrame): DataFrame que contiene los datos filtrados y procesados.\n",
    "\n",
    "    Returns:\n",
    "        pd.DataFrame: DataFrame con las estadísticas descriptivas.\n",
    "    \"\"\"\n",
    "    df_grouped_caudal = df.groupby(['Origen', df['Fecha'].dt.year])['Qmedio_mensual_l/s']\n",
    "    return df_grouped_caudal.describe()\n",
    "\n",
    "def visualize_descriptive_statistics(df_grouped_caudal):\n",
    "    \"\"\"\n",
    "    Muestra las estadísticas descriptivas y las guarda en un archivo Excel.\n",
    "\n",
    "    Args:\n",
    "        df_grouped_caudal (pd.DataFrame): DataFrame con las estadísticas descriptivas calculadas.\n",
    "    \"\"\"\n",
    "    display(df_grouped_caudal)\n",
    "    # Exportar a Excel (opcional)\n",
    "    # df_grouped_caudal.describe().to_excel(\"df_grouped_caudal_describe.xlsx\")\n",
    "\n",
    "# Aplicación de las funciones\n",
    "df_grouped_caudal = calculate_descriptive_statistics(Q_Medio_Mensual_filtrado)\n",
    "visualize_descriptive_statistics(df_grouped_caudal)\n"
   ]
  },
  {
   "cell_type": "code",
   "execution_count": 69,
   "metadata": {},
   "outputs": [
    {
     "data": {
      "text/plain": [
       "\"df_grouped_caudal = Q_Medio_Mensual_filtrado.groupby(['Origen', Q_Medio_Mensual_filtrado['Fecha'].dt.year])['Qmedio_mensual_l/s']\\ndf_grouped_caudal.describe()\""
      ]
     },
     "execution_count": 69,
     "metadata": {},
     "output_type": "execute_result"
    }
   ],
   "source": [
    "\"\"\"df_grouped_caudal = Q_Medio_Mensual_filtrado.groupby(['Origen', Q_Medio_Mensual_filtrado['Fecha'].dt.year])['Qmedio_mensual_l/s']\n",
    "df_grouped_caudal.describe()\"\"\""
   ]
  },
  {
   "cell_type": "code",
   "execution_count": 70,
   "metadata": {},
   "outputs": [
    {
     "data": {
      "text/plain": [
       "\"# Activa el estilo 'ggplot'\\nplt.style.use('ggplot')\\n\\ndata_per_year = Q_Medio_Mensual_filtrado.groupby('Agno').size().reset_index(name='Counts')\\n\\nplt.figure(figsize=(10,6))\\nsns.scatterplot(data=data_per_year, x='Agno', y='Counts', hue='Counts', size='Counts', sizes=(50, 500), legend=False)\\n\\nplt.title('Volumen de datos por año')\\nplt.xlabel('Año')\\nplt.ylabel('Volumen de datos')\\nplt.grid(color='lightgray', linestyle='-', linewidth=0.5)\""
      ]
     },
     "execution_count": 70,
     "metadata": {},
     "output_type": "execute_result"
    }
   ],
   "source": [
    "\"\"\"# Activa el estilo 'ggplot'\n",
    "plt.style.use('ggplot')\n",
    "\n",
    "data_per_year = Q_Medio_Mensual_filtrado.groupby('Agno').size().reset_index(name='Counts')\n",
    "\n",
    "plt.figure(figsize=(10,6))\n",
    "sns.scatterplot(data=data_per_year, x='Agno', y='Counts', hue='Counts', size='Counts', sizes=(50, 500), legend=False)\n",
    "\n",
    "plt.title('Volumen de datos por año')\n",
    "plt.xlabel('Año')\n",
    "plt.ylabel('Volumen de datos')\n",
    "plt.grid(color='lightgray', linestyle='-', linewidth=0.5)\"\"\""
   ]
  },
  {
   "cell_type": "code",
   "execution_count": 71,
   "metadata": {},
   "outputs": [
    {
     "data": {
      "text/plain": [
       "'df_grouped_caudal = Q_Medio_Mensual_filtrado.groupby([\\'Origen\\', Q_Medio_Mensual_filtrado[\\'Fecha\\'].dt.year])[\\'Qmedio_mensual_l/s\\']\\ndf_grouped_caudal.describe()\\n# Exportar a Excel Estadisticas Descriptivas\\n# df_grouped_caudal.describe().to_excel(\"df_grouped_caudal_describe.xlsx\")'"
      ]
     },
     "execution_count": 71,
     "metadata": {},
     "output_type": "execute_result"
    }
   ],
   "source": [
    "\"\"\"df_grouped_caudal = Q_Medio_Mensual_filtrado.groupby(['Origen', Q_Medio_Mensual_filtrado['Fecha'].dt.year])['Qmedio_mensual_l/s']\n",
    "df_grouped_caudal.describe()\n",
    "# Exportar a Excel Estadisticas Descriptivas\n",
    "# df_grouped_caudal.describe().to_excel(\"df_grouped_caudal_describe.xlsx\")\"\"\""
   ]
  },
  {
   "cell_type": "code",
   "execution_count": 60,
   "metadata": {},
   "outputs": [],
   "source": [
    "def plot_yearly_data(df, origen, y_max=10):\n",
    "    \"\"\"\n",
    "    Grafica los datos anuales de Qmedio_mensual_l/s para un pozo específico.\n",
    "\n",
    "    Args:\n",
    "        df (pd.DataFrame): DataFrame que contiene los datos filtrados y procesados.\n",
    "        origen (str): El origen (pozo) específico que se desea graficar.\n",
    "        y_max (int, opcional): Límite superior del eje y. Predeterminado es 10 l/s.\n",
    "    \"\"\"\n",
    "    plt.style.use('ggplot')\n",
    "    \n",
    "    # Filtrar los datos para el pozo específico\n",
    "    pozo_data = df[df['Origen'] == origen].copy()\n",
    "    \n",
    "    # Asegurar que la columna 'Mes-Año' es de tipo datetime\n",
    "    pozo_data['Mes-Año'] = pd.to_datetime(pozo_data['Mes-Año'], format='%m-%Y')\n",
    "\n",
    "    # Graficar los datos anuales\n",
    "    plt.figure(figsize=(15, 7))\n",
    "    for year in pozo_data['Mes-Año'].dt.year.unique():\n",
    "        yearly_data = pozo_data[pozo_data['Mes-Año'].dt.year == year]\n",
    "        plt.scatter(yearly_data['Mes-Año'], yearly_data['Qmedio_mensual_l/s'], label=f'Año {year}', alpha=0.6)\n",
    "    \n",
    "    # Ajustar el límite superior del eje y\n",
    "    plt.ylim(0, y_max)\n",
    "    \n",
    "    # Configurar los formatos de fecha en el eje x\n",
    "    plt.gca().xaxis.set_major_formatter(mdates.DateFormatter('%b/%Y'))\n",
    "    plt.gca().xaxis.set_major_locator(mdates.YearLocator())\n",
    "    \n",
    "    # Rotar las fechas para mejor visualización\n",
    "    plt.xticks(rotation=0)\n",
    "    \n",
    "    # Añadir etiquetas y título\n",
    "    plt.xlabel('Periodo')\n",
    "    plt.ylabel('Qmedio_mensual_l/s')\n",
    "    plt.title(origen)\n",
    "    \n",
    "    # Añadir la cuadrícula\n",
    "    plt.grid(True)\n",
    "    \n",
    "    # Ajustar el formato y añadir la leyenda\n",
    "    plt.tight_layout()\n",
    "    plt.legend()\n",
    "    \n",
    "    # Mostrar el gráfico\n",
    "    plt.show()"
   ]
  },
  {
   "cell_type": "code",
   "execution_count": 73,
   "metadata": {},
   "outputs": [
    {
     "data": {
      "image/png": "[encoded data removed]",
      "text/plain": [
       "<Figure size 1500x700 with 1 Axes>"
      ]
     },
     "metadata": {},
     "output_type": "display_data"
    }
   ],
   "source": [
    "\n",
    "# Visualización de los datos anuales para un pozo específico\n",
    "plot_yearly_data(Q_Medio_Mensual_filtrado, 'ARPES-01')"
   ]
  },
  {
   "cell_type": "code",
   "execution_count": 74,
   "metadata": {},
   "outputs": [
    {
     "data": {
      "text/plain": [
       "'\"# Activa el estilo \\'ggplot\\'\\nplt.style.use(\\'ggplot\\')\\n\\n# Suponiendo que Q_Medio_Mensual es tu DataFrame con los datos correctos y ya contiene una columna \\'Mes-Año\\' de tipo datetime\\narpes01_data = Q_Medio_Mensual_filtrado[Q_Medio_Mensual_filtrado[\\'Origen\\'] == \\'ARPES-01\\'].copy()\\n\\n# Asegurándonos de que la columna \\'Mes-Año\\' sea de tipo datetime\\narpes01_data[\\'Mes-Año\\'] = pd.to_datetime(arpes01_data[\\'Mes-Año\\'], format=\\'%m-%Y\\')\\n\\n# Graficar todos los datos por año\\nplt.figure(figsize=(15, 7))\\nfor year in arpes01_data[\\'Mes-Año\\'].dt.year.unique():\\n    # Filtramos los datos para el año específico.\\n    yearly_data = arpes01_data[arpes01_data[\\'Mes-Año\\'].dt.year == year]\\n    plt.scatter(yearly_data[\\'Mes-Año\\'], yearly_data[\\'Qmedio_mensual_l/s\\'], label=f\\'Año {year}\\', alpha=0.6)\\n\\n# Ajustamos el límite superior del eje y a 10 l/s\\nplt.ylim(0, 10)  # Establecer límite inferior en 0 y superior en 10\\n\\n# Configurar los formatos de fecha en el eje x\\nplt.gca().xaxis.set_major_formatter(mdates.DateFormatter(\\'%b/%Y\\'))\\nplt.gca().xaxis.set_major_locator(mdates.YearLocator())\\n\\n# Rotamos las fechas para una mejor visualización\\nplt.xticks(rotation=0)\\n\\n# Añadimos las etiquetas y el título\\nplt.xlabel(\\'Periodo\\')\\nplt.ylabel(\\'Qmedio_mensual_l/s\\')\\nplt.title(\\'ARPES-01\\')\\n\\n# Añadir la cuadrícula\\nplt.grid(True)\\n\\n# Ajustamos el formato y añadimos la leyenda\\nplt.tight_layout()\\nplt.legend()\\n\\n# Finalmente, mostramos el gráfico\\nplt.show()'"
      ]
     },
     "execution_count": 74,
     "metadata": {},
     "output_type": "execute_result"
    }
   ],
   "source": [
    "\"\"\"\"# Activa el estilo 'ggplot'\n",
    "plt.style.use('ggplot')\n",
    "\n",
    "# Suponiendo que Q_Medio_Mensual es tu DataFrame con los datos correctos y ya contiene una columna 'Mes-Año' de tipo datetime\n",
    "arpes01_data = Q_Medio_Mensual_filtrado[Q_Medio_Mensual_filtrado['Origen'] == 'ARPES-01'].copy()\n",
    "\n",
    "# Asegurándonos de que la columna 'Mes-Año' sea de tipo datetime\n",
    "arpes01_data['Mes-Año'] = pd.to_datetime(arpes01_data['Mes-Año'], format='%m-%Y')\n",
    "\n",
    "# Graficar todos los datos por año\n",
    "plt.figure(figsize=(15, 7))\n",
    "for year in arpes01_data['Mes-Año'].dt.year.unique():\n",
    "    # Filtramos los datos para el año específico.\n",
    "    yearly_data = arpes01_data[arpes01_data['Mes-Año'].dt.year == year]\n",
    "    plt.scatter(yearly_data['Mes-Año'], yearly_data['Qmedio_mensual_l/s'], label=f'Año {year}', alpha=0.6)\n",
    "\n",
    "# Ajustamos el límite superior del eje y a 10 l/s\n",
    "plt.ylim(0, 10)  # Establecer límite inferior en 0 y superior en 10\n",
    "\n",
    "# Configurar los formatos de fecha en el eje x\n",
    "plt.gca().xaxis.set_major_formatter(mdates.DateFormatter('%b/%Y'))\n",
    "plt.gca().xaxis.set_major_locator(mdates.YearLocator())\n",
    "\n",
    "# Rotamos las fechas para una mejor visualización\n",
    "plt.xticks(rotation=0)\n",
    "\n",
    "# Añadimos las etiquetas y el título\n",
    "plt.xlabel('Periodo')\n",
    "plt.ylabel('Qmedio_mensual_l/s')\n",
    "plt.title('ARPES-01')\n",
    "\n",
    "# Añadir la cuadrícula\n",
    "plt.grid(True)\n",
    "\n",
    "# Ajustamos el formato y añadimos la leyenda\n",
    "plt.tight_layout()\n",
    "plt.legend()\n",
    "\n",
    "# Finalmente, mostramos el gráfico\n",
    "plt.show()\"\"\"\n"
   ]
  },
  {
   "cell_type": "code",
   "execution_count": 61,
   "metadata": {},
   "outputs": [],
   "source": [
    "def save_to_excel(df, output_path):\n",
    "    \"\"\"\n",
    "    Guarda el DataFrame proporcionado en un archivo Excel.\n",
    "\n",
    "    Args:\n",
    "        df (pd.DataFrame): DataFrame a guardar.\n",
    "        output_path (str): Ruta del archivo Excel de salida.\n",
    "    \"\"\"\n",
    "    df.to_excel(output_path, index=False)"
   ]
  },
  {
   "cell_type": "code",
   "execution_count": 62,
   "metadata": {},
   "outputs": [
    {
     "data": {
      "text/html": [
       "<div>\n",
       "<style scoped>\n",
       "    .dataframe tbody tr th:only-of-type {\n",
       "        vertical-align: middle;\n",
       "    }\n",
       "\n",
       "    .dataframe tbody tr th {\n",
       "        vertical-align: top;\n",
       "    }\n",
       "\n",
       "    .dataframe thead th {\n",
       "        text-align: right;\n",
       "    }\n",
       "</style>\n",
       "<table border=\"1\" class=\"dataframe\">\n",
       "  <thead>\n",
       "    <tr style=\"text-align: right;\">\n",
       "      <th></th>\n",
       "      <th>Origen</th>\n",
       "      <th>Fecha</th>\n",
       "      <th>Qmedio_mensual_l/s</th>\n",
       "    </tr>\n",
       "  </thead>\n",
       "  <tbody>\n",
       "    <tr>\n",
       "      <th>0</th>\n",
       "      <td>ARPES-01</td>\n",
       "      <td>2014-01-01</td>\n",
       "      <td>7.469478</td>\n",
       "    </tr>\n",
       "    <tr>\n",
       "      <th>1</th>\n",
       "      <td>ARPES-01</td>\n",
       "      <td>2014-02-01</td>\n",
       "      <td>7.236663</td>\n",
       "    </tr>\n",
       "    <tr>\n",
       "      <th>2</th>\n",
       "      <td>ARPES-01</td>\n",
       "      <td>2014-03-01</td>\n",
       "      <td>7.484759</td>\n",
       "    </tr>\n",
       "    <tr>\n",
       "      <th>3</th>\n",
       "      <td>ARPES-01</td>\n",
       "      <td>2014-04-01</td>\n",
       "      <td>8.274160</td>\n",
       "    </tr>\n",
       "    <tr>\n",
       "      <th>4</th>\n",
       "      <td>ARPES-01</td>\n",
       "      <td>2014-05-01</td>\n",
       "      <td>7.291134</td>\n",
       "    </tr>\n",
       "  </tbody>\n",
       "</table>\n",
       "</div>"
      ],
      "text/plain": [
       "     Origen      Fecha  Qmedio_mensual_l/s\n",
       "0  ARPES-01 2014-01-01            7.469478\n",
       "1  ARPES-01 2014-02-01            7.236663\n",
       "2  ARPES-01 2014-03-01            7.484759\n",
       "3  ARPES-01 2014-04-01            8.274160\n",
       "4  ARPES-01 2014-05-01            7.291134"
      ]
     },
     "execution_count": 62,
     "metadata": {},
     "output_type": "execute_result"
    }
   ],
   "source": [
    "# Ejemplo de uso\n",
    "Q_Medio_Mensual_filtrado_final = Q_Medio_Mensual_filtrado[['Origen', 'Fecha', 'Qmedio_mensual_l/s']].copy()\n",
    "save_to_excel(Q_Medio_Mensual_filtrado_final, 'Q_Medio_Mensual_output_17072024.xlsx')\n",
    "Q_Medio_Mensual_filtrado_final.head()"
   ]
  },
  {
   "cell_type": "markdown",
   "metadata": {},
   "source": [
    "# Flujo 4 preprocesamiento4 de datos\n",
    "### - Agregar columna 'Mes-Año'\n",
    "### - Validación Rango variable Caudal Calculada Caudal Medio Menesual l/s\n",
    "### - Creación un nuevo campo Fecha\n",
    "### - Valida la la cantidad de datos por año en términos de volumen\n",
    "### - Generar Estadísticas Descriptivas\n",
    "### - Grafica la evolución temporal del caudal medio mensual por Origen.\n",
    "### - exportar archivo procesado caudal medio mensual"
   ]
  },
  {
   "cell_type": "code",
   "execution_count": 78,
   "metadata": {},
   "outputs": [
    {
     "data": {
      "text/plain": [
       "\"Q_Medio_Mensual_filtrado_final = Q_Medio_Mensual_filtrado[['Origen', 'Fecha','Qmedio_mensual_l/s']].copy()\\nQ_Medio_Mensual_filtrado_final.head()\""
      ]
     },
     "execution_count": 78,
     "metadata": {},
     "output_type": "execute_result"
    }
   ],
   "source": [
    "\"\"\"Q_Medio_Mensual_filtrado_final = Q_Medio_Mensual_filtrado[['Origen', 'Fecha','Qmedio_mensual_l/s']].copy()\n",
    "Q_Medio_Mensual_filtrado_final.head()\"\"\""
   ]
  },
  {
   "cell_type": "code",
   "execution_count": 79,
   "metadata": {},
   "outputs": [
    {
     "data": {
      "text/plain": [
       "\"Q_Medio_Mensual_filtrado_final.to_excel('Q_Medio_Mensual_output.xlsx', index=False)\""
      ]
     },
     "execution_count": 79,
     "metadata": {},
     "output_type": "execute_result"
    }
   ],
   "source": [
    "\"\"\"Q_Medio_Mensual_filtrado_final.to_excel('Q_Medio_Mensual_output.xlsx', index=False)\"\"\""
   ]
  }
 ],
 "metadata": {
  "kernelspec": {
   "display_name": "Python 3",
   "language": "python",
   "name": "python3"
  },
  "language_info": {
   "codemirror_mode": {
    "name": "ipython",
    "version": 3
   },
   "file_extension": ".py",
   "mimetype": "text/x-python",
   "name": "python",
   "nbconvert_exporter": "python",
   "pygments_lexer": "ipython3",
   "version": "3.11.4"
  }
 },
 "nbformat": 4,
 "nbformat_minor": 2
}
